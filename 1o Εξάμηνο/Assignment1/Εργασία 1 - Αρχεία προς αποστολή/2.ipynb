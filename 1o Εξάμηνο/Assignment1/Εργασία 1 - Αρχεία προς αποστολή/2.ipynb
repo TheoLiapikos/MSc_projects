{
 "cells": [
  {
   "cell_type": "markdown",
   "metadata": {},
   "source": [
    "# NLP Assignment 1,  Part2"
   ]
  },
  {
   "cell_type": "markdown",
   "metadata": {},
   "source": [
    "## Εισαγωγή των απαραίτητων βιβλιοθηκών"
   ]
  },
  {
   "cell_type": "code",
   "execution_count": 85,
   "metadata": {},
   "outputs": [],
   "source": [
    "import os\n",
    "import re\n",
    "import pandas as pd\n",
    "import numpy as np\n",
    "import matplotlib.pyplot as plt\n",
    "import seaborn as sns\n",
    "sns.set()\n",
    "import operator\n",
    "\n",
    "from sklearn.model_selection import train_test_split\n",
    "from sklearn import metrics\n",
    "from sklearn.feature_extraction.text import CountVectorizer\n",
    "from sklearn.naive_bayes import MultinomialNB, GaussianNB, BernoulliNB\n",
    "from sklearn.linear_model import LogisticRegression\n",
    "from sklearn.model_selection import cross_val_score\n",
    "\n",
    "import nltk\n",
    "from nltk.stem.lancaster import LancasterStemmer\n",
    "from nltk.stem import WordNetLemmatizer\n",
    "from nltk.tokenize import word_tokenize\n",
    "\n",
    "from sklearn.pipeline import Pipeline\n",
    "from sklearn.model_selection import GridSearchCV\n",
    "from sklearn.feature_extraction import stop_words\n",
    "from sklearn.feature_extraction.text import TfidfVectorizer\n",
    "\n",
    "from IPython.display import HTML, display\n",
    "import tabulate"
   ]
  },
  {
   "cell_type": "markdown",
   "metadata": {},
   "source": [
    "## Χειρισμός των δεδομένων προς επεξεργασία"
   ]
  },
  {
   "cell_type": "markdown",
   "metadata": {},
   "source": [
    "### 1. Εισαγωγή των δεδομένων"
   ]
  },
  {
   "cell_type": "markdown",
   "metadata": {},
   "source": [
    "#### Τα έγγραφα εισόδου βρίσκονται στο υποφάκελο files του φακέλου (cwd) που περιέχει το τρέχον εκτελέσιμο Notebook"
   ]
  },
  {
   "cell_type": "code",
   "execution_count": 86,
   "metadata": {},
   "outputs": [],
   "source": [
    "cwd = os.getcwd()\n",
    "file_folder = cwd+\"/files/\""
   ]
  },
  {
   "cell_type": "markdown",
   "metadata": {},
   "source": [
    "#### Δομή DataFrame αποθήκευσης των απαραίτητων στοιχείων από τα έγγραφα. Περιλαμβάνουν την κατηγορία (cat), το id (text_id), το κείμενο (text) καθώς και τις 3 ανεξάρτητες αξιολογήσεις (l1,l2,l3) κάθε εγγράφου."
   ]
  },
  {
   "cell_type": "code",
   "execution_count": 87,
   "metadata": {},
   "outputs": [],
   "source": [
    "df = pd.DataFrame(columns=['cat','text_id','text','l1','l2','l3'])"
   ]
  },
  {
   "cell_type": "markdown",
   "metadata": {},
   "source": [
    "#### Μέθοδος εξαγωγής των απαραίτητων στοιχείων από τα έγγραφα εισόδου. Περιλαμβάνει τα στάδια:\n",
    "- #### Καταγραφή των ονομάτων των εγγράφων σε λίστα\n",
    "- #### Από κάθε έγγραφο κρατάω κάθε παράγραφο σε ξεχωριστή γραμμή της δομής αποθήκευσης μαζί με τα στοιχεία της κατήγορίας του εγγράφου, το id του και τις 3 αξιολογήσεις.\n",
    "- #### Τέλος εκτελείται ειδικός κώδικας, που για κάθε γραμμή-παράγραφο κάθε εγγράφου, υπολογίζει και κρατά την επικρατέστερη αξιολόγηση και διαγράφει τις 3 ανεξάρτητες.\n",
    "- #### Διαγράφονται οι παράγραφοι για τις οποίες υπάρχει τριπλή ισοπαλία στις αξιολογήσεις."
   ]
  },
  {
   "cell_type": "code",
   "execution_count": 88,
   "metadata": {},
   "outputs": [],
   "source": [
    "def read_files():\n",
    "    global df\n",
    "    # Λίστα αρχείων στο φάκελο files του current working directory\n",
    "    files = os. listdir(file_folder)\n",
    "   \n",
    "    # pattern για εξαγωγή στοιχείων του ονόματος των αρχειων (τύπου 'jdm_annotate10_210_1')\n",
    "    fn_pattern = '(.*)_(.*)_(.*)_(.)'\n",
    "   \n",
    "    for i in range(0, len(files), 3):\n",
    "        # Απαραίτητη η ταξινόμηση της λίστας\n",
    "        files = sorted(files)\n",
    "        # Βρίσκω patterns στο όνομα του αρχείου με την regular expression\n",
    "        fn_match = re.match(fn_pattern, files[i])\n",
    "        # Ανοίγω μια τριπλέτα αρχείων στη σειρά (αναφέρονταο στο ίδιο έγγραφο)\n",
    "        file1 = open(file_folder+files[i])\n",
    "        file2 = open(file_folder+files[i+1])\n",
    "        file3 = open(file_folder+files[i+2])\n",
    "        # Διαβάζω τα περιεχόμενά τους (λίστες γραμμών-παραγράφων)\n",
    "        content1 = file1.readlines()\n",
    "        content2 = file2.readlines()\n",
    "        content3 = file3.readlines()\n",
    "        # Σβήνω τις γραμμές ### abstract ### και ### introduction ###\n",
    "        for line in content1:\n",
    "            if ('### abstract ###' in line or '### introduction ###' in line):\n",
    "                content1.remove(line)\n",
    "        for line in content2:\n",
    "            if ('### abstract ###' in line or '### introduction ###' in line):\n",
    "                content2.remove(line)\n",
    "        for line in content3:\n",
    "            if ('### abstract ###' in line or '### introduction ###' in line):\n",
    "                content3.remove(line)\n",
    "        # Από κάθε μία γραμμή των περιεχομένων κρατάω τα στοιχεία που με ενδιαφέρουν:\n",
    "        # η κατηγορία εγγράφου, το id, το κείμενο και οι 3 αξιολογήσεις\n",
    "        for j in range(len(content1)):\n",
    "            line_temp = []\n",
    "            line_temp.append(fn_match.group(1))\n",
    "            line_temp.append(fn_match.group(3))\n",
    "            line_temp.append(content1[j][5:])\n",
    "            line_temp.append(content1[j][0:4])\n",
    "            \n",
    "            line_temp.append(content2[j][0:4])\n",
    "            line_temp.append(content3[j][0:4])\n",
    "   \n",
    "            # Η λίστα εισάγεται ως γραμμή στη γενική δομή αποθήκευσης\n",
    "            df = df.append(pd.Series(line_temp, index=['cat','text_id','text','l1','l2','l3']), ignore_index=1)\n",
    "   \n",
    "    # Διαδικασία εντοπισμού της επικρατέστερης αξιολόγησης.\n",
    "    # Για κάθε γραμμή-παράγραφο εγγράφου συλλέγω τις αξιολογήσεις σε λεξικό μαζί με\n",
    "    # το πλήθος εμφάνισης, ταξινομώ και κρατώ την πιο συχνή\n",
    "    final= {'labels':[]}\n",
    "    \n",
    "    for i in range(len(df)):\n",
    "        dic = {'AIMX': 0, 'OWNX': 0, 'CONT': 0, 'BASE': 0, 'MISC': 0, }\n",
    "        dic[df.iloc[i][3]] += 1\n",
    "        dic[df.iloc[i][4]] += 1\n",
    "        dic[df.iloc[i][5]] += 1\n",
    "        \n",
    "        sorted_dic = sorted(dic.items(), key=operator.itemgetter(1), reverse=True)\n",
    "        # Διαδικασία εντοπισμού και επισήμανσης περιπτώσεων τριπλής ισοπαλίας αξιολογήσεων\n",
    "        # ΔΕΝ μπορώ να διαγράψω από τώρα τις συγκεκριμένες γραμμές του df\n",
    "        if sorted_dic[0][1] > 1:\n",
    "            final['labels'].append(sorted_dic[0][0])\n",
    "        else:\n",
    "            final['labels'].append('TIE-TIE-TIE')\n",
    "    # Ενσωματώνω τη στήλη των τελικών αξιολογήσεων στη δομή αποθήκευσης\n",
    "    df = pd.concat([df, pd.DataFrame(final)], axis=1)\n",
    "    # Εναλλακτικός τρόπος για να προσθέσω τη νέα στήλη\n",
    "    #df['label'] = pd.Series((final['labels']), index=df.index)\n",
    "    # Διαγράφω τις στήλες των 3 αρχικών αξιολογήσεων\n",
    "    df.drop(['l1','l2','l3'], axis=1, inplace=True)\n",
    "    # Διαγράφω τις γραμμές που εντοπίστηκαν τριπλές ισοπαλίες αξιολογήσεων\n",
    "    df.drop(df.index[df.labels == 'TIE-TIE-TIE'], inplace=True)\n",
    "    # Ξαναδημιουργώ το indexing των γραμμών και διαγράφω το παλιό\n",
    "    df = df.reset_index(drop=True)"
   ]
  },
  {
   "cell_type": "code",
   "execution_count": 89,
   "metadata": {},
   "outputs": [],
   "source": [
    "read_files()"
   ]
  },
  {
   "cell_type": "code",
   "execution_count": 90,
   "metadata": {},
   "outputs": [
    {
     "data": {
      "text/html": [
       "<div>\n",
       "<style scoped>\n",
       "    .dataframe tbody tr th:only-of-type {\n",
       "        vertical-align: middle;\n",
       "    }\n",
       "\n",
       "    .dataframe tbody tr th {\n",
       "        vertical-align: top;\n",
       "    }\n",
       "\n",
       "    .dataframe thead th {\n",
       "        text-align: right;\n",
       "    }\n",
       "</style>\n",
       "<table border=\"1\" class=\"dataframe\">\n",
       "  <thead>\n",
       "    <tr style=\"text-align: right;\">\n",
       "      <th></th>\n",
       "      <th>cat</th>\n",
       "      <th>text_id</th>\n",
       "      <th>text</th>\n",
       "      <th>labels</th>\n",
       "    </tr>\n",
       "  </thead>\n",
       "  <tbody>\n",
       "    <tr>\n",
       "      <th>0</th>\n",
       "      <td>arxiv</td>\n",
       "      <td>7</td>\n",
       "      <td>The Minimum Description Length principle for o...</td>\n",
       "      <td>MISC</td>\n",
       "    </tr>\n",
       "    <tr>\n",
       "      <th>1</th>\n",
       "      <td>arxiv</td>\n",
       "      <td>7</td>\n",
       "      <td>If the underlying model class is discrete, the...</td>\n",
       "      <td>MISC</td>\n",
       "    </tr>\n",
       "    <tr>\n",
       "      <th>2</th>\n",
       "      <td>arxiv</td>\n",
       "      <td>7</td>\n",
       "      <td>For MDL, in general one can only have loss bou...</td>\n",
       "      <td>MISC</td>\n",
       "    </tr>\n",
       "    <tr>\n",
       "      <th>3</th>\n",
       "      <td>arxiv</td>\n",
       "      <td>7</td>\n",
       "      <td>We show that this is even the case if the mode...</td>\n",
       "      <td>AIMX</td>\n",
       "    </tr>\n",
       "    <tr>\n",
       "      <th>4</th>\n",
       "      <td>arxiv</td>\n",
       "      <td>7</td>\n",
       "      <td>We derive a new upper bound on the prediction ...</td>\n",
       "      <td>OWNX</td>\n",
       "    </tr>\n",
       "  </tbody>\n",
       "</table>\n",
       "</div>"
      ],
      "text/plain": [
       "     cat text_id                                               text labels\n",
       "0  arxiv       7  The Minimum Description Length principle for o...   MISC\n",
       "1  arxiv       7  If the underlying model class is discrete, the...   MISC\n",
       "2  arxiv       7  For MDL, in general one can only have loss bou...   MISC\n",
       "3  arxiv       7  We show that this is even the case if the mode...   AIMX\n",
       "4  arxiv       7  We derive a new upper bound on the prediction ...   OWNX"
      ]
     },
     "execution_count": 90,
     "metadata": {},
     "output_type": "execute_result"
    }
   ],
   "source": [
    "df.head()"
   ]
  },
  {
   "cell_type": "markdown",
   "metadata": {},
   "source": [
    "#### ΕΝΑΛΛΑΚΤΙΚΗ ΔΙΑΔΙΚΑΣΙΑ ΩΣΤΕ ΝΑ ΑΠΟΦΕΥΓΩ ΤΟ ΣΥΝΕΧΕΣ ΔΙΑΒΑΣΜΑ ΤΩΝ ΑΡΧΕΙΩΝ<br>Αποθηκεύω τα μέχρι τώρα επεξεργασμένα δεδομένα σε αρχείο .csv, το οποίο και απλά διαβάζω κάθε φορά που θέλω να ξαναφορτώσω τα δεδομένα από την αρχή. Χρησιμοποιώ τις εντολές:"
   ]
  },
  {
   "cell_type": "code",
   "execution_count": 91,
   "metadata": {},
   "outputs": [],
   "source": [
    "# Τα συνολικά Data σε μορφή .csv\n",
    "# df.to_csv('total_data.csv', columns=['cat','text_id','text','labels'], index=False)\n",
    "# Διάβασμα των δεδομένων από το .csv\n",
    "# df = pd.DataFrame()\n",
    "# df = pd.read_csv('total_data.csv')"
   ]
  },
  {
   "cell_type": "code",
   "execution_count": 92,
   "metadata": {},
   "outputs": [],
   "source": [
    "# df.head()"
   ]
  },
  {
   "cell_type": "markdown",
   "metadata": {},
   "source": [
    "### 2. Διαχωρισμός των μεταβλητών των δεδομένων"
   ]
  },
  {
   "cell_type": "code",
   "execution_count": 93,
   "metadata": {},
   "outputs": [],
   "source": [
    "# Δομές αποθήκευσης των ανεξάρτητων μεταβλήτων (Χ), της εξαρτημένης μεταβλητής (Υ) καθώς\n",
    "# και των ετικετών της.\n",
    "X = df['text'].copy()\n",
    "Y = df['labels'].copy()\n",
    "y_labels = sorted(pd.Series(df['labels'].unique()))"
   ]
  },
  {
   "cell_type": "code",
   "execution_count": 94,
   "metadata": {},
   "outputs": [
    {
     "data": {
      "text/plain": [
       "(0    The Minimum Description Length principle for o...\n",
       " 1    If the underlying model class is discrete, the...\n",
       " 2    For MDL, in general one can only have loss bou...\n",
       " 3    We show that this is even the case if the mode...\n",
       " 4    We derive a new upper bound on the prediction ...\n",
       " Name: text, dtype: object, 0    MISC\n",
       " 1    MISC\n",
       " 2    MISC\n",
       " 3    AIMX\n",
       " 4    OWNX\n",
       " Name: labels, dtype: object, ['AIMX', 'BASE', 'CONT', 'MISC', 'OWNX'])"
      ]
     },
     "execution_count": 94,
     "metadata": {},
     "output_type": "execute_result"
    }
   ],
   "source": [
    "X.head(), Y.head(), y_labels"
   ]
  },
  {
   "cell_type": "code",
   "execution_count": 95,
   "metadata": {},
   "outputs": [],
   "source": [
    "# Τα σύνολα εκπαίδευσης και ελέγχου των δεδομένων\n",
    "X_train, X_test, y_train, y_test = train_test_split(X, Y, test_size=0.25, random_state=42, stratify=Y)"
   ]
  },
  {
   "cell_type": "markdown",
   "metadata": {},
   "source": [
    "#### 2.1 Ποιοτικός έλεγχος των δεδομένων - Κατανομή δεδομένων ανά κατηγορία"
   ]
  },
  {
   "cell_type": "code",
   "execution_count": 96,
   "metadata": {},
   "outputs": [
    {
     "name": "stdout",
     "output_type": "stream",
     "text": [
      "Κατανομή των κλάσεων στα συνολικά δεδομένα:\n",
      "Συνολικό πλήθος: 1035\n",
      "   MISC\t625\t0.60%\n",
      "   AIMX\t63\t0.06%\n",
      "   OWNX\t285\t0.28%\n",
      "   CONT\t44\t0.04%\n",
      "   BASE\t18\t0.02%\n",
      "\n",
      "Κατανομή των κλάσεων στα δεδομένα εκπαίδευσης:\n",
      "Συνολικό πλήθος: 776\n",
      "   MISC\t469\t0.60%\n",
      "   AIMX\t47\t0.06%\n",
      "   OWNX\t214\t0.28%\n",
      "   CONT\t33\t0.04%\n",
      "   BASE\t13\t0.02%\n",
      "\n",
      "Κατανομή των κλάσεων στα δεδομένα ελέγχου:\n",
      "Συνολικό πλήθος: 259\n",
      "   MISC\t156\t0.60%\n",
      "   AIMX\t16\t0.06%\n",
      "   OWNX\t71\t0.27%\n",
      "   CONT\t11\t0.04%\n",
      "   BASE\t5\t0.02%\n"
     ]
    }
   ],
   "source": [
    "classes = df.labels.unique()\n",
    "total_counts = df.labels.count()\n",
    "\n",
    "print('Κατανομή των κλάσεων στα συνολικά δεδομένα:')\n",
    "print('Συνολικό πλήθος:', total_counts)\n",
    "for c in classes:\n",
    "    counts = df.labels[df.labels == c].count()\n",
    "    percent = counts/total_counts\n",
    "    print('   %s\\t%d\\t%0.2f%s' % (c, counts, percent, '%'))\n",
    "\n",
    "yTrainDF = pd.DataFrame(y_train)\n",
    "counts_train = yTrainDF.labels.count()\n",
    "print('\\nΚατανομή των κλάσεων στα δεδομένα εκπαίδευσης:')\n",
    "print('Συνολικό πλήθος:', counts_train)\n",
    "for c in classes:\n",
    "    counts = yTrainDF.labels[yTrainDF.labels == c].count()\n",
    "    percent = counts/counts_train\n",
    "    print('   %s\\t%d\\t%0.2f%s' % (c, counts, percent, '%'))\n",
    "\n",
    "yTestDF = pd.DataFrame(y_test)\n",
    "counts_test = yTestDF.labels.count()\n",
    "print('\\nΚατανομή των κλάσεων στα δεδομένα ελέγχου:')\n",
    "print('Συνολικό πλήθος:', counts_test)\n",
    "for c in classes:\n",
    "    counts = yTestDF.labels[yTestDF.labels == c].count()\n",
    "    percent = counts/counts_test\n",
    "    print('   %s\\t%d\\t%0.2f%s' % (c, counts, percent, '%'))"
   ]
  },
  {
   "cell_type": "markdown",
   "metadata": {},
   "source": [
    "#### ***Αξιολόγηση αποτελεσμάτων***\n",
    "#### Παρατηρώ ακραίες διακυμάνσεις στην κατανομή των κλάσεων στα προς επεξεργασία έγγραφα. Έτσι μία κλάση κατέχει μόνη της το ***60%*** των εγγράφων, ενώ οι 2 πολυπληθέστερες κλάσεις κατέχουν αθροιστικά το ***88%*** των συνολικών εγγράφων, με τις υπόλοιπες 3 να έχουν ποσοστά από 2 έως το πολύ 6%. Αυτή η ανισοβαρής κατανομή των κλάσεων ίσως προκαλέσει προβλήματα στην ακόλουθη διαδικασία ταξινόμησης."
   ]
  },
  {
   "cell_type": "code",
   "execution_count": null,
   "metadata": {},
   "outputs": [],
   "source": []
  },
  {
   "cell_type": "markdown",
   "metadata": {},
   "source": [
    "### 3x. Μετασχηματισμός των κατηγορηματικών μεταβλητών σε αριθμητικές\n",
    "#### Μέθοδος μετατροπής των κατηγορηματικών μεταβλητών σε αριθμητικές για πιθανή αξιοποίηση. Η εξαρτημένη μεταβλητή Υ θα μετατραπεί με απλή αντικατάσταση, ενώ η ανεξάρτητη μεταβλητή cat θα μετατραπεί με One Hot Encoding των pandas"
   ]
  },
  {
   "cell_type": "code",
   "execution_count": 97,
   "metadata": {},
   "outputs": [],
   "source": [
    "def catToNum():\n",
    "    global X,Y\n",
    "    labels = sorted(pd.Series(df['labels'].unique()))\n",
    "    Y_cat_to_num = {}\n",
    "    cat_to_num = {}\n",
    "    for i in range(len(labels)):\n",
    "        cat_to_num[labels[i]] = i\n",
    "    Y_cat_to_num['labels'] = cat_to_num\n",
    "    # Η τεχνική δουλεύει σε DataFrames\n",
    "    Y = pd.DataFrame(Y)\n",
    "    Y.replace(Y_cat_to_num, inplace=True)\n",
    "    \n",
    "    # Η \n",
    "    X = X.copy()\n",
    "    X = pd.get_dummies(X, columns=['cat'])\n",
    "    # Αναδιάταξη των στηλών\n",
    "    X = X[['cat_arxiv', 'cat_jdm', 'cat_plos', 'text']]\n",
    "\n",
    "# X1 = df[['cat', 'text']]\n",
    "# Y1 = df['labels'].copy()\n",
    "# catToNum()\n",
    "# X1.head(), Y1.head()"
   ]
  },
  {
   "cell_type": "markdown",
   "metadata": {},
   "source": [
    "### 3. Βασικό Data Preprocessing των δεδομένων με τη επιπρόσθετη δυνατότητα stemming ή/και lemmatization"
   ]
  },
  {
   "cell_type": "markdown",
   "metadata": {},
   "source": [
    "#### Μέθοδος Data Preprocessing των κειμένων των δεδομένων εκπαίδευσης Χ. Δέχεται ένα-ένα τα κείμενα εισόδου και κάνει τις εξής τροποποιήσεις:\n",
    "- #### Αντικατάσταση κάθε αριθμού με τη λέξη NUMBER\n",
    "- #### Αφαίρεση μη αλφαριθμητικών χαρακτήρων\n",
    "- #### Αφαίρεση  βασικών σημείων στίξης\n",
    "- #### Αφαίρεση πολλαπλών κενών\n",
    "- #### Διαχωρισμός των προτάσεων σε λέξεις (tokenization)\n",
    "- #### Επιλογή αν οι λέξεις θα υποστούν Stemming ή/και Lemmatization\n",
    "- #### Τέλος οι λέξεις ξανασχηματίζουν τις προτάσεις για να μετατραπούν σε vectors\n"
   ]
  },
  {
   "cell_type": "code",
   "execution_count": 98,
   "metadata": {},
   "outputs": [],
   "source": [
    "def preProc(data, stemming=False, lemmatize=False):\n",
    "    ls = LancasterStemmer()\n",
    "    wnl = WordNetLemmatizer()\n",
    "    # Απενεργοποίηση κάποιων συχνών προειδοποιητικών μηνυμάτων των pandas\n",
    "    pd.options.mode.chained_assignment = None\n",
    "    for i in range(len(data)):\n",
    "        data[i] = re.sub(r'\\d+','NUMBER', data[i])\n",
    "        data[i] = re.sub(r'\\W+',' ', data[i])\n",
    "        data[i] = re.sub(r'[\\(\\)\\[\\]~\\.\\?\\',/\\\\]',' ',data[i])\n",
    "        data[i] = re.sub(r'\\s+',' ',data[i])\n",
    "        data[i] = data[i].lower()\n",
    "        words = word_tokenize(data[i])\n",
    "        if stemming & lemmatize:\n",
    "            data[i] = ' '.join([wnl.lemmatize(ls.stem(w)) for w in words])\n",
    "            continue\n",
    "        if stemming:\n",
    "            data[i] = ' '.join([ls.stem(w) for w in words])\n",
    "        if lemmatize:\n",
    "            data[i] = ' '.join([wnl.lemmatize(w) for w in words])"
   ]
  },
  {
   "cell_type": "code",
   "execution_count": null,
   "metadata": {},
   "outputs": [],
   "source": []
  },
  {
   "cell_type": "markdown",
   "metadata": {},
   "source": [
    "## Ανεξάρτητη εκτέλεση και αξιολόγηση των αλγορίθμων με χρήση βασικού Preprocessing των δεδομένων και των εξ' ορισμού (default) τιμών παραμέτρων."
   ]
  },
  {
   "cell_type": "markdown",
   "metadata": {},
   "source": [
    "#### Μέθοδος αξιολόγησης της απόδοσης κάθε αλγορίθμου, με βάση τις προβλέψεις (predictions) επί του συνόλου ελέγχου των δεδομένων εισόδου.\n",
    "#### Η αξιολόγηση βασίζεται στις κατάλληλες μετρικές και αποδίδεται οπτικά με τη κατασκευή (προαιρετική) του γραφήματος του Confusion Matrix\n",
    "[Scikit-learn Evaluation Metrics Documentation](https://scikit-learn.org/stable/modules/model_evaluation.html)"
   ]
  },
  {
   "cell_type": "code",
   "execution_count": 99,
   "metadata": {},
   "outputs": [],
   "source": [
    "def evalAlg(predictions, algName, confMatrix=False):\n",
    "    algorithm = algName\n",
    "    \n",
    "    print('\\n\\n____________________________________________________________________')\n",
    "    print('\\nUsed Algorithm:', algorithm)\n",
    "    \n",
    "    # Επιστρέφει το Accuracy\n",
    "    acc = metrics.accuracy_score(y_test, predictions)\n",
    "    # Επιστρέφει το Average Precision\n",
    "#        precision = metrics.precision_score(y_test, predictions, average='weighted')\n",
    "    # Επιστρέφει το Average Recall\n",
    "#        recall = metrics.recall_score(y_test, predictions, average='weighted')\n",
    "    # Επιστρέφει το F1-score\n",
    "#        f1score = metrics.f1_score(y_test, predictions, average='weighted')\n",
    "    # Επιστρέφει το classification report\n",
    "    # Η παράμετρος labels=np.unique(predictions) είναι απαραίτητη γιατί, όπως θα φανεί παρακάτω, υπάρχουν\n",
    "    # περιπτώσεις όπου ορισμένες κλάσεις δεν εμφανίζονται καθόλου στα predictions, προκαλώντας μηδενισμό\n",
    "    # στον υπολογισμό της F1 και την εμφάνιση αντίστοιχων προειδοποιητικών μηνυμάτων.\n",
    "    classificationReport = metrics.classification_report(y_test, predictions, labels=np.unique(predictions))\n",
    "    \n",
    "    print(\"Accuracy: %.2f\" %acc)\n",
    "    print(\"Classification Report: \\n\", classificationReport)\n",
    "    \n",
    "    # Εκτύπωση του γραφήματος του Confusion Matrix\n",
    "    if(confMatrix):\n",
    "        confusionMatrix = metrics.confusion_matrix(y_test, predictions)\n",
    "        plt.figure(figsize=(8, 6))\n",
    "        plt.imshow(confusionMatrix, interpolation='nearest', cmap='Blues')\n",
    "        plt.title(\"Confusion Matrix - \" + algorithm, size = 15)\n",
    "        plt.ylabel('True label', size = 15)\n",
    "        plt.xlabel('Predicted label', size = 15)\n",
    "        tick_marks = np.arange(len(y_labels))\n",
    "        plt.xticks(tick_marks, y_labels, rotation=45)\n",
    "        plt.yticks(tick_marks, y_labels)\n",
    "        plt.colorbar()\n",
    "        plt.show()\n",
    "    \n",
    "    # Σημαντική παράμετρος - Πόσες από τις κλάσεις εμφανίζονται στις προβλέψεις του αλγορίθμου\n",
    "        print('Categories in the predicted set: ' + str(np.unique(predictions)))\n",
    "        if(len(set(y_test) - set(predictions)) != 0):\n",
    "            print('Categories never predicted in test set: ' + str(set(y_test) - set(predictions)))\n"
   ]
  },
  {
   "cell_type": "markdown",
   "metadata": {},
   "source": [
    "#### Μετατροπή των δεδομένων εισόδου σε διανύσματα (vectors), ώστε να είναι δυνατή η χρήση τους από τις μεθόδους των αλγορίθμων. Αξιοποιείται η κατάλληλη μέθοδος της βιβλιοθήκης sklearn, με χρήση των εξ' ορισμού (default) τιμών παραμέτρων.\n",
    "#### Επιστρέφει τα διανύσματα των δεδομένων εισόδου."
   ]
  },
  {
   "cell_type": "code",
   "execution_count": 100,
   "metadata": {},
   "outputs": [],
   "source": [
    "def cVect(xTrain, xTest):\n",
    "    # Εξαγωγή του λεξιλογίου (vocabulary) των εγγράφων εκπαίδευσης\n",
    "    cnts_transformer = CountVectorizer().fit(xTrain)\n",
    "    \n",
    "    # Μετατροπή των εγγράφων σε document-term (sparse) matrix.\n",
    "    xTrain_cnts = cnts_transformer.transform(xTrain)\n",
    "    xTest_cnts = cnts_transformer.transform(xTest)\n",
    "    \n",
    "    print(\"Διαστάσεις του πίνακα των δεδομένων εκπαίδευσης:\", xTrain_cnts.shape)\n",
    "    print(\"Διαστάσεις του πίνακα των δεδομένων ελέγχου:\", xTest_cnts.shape)\n",
    "    \n",
    "    return (xTrain_cnts, xTest_cnts)"
   ]
  },
  {
   "cell_type": "markdown",
   "metadata": {},
   "source": [
    "#### Υλοποίηση των αλγορίθμων με χρήση των κατάλληλων μεθόδων της βιβλιοθήκης sklearn. Η εκτέλεση του κάθε αλγορίθμου έχει σαν αποτέλεσμα:\n",
    "- #### Την επιστροφή του αντίστοιχου εκπαιδευμένου Classifier.\n",
    "- #### Την επιστροφή των αντίστοιχων προβλέψεων (predictions) επί του συνόλου ελέγχου.\n",
    "- #### Επιλογή αν θα ακολουθήσει αξιολόγηση της επίδοσης του αλγορίθμου και προβολή του αντίστοιχου Confusion Matrix."
   ]
  },
  {
   "cell_type": "code",
   "execution_count": 101,
   "metadata": {},
   "outputs": [],
   "source": [
    "#*****  Multinomial Naive Bayes  *****#\n",
    "def multiNB(xTrain, xTest, evaluation=False, confMatrix=False):\n",
    "    classifier = MultinomialNB().fit(xTrain, y_train)\n",
    "    predictions = classifier.predict(xTest)\n",
    "    if(evaluation):\n",
    "        evalAlg(predictions, 'Multinomial Naive Bayes', confMatrix=confMatrix)\n",
    "    return (classifier, predictions)\n",
    "\n",
    "#*****  Gaussian Naive Bayes  *****#\n",
    "def gsnNB(xTrain, xTest, evaluation=False, confMatrix=False):\n",
    "    classifier = GaussianNB().fit(xTrain.todense(), y_train)\n",
    "    predictions = classifier.predict(xTest.todense())\n",
    "    if(evaluation):\n",
    "        evalAlg(predictions, 'Gaussian Naive Bayes', confMatrix=confMatrix)\n",
    "    return (classifier, predictions)\n",
    "\n",
    "#*****  Bernulli Naive Bayes  *****#\n",
    "def brlNB(xTrain, xTest, evaluation=False, confMatrix=False):\n",
    "    classifier = BernoulliNB().fit(xTrain, y_train)\n",
    "    predictions = classifier.predict(xTest)\n",
    "    if(evaluation):\n",
    "        evalAlg(predictions, 'Bernulli Naive Bayes', confMatrix=confMatrix)\n",
    "    return (classifier, predictions)\n",
    "\n",
    "#*****  Logistic Regression  *****#\n",
    "# Ο καθορισμός συγκεκριμένου solver και multi_class έγινε για την αποφυγή εμφάνισης διαφόρων\n",
    "# προειδοποιητικών μηνυμάτων κατά την εκτέλεση\n",
    "def lgcReg(xTrain, xTest, evaluation=False, confMatrix=False):\n",
    "    classifier = LogisticRegression(solver='lbfgs', multi_class = 'auto').fit(xTrain, y_train)\n",
    "    predictions = classifier.predict(xTest)\n",
    "    if(evaluation):\n",
    "        evalAlg(predictions, 'Logistic Regression', confMatrix=confMatrix)\n",
    "    return (classifier, predictions)"
   ]
  },
  {
   "cell_type": "markdown",
   "metadata": {},
   "source": [
    "#### Εκτέλεση και αξιολόγηση των αλγορίθμων"
   ]
  },
  {
   "cell_type": "code",
   "execution_count": 102,
   "metadata": {},
   "outputs": [
    {
     "name": "stdout",
     "output_type": "stream",
     "text": [
      "Διαστάσεις του πίνακα των δεδομένων εκπαίδευσης: (776, 3432)\n",
      "Διαστάσεις του πίνακα των δεδομένων ελέγχου: (259, 3432)\n",
      "\n",
      "\n",
      "____________________________________________________________________\n",
      "\n",
      "Used Algorithm: Gaussian Naive Bayes\n",
      "Accuracy: 0.61\n",
      "Classification Report: \n",
      "               precision    recall  f1-score   support\n",
      "\n",
      "        AIMX       0.20      0.06      0.10        16\n",
      "        BASE       0.00      0.00      0.00         5\n",
      "        CONT       0.50      0.09      0.15        11\n",
      "        MISC       0.68      0.79      0.73       156\n",
      "        OWNX       0.46      0.44      0.45        71\n",
      "\n",
      "   micro avg       0.61      0.61      0.61       259\n",
      "   macro avg       0.37      0.28      0.29       259\n",
      "weighted avg       0.57      0.61      0.58       259\n",
      "\n"
     ]
    },
    {
     "data": {
      "image/png": "[encoded data removed]",
      "text/plain": [
       "<Figure size 576x432 with 2 Axes>"
      ]
     },
     "metadata": {},
     "output_type": "display_data"
    },
    {
     "name": "stdout",
     "output_type": "stream",
     "text": [
      "Categories in the predicted set: ['AIMX' 'BASE' 'CONT' 'MISC' 'OWNX']\n",
      "\n",
      "\n",
      "____________________________________________________________________\n",
      "\n",
      "Used Algorithm: Multinomial Naive Bayes\n",
      "Accuracy: 0.71\n",
      "Classification Report: \n",
      "               precision    recall  f1-score   support\n",
      "\n",
      "        AIMX       0.00      0.00      0.00        16\n",
      "        MISC       0.73      0.94      0.82       156\n",
      "        OWNX       0.67      0.54      0.59        71\n",
      "\n",
      "   micro avg       0.71      0.76      0.73       243\n",
      "   macro avg       0.47      0.49      0.47       243\n",
      "weighted avg       0.66      0.76      0.70       243\n",
      "\n"
     ]
    },
    {
     "data": {
      "image/png": "[encoded data removed]",
      "text/plain": [
       "<Figure size 576x432 with 2 Axes>"
      ]
     },
     "metadata": {},
     "output_type": "display_data"
    },
    {
     "name": "stdout",
     "output_type": "stream",
     "text": [
      "Categories in the predicted set: ['AIMX' 'MISC' 'OWNX']\n",
      "Categories never predicted in test set: {'BASE', 'CONT'}\n",
      "\n",
      "\n",
      "____________________________________________________________________\n",
      "\n",
      "Used Algorithm: Bernulli Naive Bayes\n",
      "Accuracy: 0.69\n",
      "Classification Report: \n",
      "               precision    recall  f1-score   support\n",
      "\n",
      "        MISC       0.68      0.97      0.80       156\n",
      "        OWNX       0.79      0.38      0.51        71\n",
      "\n",
      "   micro avg       0.69      0.79      0.74       227\n",
      "   macro avg       0.73      0.68      0.66       227\n",
      "weighted avg       0.71      0.79      0.71       227\n",
      "\n"
     ]
    },
    {
     "data": {
      "image/png": "[encoded data removed]",
      "text/plain": [
       "<Figure size 576x432 with 2 Axes>"
      ]
     },
     "metadata": {},
     "output_type": "display_data"
    },
    {
     "name": "stdout",
     "output_type": "stream",
     "text": [
      "Categories in the predicted set: ['MISC' 'OWNX']\n",
      "Categories never predicted in test set: {'AIMX', 'BASE', 'CONT'}\n",
      "\n",
      "\n",
      "____________________________________________________________________\n",
      "\n",
      "Used Algorithm: Logistic Regression\n",
      "Accuracy: 0.74\n",
      "Classification Report: \n",
      "               precision    recall  f1-score   support\n",
      "\n",
      "        AIMX       0.67      0.25      0.36        16\n",
      "        CONT       0.00      0.00      0.00        11\n",
      "        MISC       0.77      0.94      0.85       156\n",
      "        OWNX       0.66      0.58      0.62        71\n",
      "\n",
      "   micro avg       0.74      0.75      0.74       254\n",
      "   macro avg       0.53      0.44      0.46       254\n",
      "weighted avg       0.70      0.75      0.72       254\n",
      "\n"
     ]
    },
    {
     "data": {
      "image/png": "[encoded data removed]",
      "text/plain": [
       "<Figure size 576x432 with 2 Axes>"
      ]
     },
     "metadata": {},
     "output_type": "display_data"
    },
    {
     "name": "stdout",
     "output_type": "stream",
     "text": [
      "Categories in the predicted set: ['AIMX' 'CONT' 'MISC' 'OWNX']\n",
      "Categories never predicted in test set: {'BASE'}\n"
     ]
    }
   ],
   "source": [
    "def callEvalAlgs(xTrain, xTest, evaluation=False, confMatrix=False):\n",
    "    gnb_clf, gnb_pred = gsnNB(xTrain, xTest, evaluation, confMatrix)\n",
    "    mnb_clf, mnb_pred = multiNB(xTrain, xTest, evaluation, confMatrix)\n",
    "    bnb_clf, bnb_pred = brlNB(xTrain, xTest, evaluation, confMatrix)\n",
    "    lgr_clf, lgr_pred = lgcReg(xTrain, xTest, evaluation, confMatrix)\n",
    "\n",
    "# Αναδόμηση των δεδομένων εισόδου\n",
    "X = df['text'].copy()\n",
    "# Βασικό Preprocessing των Χ πριν το διαχωρισμό τους\n",
    "preProc(X, stemming=False, lemmatize=False)\n",
    "# Διαχωρισμός των δεδομένων εκπαίδευσης και ελέγχου\n",
    "X_train, X_test, y_train, y_test = train_test_split(X, Y, test_size=0.25, random_state=42, stratify=Y)\n",
    "\n",
    "# Μετατροπή των ανεξάρτητων μεταβλητών Χ σε vectors\n",
    "X_train_cnts, X_test_cnts = cVect(X_train, X_test)\n",
    "# Κλήση και (προαιρετική) αξιολόγηση των αλγορίθμων\n",
    "callEvalAlgs(X_train_cnts, X_test_cnts, evaluation=True, confMatrix=True)"
   ]
  },
  {
   "cell_type": "markdown",
   "metadata": {},
   "source": [
    "### Αποτελέσματα απόδοσης των αλγορίθμων\n",
    "#### Σκοπός της συγκεκριμένης ενότητας ήταν να βγάλω ορισμένα πρώτα χρήσιμα στοιχεία αναφορικά με τη συμπεριφορά των αλγορίθμων, με ελάχιστες ή καθόλου παραμετροποιήσεις. Παρατηρώ τα παρακάτω:\n",
    "1. #### Οι γενικές αποδόσεις κυμαίνονται στα επίπεδα το 0.6-0.7, οι οποίες θεωρούνται γενικά ικανοποιητικές για την περίπτωση ταξινόμησης κειμένων.\n",
    "2. #### Ιδιαίτερη εντύπωση μου προκάλεσε το φαινόμενο όπου στους περισσότερους αλγορίθμους, πλην του GaussianlNB, από 1 έως και 3 από τις κλάσεις δεν εμφανίζονται καθόλου ως προβλέψεις στο σύνολο εγγράφων ελέγχου. Αυτό πιθανότατα έχει να κάνει με το γεγονός ότι οι συγκεκριμένες 3 κλάσεις είναι αυτές με το μικρότερο ποσοστό συμμετοχής στα συνολικά έγγραφα, όπως φάνηκε στην ενότητα 2.1 και κατά την εκπαίδευση των μοντέλων υποσκελίστηκαν πλήρως από τις αριθμητικά υπέρτερες κλάσεις."
   ]
  },
  {
   "cell_type": "code",
   "execution_count": null,
   "metadata": {},
   "outputs": [],
   "source": []
  },
  {
   "cell_type": "markdown",
   "metadata": {},
   "source": [
    "## Μελέτη και αξιολόγηση των αλγορίθμων με χρήση των κλάσεων Pipeline και GridSearchCV για τον προσδιορισμό των βέλτιστων τιμών των παραμέτρων τους."
   ]
  },
  {
   "cell_type": "markdown",
   "metadata": {},
   "source": [
    "#### Ακολουθεί αναλυτική μελέτη των 4 αλγορίθμων, ως προς την ικανότητά τους να εκπαιδευτούν να διαχωρίζουν τα δεδομένα εισόδου. Για τη μελέτη θα χρησιμοποιήσω:\n",
    "- #### την κλάση Pipeline της βιβλιοθήκης sklearn, που επιτρέπει το σειριακό συνδυασμό 2 ή και περισσοτέρων αλγορίθμων.\n",
    "- #### την κλάση GridSearchCV, επίσης της βιβλιοθήκης sklearn, που επιτρέπει την εκτενή μελέτη των παραμέτρων των αλγορίθμων του Pipeline, ώστε να επιτευχθεί το βέλτιστο αποτέλεσμα απόδοσης. Μεγάλη ευκολία της συγκεκριμένης μεθόδου είναι η αυτόματη εφαρμογή Cross Validation, οπότε στην είσοδο δηλώνω τα συνολικά δεδομένα Χ και Υ. Μέσω της παραμέτρου cv της μεθόδου επιλέγω τα δεδομένα να χωρίζονται σε 3 κομμάτια, για οικονομία χρόνου εκτέλεσης.<br>\n",
    "\n",
    "#### Οι προς μελέτη παράμετροι του κάθε αλγορίθμου ορίζονται με το χέρι καθώς και το εξεταζόμενο εύρος τιμών τους. Από τους διάφορες πολυάριθμες παραμέτρους επιλέγω να μελετήσω μόνο εκείνες που φαίνονται να έχουν κάποια επίπτωση στην απόδοση του αλγορίθμου.\n",
    "\n",
    "#### Της εκτέλεσης κάθε αλγορίθμου στο Pipelene προηγείται η εκτέλεση του αλγορίθμου TfidfVectorizer της βιβλιοθήκης sklearn, ο οποίος υλοποιεί τον αλγόριθμο TF-IDF και επιφέρει τις ακόλουθες αλλαγές στα δεδομένα:\n",
    "- #### Αρχικά εκτελείται ο αλγόριθμος TF, που μετατρέπει τα έγγραφα σε διανύσματα (vectors), ανάλογα με τον αλγόριθμο CountVectorizer, που χρησιμοποιήθηκε παραπάνω.\n",
    "- #### Στη συνέχεια εκτελείται ο αλγόριθμος IDF, ο οποίος κανονικοποιεί τις τιμές των features στα διανύσματα με βάση τη συχνότητα εμφάνισής τους στα έγγραφα, ευνοώντας τα σπανιότερα (και πιθανά με τη μεγαλύτερη διακριτική αξία) και υποβαθμίζοντας τα συχνότερα αυτών.\n",
    "\n",
    "#### Επιπλέον, το κάθε Pipeline συνδυασμού αλγορίθμων δοκιμάζεται με 3 διαφορετικούς συνδυασμούς Preprocessing των δεδομένων εισόδου (όπως ορίστηκε στη σχετική μέθοδο παραπάνω):\n",
    "- #### Βασικό Preprocessing\n",
    "- #### Βασικό Preprocessing + Stemming\n",
    "- #### Βασικό Preprocessing + Stemming + Lemmatization"
   ]
  },
  {
   "cell_type": "markdown",
   "metadata": {},
   "source": [
    "### Παραμετροποίηση του TF-IDF Vectorizer"
   ]
  },
  {
   "cell_type": "markdown",
   "metadata": {},
   "source": [
    "#### Από τις παραμέτρους του αλγορίθμου επέλεξα να εξετάσω την:\n",
    "- #### **max_features**: Καθορίζει μέγιστο πλήθος features που θα χρησιμοποιηθούν στο λεξικόγιο της ανάλυσης.\n",
    "- #### **max_df**: Καθορίζει την ελάχιστη συχνότητα εμφάνισης των χρησιμοποιούμενων features στα έγγραφα εισόδου.\n",
    "- #### **min_df**: Καθορίζει την μέγιστη συχνότητα εμφάνισης των χρησιμοποιούμενων features στα έγγραφα εισόδου.\n",
    "- #### **ngram_range**: Τα πάνω και κάτω όρια των χρησιμοποιούμενων n-grams.\n",
    "- #### **use_idf**: Καθορίζει κατά πόσο θα χρησιμοποιηθεί η μέθοδος IDF μετά την TF.\n",
    "- #### **norm**: Καθορίζει τον τρόπο κανονικοποίησης των παραγόμενων διανυσμάτων.\n",
    "- #### **stop_words**: Καθορίζει κατά πόσο θα χρησιμοποιηθεί μία λίστα με καταγεγραμμένες τις πλέον κοινές λέξεις της αγγλικής γλώσσας που έχουν καταχωρηθεί ως Stop Words. Χρησιμοποιώ έτοιμη λίστα που παρέχει η βιβλιοθήκη sklearn.\n",
    "\n",
    "#### Για τις υπόλοιπες παραμέτρους αφήνω τις εξ' ορισμού (default) τιμές τους. \n",
    "\n",
    "#### [Scikit-learn TF-IDF Vectorizer Documentation](https://scikit-learn.org/stable/modules/generated/sklearn.feature_extraction.text.TfidfVectorizer.html)"
   ]
  },
  {
   "cell_type": "markdown",
   "metadata": {},
   "source": [
    "### Συγκριτική μελέτη χρήσης του CountVectorizer σε σχέση με τον TF-IDF Vectorizer"
   ]
  },
  {
   "cell_type": "markdown",
   "metadata": {},
   "source": [
    "#### Η σύγκριση αυτή αναδεικνύει την επίδραση της IDF μεθόδου. Στα προηγούμενα στάδια αποφάσιζε ο GridSearch με ποιο τρόπο θα χρησιμοποιούσε τον αλγόριθμο. Εδώ θα αναγκάσω τον αλγόριθμο να χρησιμοποιήσει αρχικά μόνο τη μέθοδο TF παραγωγής των διανυσμάτων (χρήση του αλγορίθμου CountVectorizer) και στη συνέχεια τον πλήρη αλγόριθμο TF-IDF, που προκαλεί την κανονικοποίηση των διανυσμάτων.\n",
    "\n",
    "#### Για οικονομία χρόνου κάνω GridSearch ανάλυση με χρήση των βέλτιστων παραμέτρων κάθε αλγορίθμου, όπως αυτοί υπολογίστηκαν στο προηγούμενο στάδιο.\n",
    "\n",
    "#### Παραμετροποίηση του αλγορίθμου CountVectorizer: Χρησιμοποιώ τις ίδιες παραμέτρους που χρησιμοποίησα για τον TF-IDF στο προηγούμενο στάδιο, εκτός βέβαια από τις **use_idf** και **norm**.\n",
    "\n",
    "#### Παραμετροποίηση του αλγορίθμου TF-IDF: Χρησιμοποιώ τις ίδιες παραμέτρους που χρησιμοποίησα για τον TF-IDF στο προηγούμενο στάδιο, θέτοντας τιμή **use_idf=True** και η **norm** να πέρνει τιμές στο πεδίο **('l1', 'l2')**.\n",
    "\n",
    "#### [Scikit-learn CountVectorizer Documentation](https://scikit-learn.org/stable/modules/generated/sklearn.feature_extraction.text.CountVectorizer.html)"
   ]
  },
  {
   "cell_type": "markdown",
   "metadata": {},
   "source": [
    "### Μέθοδος εμφάνισης της βέλτιστης απόδοσης και παραμετροποίησης ενός αλγορίθμου, που μελετήθηκε μέσω της κλάσης GridSearchCV"
   ]
  },
  {
   "cell_type": "code",
   "execution_count": 103,
   "metadata": {},
   "outputs": [],
   "source": [
    "def evalBestPipe(gridSearchResults):\n",
    "    # Ο καλύτερος συνδυασμός τιμών παραμέτρων\n",
    "    best_pipe = grid_search.best_estimator_\n",
    "\n",
    "    # Στο βέλτιστο pipeline μπορούν να γίνουν προβλέψεις επί των δεδομένων ελέγχου\n",
    "    y_pred = best_pipe.predict(X_test)\n",
    "\n",
    "    # Τα βέλτιστα αποτελέσματα απόδοσης\n",
    "    gsResults = grid_search.cv_results_\n",
    "    # print(\"All gridSearch provided info:\", \"\\n\".join(gsResults.keys()))\n",
    "\n",
    "    # Επιστρέφει το validation error\n",
    "    meanTestAcc = gsResults['mean_test_score'][grid_search.best_index_]\n",
    "    stdTestAcc = gsResults['std_test_score'][grid_search.best_index_]\n",
    "\n",
    "    # Επιστρέφει το training error\n",
    "    meanTrainAcc = gsResults['mean_train_score'][grid_search.best_index_]\n",
    "    stdTrainAcc = gsResults['std_train_score'][grid_search.best_index_]\n",
    "    \n",
    "    # Στις παρακάτω μετρικές, η παράμετρος labels=np.unique(y_pred) είναι απαραίτητη γιατί,υπάρχουν\n",
    "    # περιπτώσεις όπου ορισμένες κλάσεις δεν εμφανίζονται καθόλου στα predictions, προκαλώντας μηδενισμό\n",
    "    # στον υπολογισμό της F1 και την εμφάνιση αντίστοιχων προειδοποιητικών μηνυμάτων.\n",
    "    # Επιστρέφει τα Average Precision, Recall και F1-score\n",
    "    precision = metrics.precision_score(y_test, y_pred, average='weighted', labels=np.unique(y_pred))\n",
    "    recall = metrics.recall_score(y_test, y_pred, average='weighted', labels=np.unique(y_pred))\n",
    "    f1score = metrics.f1_score(y_test, y_pred, average='weighted', labels=np.unique(y_pred))\n",
    "    # Επιστρέφει το classification report\n",
    "    classificationReport = metrics.classification_report(y_test, y_pred, labels=np.unique(y_pred))\n",
    "    print(\"Classification Report: \\n\", classificationReport)\n",
    "    \n",
    "    # Σημαντική παράμετρος - Πόσες από τις κλάσεις εμφανίζονται στις προβλέψεις του αλγορίθμου\n",
    "    print('Categories in the predicted set: ' + str(np.unique(y_pred)))\n",
    "    if(len(set(y_test) - set(y_pred)) != 0):\n",
    "        print('Categories never predicted in test set: ' + str(set(y_test) - set(y_pred)))\n",
    "    \n",
    "    # Εκτύπωση πίνακα με τις βασικές μετρικές\n",
    "    print(\"\\nTraining Accuracy: %0.3f (+/- %0.2f)\" % (meanTrainAcc, stdTrainAcc))\n",
    "    print(\"Validation Accuracy: %0.3f (+/- %0.2f)\" % (meanTestAcc, stdTestAcc))\n",
    "    print(\"\\nΒέλτιστες παράμετροι: \", grid_search.best_params_)\n",
    "    \n",
    "    # Επιστροφή των βασικών μετρικών στη μέθοδο κλήσης\n",
    "    return(\"%0.3f (+/- %0.2f)\" % (meanTrainAcc, stdTrainAcc), \"%0.3f (+/- %0.2f)\" % (meanTestAcc, stdTestAcc), \"%0.3f\" % (precision), \"%0.3f\" % (recall), \"%0.3f\" % (f1score))\n"
   ]
  },
  {
   "cell_type": "markdown",
   "metadata": {},
   "source": [
    "### 1. Multinomial Naive Bayes"
   ]
  },
  {
   "cell_type": "markdown",
   "metadata": {},
   "source": [
    "#### Από τις παραμέτρους του αλγορίθμου επέλεξα να εξετάσω την:\n",
    "- #### **alpha**: Καθορίζει την εξομάλυνση (smoothing) των αποτελεσμάτων.\n",
    "- #### **fit_prior**: Καθορίζει κατά πόσο το μοντέλο θα υπολογίζει τις prior πιθανότητες των κλάσεων.\n",
    "\n",
    "#### Για τις υπόλοιπες παραμέτρους αφήνω τις εξ' ορισμού (default) τιμές τους. \n",
    "\n",
    "#### [Scikit-learn Naive Bayes Documentation](https://scikit-learn.org/stable/modules/naive_bayes.html)"
   ]
  },
  {
   "cell_type": "code",
   "execution_count": 75,
   "metadata": {},
   "outputs": [],
   "source": [
    "# Καθορισμός του χρησιμοποιούμενου Pipeline\n",
    "multiNB_pipe = Pipeline([\n",
    "    ('TfIdf', TfidfVectorizer()),\n",
    "    ('clf', MultinomialNB())\n",
    "])\n",
    "\n",
    "# Δομή αποθήκευσης συνολικών αποτελεσμάτων Accuracy του αλγορίθμου\n",
    "results = [['Preprocessing', 'Training Accuracy', 'Validation Accuracy', 'Precission', 'Recall', 'F1-score']]\n",
    "\n",
    "# Σύνολο λέξεων της Αγγλικής γλώσσας χαρακτηρισμένων ως Stop Words, της βιβλιοθήκης sklearn.\n",
    "from sklearn.feature_extraction import stop_words\n",
    "stop_words = stop_words.ENGLISH_STOP_WORDS\n",
    "\n",
    "# Οι κρίσιμες παράμετροι των συστατικών μεθόδων του Pipeline και το εύρος τιμών τους, \n",
    "# με σκοπό την εύρεση των βέλτιστων τιμών αυτών.\n",
    "# Χρήση επιλεγμένων τιμών που οδηγούν στην ανάδειξη των βέλτιστων (μετά από πολλές δοκιμές)\n",
    "params = {\n",
    "    'TfIdf__max_features': (400, 500, 600),\n",
    "    'TfIdf__max_df': (0.3, 0.35, 0.4),\n",
    "    'TfIdf__min_df': (3, 5, 7),\n",
    "    'TfIdf__ngram_range': ((1,3), (1,4) ,(1,2)),\n",
    "    'TfIdf__use_idf': (True, False),\n",
    "    'TfIdf__norm': ('l1', 'l2', None),\n",
    "    'TfIdf__stop_words': (stop_words, None),\n",
    "    'clf__alpha': (0.25, 0.3, 0.35),\n",
    "    'clf__fit_prior': (True, False),\n",
    "}\n",
    "# Για επιτάχυνση της ανάλυσης αφαίρεσα τις παρακάτω παραμέτρους, που δίνουν σε όλες τις\n",
    "# δοκιμές σταθερά την ίδια βέλτιστη τιμή:\n",
    "#     'TfIdf__use_idf': (True, False),  --->  False\n",
    "#     'TfIdf__norm': ('l1', 'l2', None),  --->  'l2'\n",
    "#     'TfIdf__stop_words': (stop_words, None),  --->   None\n",
    "#     'clf__fit_prior': (True, False),  --->  True\n",
    "\n",
    "# Κλάση που αναλαμβάνει την εξαντλητική μελέτη των παραμέτρων των συστατικών μεθόδων του Pipeline\n",
    "grid_search = GridSearchCV(multiNB_pipe, params, cv=3, n_jobs=-1, verbose=1, return_train_score=True)\n"
   ]
  },
  {
   "cell_type": "markdown",
   "metadata": {},
   "source": [
    "#### α. Χρήση Βασικού Preprocessing & Stemming & Lemmatization των δεδομένων εισόδου"
   ]
  },
  {
   "cell_type": "code",
   "execution_count": 105,
   "metadata": {},
   "outputs": [
    {
     "name": "stdout",
     "output_type": "stream",
     "text": [
      "Fitting 3 folds for each of 243 candidates, totalling 729 fits\n"
     ]
    },
    {
     "name": "stderr",
     "output_type": "stream",
     "text": [
      "[Parallel(n_jobs=-1)]: Using backend LokyBackend with 3 concurrent workers.\n",
      "[Parallel(n_jobs=-1)]: Done  44 tasks      | elapsed:    6.2s\n",
      "[Parallel(n_jobs=-1)]: Done 194 tasks      | elapsed:   19.7s\n",
      "[Parallel(n_jobs=-1)]: Done 444 tasks      | elapsed:   41.8s\n",
      "[Parallel(n_jobs=-1)]: Done 729 out of 729 | elapsed:  1.1min finished\n"
     ]
    },
    {
     "data": {
      "text/plain": [
       "GridSearchCV(cv=3, error_score='raise-deprecating',\n",
       "       estimator=Pipeline(memory=None,\n",
       "     steps=[('TfIdf', TfidfVectorizer(analyzer='word', binary=False, decode_error='strict',\n",
       "        dtype=<class 'numpy.float64'>, encoding='utf-8', input='content',\n",
       "        lowercase=True, max_df=1.0, max_features=None, min_df=1,\n",
       "        ngram_range=(1, 1), norm='l2', preprocessor=None, smooth_idf=True,...rue,\n",
       "        vocabulary=None)), ('clf', MultinomialNB(alpha=1.0, class_prior=None, fit_prior=True))]),\n",
       "       fit_params=None, iid='warn', n_jobs=-1,\n",
       "       param_grid={'TfIdf__max_features': (400, 500, 600), 'TfIdf__max_df': (0.3, 0.35, 0.4), 'TfIdf__min_df': (3, 5, 7), 'TfIdf__ngram_range': ((1, 3), (1, 4), (1, 2)), 'clf__alpha': (0.25, 0.3, 0.35)},\n",
       "       pre_dispatch='2*n_jobs', refit=True, return_train_score=True,\n",
       "       scoring=None, verbose=1)"
      ]
     },
     "execution_count": 105,
     "metadata": {},
     "output_type": "execute_result"
    }
   ],
   "source": [
    "# Επανασύσταση των δεδομένων\n",
    "X = df['text'].copy()\n",
    "Y = df['labels'].copy()\n",
    "X_train, X_test, y_train, y_test = train_test_split(X, Y, test_size=0.25, random_state=42, stratify=Y)\n",
    "\n",
    "# Επιλογές συστατικών του Preprocessing των δεδομένων πριν την είσοδό τους στο pipeline\n",
    "preProc(X, stemming=True, lemmatize=True)\n",
    "\n",
    "# Εκτέλεση της ανάλυσης\n",
    "grid_search.fit(X, Y)"
   ]
  },
  {
   "cell_type": "code",
   "execution_count": 106,
   "metadata": {},
   "outputs": [
    {
     "name": "stdout",
     "output_type": "stream",
     "text": [
      "Classification Report: \n",
      "               precision    recall  f1-score   support\n",
      "\n",
      "        MISC       0.70      0.95      0.81       156\n",
      "        OWNX       0.62      0.42      0.50        71\n",
      "\n",
      "   micro avg       0.69      0.78      0.73       227\n",
      "   macro avg       0.66      0.69      0.66       227\n",
      "weighted avg       0.68      0.78      0.71       227\n",
      "\n",
      "Categories in the predicted set: ['MISC' 'OWNX']\n",
      "Categories never predicted in test set: {'AIMX', 'BASE', 'CONT'}\n",
      "\n",
      "Training Accuracy: 0.817 (+/- 0.00)\n",
      "Validation Accuracy: 0.676 (+/- 0.03)\n",
      "\n",
      "Βέλτιστες παράμετροι:  {'TfIdf__max_df': 0.35, 'TfIdf__max_features': 500, 'TfIdf__min_df': 5, 'TfIdf__ngram_range': (1, 4), 'clf__alpha': 0.3}\n"
     ]
    }
   ],
   "source": [
    "# Εκτύπωση της βέλτιστης απόδοσης και παραμετροποίησης του αλγορίθμου\n",
    "(TrainAcc, ValAcc, Prec, Rec, F1) = evalBestPipe(grid_search)\n",
    "results.append(['Basic & Lemm & Stemm', TrainAcc, ValAcc, Prec, Rec, F1])"
   ]
  },
  {
   "cell_type": "markdown",
   "metadata": {},
   "source": [
    "#### β. Χρήση Βασικού Preprocessing & Stemming των δεδομένων εισόδου"
   ]
  },
  {
   "cell_type": "code",
   "execution_count": 107,
   "metadata": {},
   "outputs": [
    {
     "name": "stdout",
     "output_type": "stream",
     "text": [
      "Fitting 3 folds for each of 486 candidates, totalling 1458 fits\n"
     ]
    },
    {
     "name": "stderr",
     "output_type": "stream",
     "text": [
      "[Parallel(n_jobs=-1)]: Using backend LokyBackend with 3 concurrent workers.\n",
      "[Parallel(n_jobs=-1)]: Done  53 tasks      | elapsed:    2.9s\n",
      "[Parallel(n_jobs=-1)]: Done 353 tasks      | elapsed:   19.6s\n",
      "[Parallel(n_jobs=-1)]: Done 853 tasks      | elapsed:   46.1s\n",
      "[Parallel(n_jobs=-1)]: Done 1453 out of 1458 | elapsed:  1.3min remaining:    0.3s\n",
      "[Parallel(n_jobs=-1)]: Done 1458 out of 1458 | elapsed:  1.3min finished\n"
     ]
    },
    {
     "name": "stdout",
     "output_type": "stream",
     "text": [
      "Classification Report: \n",
      "               precision    recall  f1-score   support\n",
      "\n",
      "        MISC       0.72      0.99      0.83       156\n",
      "        OWNX       0.70      0.44      0.54        71\n",
      "\n",
      "   micro avg       0.71      0.81      0.76       227\n",
      "   macro avg       0.71      0.71      0.68       227\n",
      "weighted avg       0.71      0.81      0.74       227\n",
      "\n",
      "Categories in the predicted set: ['MISC' 'OWNX']\n",
      "Categories never predicted in test set: {'AIMX', 'BASE', 'CONT'}\n",
      "\n",
      "Training Accuracy: 0.804 (+/- 0.01)\n",
      "Validation Accuracy: 0.686 (+/- 0.03)\n",
      "\n",
      "Βέλτιστες παράμετροι:  {'TfIdf__max_df': 0.35, 'TfIdf__max_features': 400, 'TfIdf__min_df': 2, 'TfIdf__ngram_range': (1, 2), 'TfIdf__use_idf': False, 'clf__alpha': 0.25}\n"
     ]
    }
   ],
   "source": [
    "# Χρήση επιλεγμένων τιμών που οδηγούν στην ανάδειξη των βέλτιστων (μετά από πολλές δοκιμές)\n",
    "params = {\n",
    "    'TfIdf__max_features': (400, 500, 600),\n",
    "    'TfIdf__max_df': (0.3, 0.35, 0.4),\n",
    "    'TfIdf__min_df': (2, 3, 5),\n",
    "    'TfIdf__ngram_range': ((1,3), (1,1) ,(1,2)),\n",
    "    'TfIdf__use_idf': (True, False),\n",
    "    'TfIdf__norm': ('l1', 'l2', None),\n",
    "    'TfIdf__stop_words': (stop_words, None),\n",
    "    'clf__alpha': (0.2, 0.25, 0.3),\n",
    "    'clf__fit_prior': (True, False),\n",
    "}\n",
    "# Παράμετροι με σταθερή βέλτιστη τιμή:\n",
    "#     'TfIdf__norm': ('l1', 'l2', None),  --->  'l2'\n",
    "#     'TfIdf__stop_words': (stop_words, None),  --->   None\n",
    "#     'clf__fit_prior': (True, False),  --->  True\n",
    "\n",
    "grid_search = GridSearchCV(multiNB_pipe, params, cv=3, n_jobs=-1, verbose=1, return_train_score=True)\n",
    "\n",
    "X = df['text'].copy()\n",
    "Y = df['labels'].copy()\n",
    "train, X_test, y_train, y_test = train_test_split(X, Y, test_size=0.25, random_state=42, stratify=Y)\n",
    "\n",
    "preProc(X, stemming=True, lemmatize=False)\n",
    "\n",
    "grid_search.fit(X, Y)\n",
    "\n",
    "(TrainAcc, ValAcc, Prec, Rec, F1) = evalBestPipe(grid_search)\n",
    "results.append(['Basic & Stemm', TrainAcc, ValAcc, Prec, Rec, F1])\n"
   ]
  },
  {
   "cell_type": "markdown",
   "metadata": {},
   "source": [
    "#### γ. Χρήση Βασικού Preprocessing των δεδομένων εισόδου"
   ]
  },
  {
   "cell_type": "code",
   "execution_count": 108,
   "metadata": {},
   "outputs": [
    {
     "name": "stdout",
     "output_type": "stream",
     "text": [
      "Fitting 3 folds for each of 486 candidates, totalling 1458 fits\n"
     ]
    },
    {
     "name": "stderr",
     "output_type": "stream",
     "text": [
      "[Parallel(n_jobs=-1)]: Using backend LokyBackend with 3 concurrent workers.\n",
      "[Parallel(n_jobs=-1)]: Done  44 tasks      | elapsed:    4.4s\n",
      "[Parallel(n_jobs=-1)]: Done 194 tasks      | elapsed:   18.3s\n",
      "[Parallel(n_jobs=-1)]: Done 444 tasks      | elapsed:   40.4s\n",
      "[Parallel(n_jobs=-1)]: Done 794 tasks      | elapsed:  1.2min\n",
      "[Parallel(n_jobs=-1)]: Done 1244 tasks      | elapsed:  1.9min\n",
      "[Parallel(n_jobs=-1)]: Done 1458 out of 1458 | elapsed:  2.2min finished\n"
     ]
    },
    {
     "name": "stdout",
     "output_type": "stream",
     "text": [
      "Classification Report: \n",
      "               precision    recall  f1-score   support\n",
      "\n",
      "        AIMX       0.75      0.19      0.30        16\n",
      "        CONT       1.00      0.09      0.17        11\n",
      "        MISC       0.76      0.98      0.85       156\n",
      "        OWNX       0.75      0.55      0.63        71\n",
      "\n",
      "   micro avg       0.76      0.77      0.76       254\n",
      "   macro avg       0.81      0.45      0.49       254\n",
      "weighted avg       0.77      0.77      0.73       254\n",
      "\n",
      "Categories in the predicted set: ['AIMX' 'CONT' 'MISC' 'OWNX']\n",
      "Categories never predicted in test set: {'BASE'}\n",
      "\n",
      "Training Accuracy: 0.779 (+/- 0.00)\n",
      "Validation Accuracy: 0.700 (+/- 0.02)\n",
      "\n",
      "Βέλτιστες παράμετροι:  {'TfIdf__max_df': 0.35, 'TfIdf__max_features': 300, 'TfIdf__min_df': 3, 'TfIdf__ngram_range': (1, 4), 'TfIdf__use_idf': False, 'clf__alpha': 0.3}\n"
     ]
    }
   ],
   "source": [
    "# Χρήση επιλεγμένων τιμών που οδηγούν στην ανάδειξη των βέλτιστων (μετά από πολλές δοκιμές)\n",
    "params = {\n",
    "    'TfIdf__max_features': (200, 300, 400),\n",
    "    'TfIdf__max_df': (0.25, 0.3, 0.35),\n",
    "    'TfIdf__min_df': (1, 2, 3),\n",
    "    'TfIdf__ngram_range': ((1,3), (1,4) ,(1,2)),\n",
    "    'TfIdf__use_idf': (True, False),\n",
    "    'TfIdf__norm': ('l1', 'l2', None),\n",
    "    'TfIdf__stop_words': (stop_words, None),\n",
    "    'clf__alpha': (0.3, 0.35, 0.4),\n",
    "    'clf__fit_prior': (True, False),\n",
    "}\n",
    "# Παράμετροι με σταθερή βέλτιστη τιμή:\n",
    "#     'TfIdf__norm': ('l1', 'l2', None),  --->  'l2'\n",
    "#     'TfIdf__stop_words': (stop_words, None),  --->   None\n",
    "#     'clf__fit_prior': (True, False),  --->  True\n",
    "\n",
    "grid_search = GridSearchCV(multiNB_pipe, params, cv=3, n_jobs=-1, verbose=1, return_train_score=True)\n",
    "\n",
    "X = df['text'].copy()\n",
    "Y = df['labels'].copy()\n",
    "train, X_test, y_train, y_test = train_test_split(X, Y, test_size=0.25, random_state=42, stratify=Y)\n",
    "\n",
    "preProc(X, stemming=False, lemmatize=False)\n",
    "\n",
    "grid_search.fit(X, Y)\n",
    "\n",
    "(TrainAcc, ValAcc, Prec, Rec, F1) = evalBestPipe(grid_search)\n",
    "results.append(['Basic', TrainAcc, ValAcc, Prec, Rec, F1])\n"
   ]
  },
  {
   "cell_type": "markdown",
   "metadata": {},
   "source": [
    "### Ανάλυση αποτελεσμάτων Αλγορίθμου"
   ]
  },
  {
   "cell_type": "code",
   "execution_count": 109,
   "metadata": {},
   "outputs": [
    {
     "name": "stdout",
     "output_type": "stream",
     "text": [
      "Αποτελέσματα αλγορίθμου: Naive Bayes\n"
     ]
    },
    {
     "data": {
      "text/html": [
       "<table>\n",
       "<tbody>\n",
       "<tr><td>Preprocessing       </td><td>Training Accuracy</td><td>Validation Accuracy</td><td>Precission</td><td>Recall</td><td>F1-score</td></tr>\n",
       "<tr><td>Basic & Lemm & Stemm</td><td>0.817 (+/- 0.00) </td><td>0.676 (+/- 0.03)   </td><td>0.678     </td><td>0.784 </td><td>0.712   </td></tr>\n",
       "<tr><td>Basic & Stemm       </td><td>0.804 (+/- 0.01) </td><td>0.686 (+/- 0.03)   </td><td>0.713     </td><td>0.815 </td><td>0.739   </td></tr>\n",
       "<tr><td>Basic               </td><td>0.779 (+/- 0.00) </td><td>0.700 (+/- 0.02)   </td><td>0.765     </td><td>0.772 </td><td>0.728   </td></tr>\n",
       "</tbody>\n",
       "</table>"
      ],
      "text/plain": [
       "<IPython.core.display.HTML object>"
      ]
     },
     "metadata": {},
     "output_type": "display_data"
    }
   ],
   "source": [
    "print('Αποτελέσματα αλγορίθμου: Naive Bayes')\n",
    "display(HTML(tabulate.tabulate(results, tablefmt='html')))"
   ]
  },
  {
   "cell_type": "markdown",
   "metadata": {},
   "source": [
    "#### Από τις τιμές των μετρικών του παραπάνω πίνακα συμπεραίνω τα ακόλουθα:\n",
    "- #### Η διαδικασία εύρεσης των βέλτιστων τιμών παραμέτρων βελτίωσε τη γενική απόδοση του αλγορίθμου, συγκρινόμενη με την απόδοση όταν ο αλγόριθμος χρησιμοποιούσε τις εξ' ορισμού τιμές παραμέτρων.\n",
    "- #### Αναφορικά με το Preprocessing των δεδομένων, ο συνδυασμός Βασικού Preprocessing με Stemming δίνει τα καλύτερα αποτελέσματα.\n",
    "- #### Η χρήση Βασικού Preprocessing οδηγεί στην εμφάνιση 4 από τις 5 κλάσεις στις προβλέψεις του συνόλου ελέγχου. Η προσθήκη Stemming ή/και Lemmatization μειώνει τις αντίστοιχες εμφανίσεις των κλάσεων σε μόλις 2.\n",
    "\n",
    "#### Αναφορικά με τη βέλτιστη παραμετροποίηση των χρησιμοποιούμενων αλγορίθμων συμπεραίνω τα ακόλουθα:\n",
    "- #### Χρησιμοποιείται σχετικά μικρό ποσοστό των συνολικών features των δεδομένων.\n",
    "- #### Στον αλγόριθμο TF-IDF δεν κρίνεται γενικά απαραίτητη η εφαρμογή της μεθόδου IDF.\n",
    "- #### Στον αλγόριθμο TF-IDF δεν κρίνεται απαραίτητη η χρήση της πρόσθετης λίστας με τα Stop Word. Αυτό είναι λογικό καθώς η παράμετρος **max_df** απομακρύνει αποτελεσματικά τις πλέον κοινές λέξεις."
   ]
  },
  {
   "cell_type": "markdown",
   "metadata": {},
   "source": [
    "### Σύγκριση χρήσης CountVectorizer - TfidfVectorizer"
   ]
  },
  {
   "cell_type": "markdown",
   "metadata": {},
   "source": [
    "#### α. Χρήση CountVectorizer"
   ]
  },
  {
   "cell_type": "code",
   "execution_count": 129,
   "metadata": {},
   "outputs": [
    {
     "name": "stdout",
     "output_type": "stream",
     "text": [
      "Fitting 3 folds for each of 243 candidates, totalling 729 fits\n"
     ]
    },
    {
     "name": "stderr",
     "output_type": "stream",
     "text": [
      "[Parallel(n_jobs=-1)]: Using backend LokyBackend with 3 concurrent workers.\n",
      "[Parallel(n_jobs=-1)]: Done  44 tasks      | elapsed:    5.0s\n",
      "[Parallel(n_jobs=-1)]: Done 194 tasks      | elapsed:   17.4s\n",
      "[Parallel(n_jobs=-1)]: Done 444 tasks      | elapsed:   39.3s\n",
      "[Parallel(n_jobs=-1)]: Done 729 out of 729 | elapsed:  1.1min finished\n"
     ]
    },
    {
     "name": "stdout",
     "output_type": "stream",
     "text": [
      "Classification Report: \n",
      "               precision    recall  f1-score   support\n",
      "\n",
      "        AIMX       0.75      0.56      0.64        16\n",
      "        BASE       0.00      0.00      0.00         5\n",
      "        CONT       0.45      0.45      0.45        11\n",
      "        MISC       0.78      0.89      0.83       156\n",
      "        OWNX       0.68      0.55      0.61        71\n",
      "\n",
      "   micro avg       0.74      0.74      0.74       259\n",
      "   macro avg       0.53      0.49      0.51       259\n",
      "weighted avg       0.72      0.74      0.73       259\n",
      "\n",
      "Categories in the predicted set: ['AIMX' 'BASE' 'CONT' 'MISC' 'OWNX']\n",
      "\n",
      "Training Accuracy: 0.872 (+/- 0.01)\n",
      "Validation Accuracy: 0.626 (+/- 0.00)\n",
      "\n",
      "Βέλτιστες παράμετροι:  {'clf__alpha': 0.35, 'ctv__max_df': 0.35, 'ctv__max_features': 500, 'ctv__min_df': 3, 'ctv__ngram_range': (1, 3)}\n",
      "Αποτελέσματα αλγορίθμου: Naive Bayes\n"
     ]
    },
    {
     "data": {
      "text/html": [
       "<table>\n",
       "<tbody>\n",
       "<tr><td>Preprocessing       </td><td>Training Accuracy</td><td>Validation Accuracy</td><td>Precission</td><td>Recall</td><td>F1-score</td></tr>\n",
       "<tr><td>Basic & Lemm & Stemm</td><td>0.872 (+/- 0.01) </td><td>0.626 (+/- 0.00)   </td><td>0.724     </td><td>0.741 </td><td>0.727   </td></tr>\n",
       "</tbody>\n",
       "</table>"
      ],
      "text/plain": [
       "<IPython.core.display.HTML object>"
      ]
     },
     "metadata": {},
     "output_type": "display_data"
    }
   ],
   "source": [
    "# Καθορισμός του χρησιμοποιούμενου Pipeline\n",
    "multiNB_pipe = Pipeline([\n",
    "    ('ctv', CountVectorizer()),\n",
    "    ('clf', MultinomialNB())\n",
    "])\n",
    "\n",
    "# Δομή αποθήκευσης συνολικών αποτελεσμάτων Accuracy του αλγορίθμου\n",
    "results = [['Preprocessing', 'Training Accuracy', 'Validation Accuracy', 'Precission', 'Recall', 'F1-score']]\n",
    "\n",
    "# Σύνολο λέξεων της Αγγλικής γλώσσας χαρακτηρισμένων ως Stop Words, της βιβλιοθήκης sklearn.\n",
    "from sklearn.feature_extraction import stop_words\n",
    "stop_words = stop_words.ENGLISH_STOP_WORDS\n",
    "\n",
    "# Χρήση επιλεγμένων τιμών που οδηγούν στην ανάδειξη των βέλτιστων (μετά από πολλές δοκιμές)\n",
    "params = {\n",
    "    'ctv__max_features': (400, 500, 600),\n",
    "    'ctv__max_df': (0.3, 0.35, 0.4),\n",
    "    'ctv__min_df': (3, 5, 7),\n",
    "    'ctv__ngram_range': ((1,3), (1,4) ,(1,2)),\n",
    "    'ctv__stop_words': (stop_words, None),\n",
    "    'clf__alpha': (0.25, 0.3, 0.35),\n",
    "    'clf__fit_prior': (True, False),\n",
    "}\n",
    "# Παράμετροι με σταθερή βέλτιστη τιμή:\n",
    "#     'ctv__stop_words': (stop_words, None),  --->   None\n",
    "#     'clf__fit_prior': (True, False),  --->  True\n",
    "\n",
    "grid_search = GridSearchCV(multiNB_pipe, params, cv=3, n_jobs=-1, verbose=1, return_train_score=True)\n",
    "\n",
    "X = df['text'].copy()\n",
    "Y = df['labels'].copy()\n",
    "train, X_test, y_train, y_test = train_test_split(X, Y, test_size=0.25, random_state=42, stratify=Y)\n",
    "\n",
    "preProc(X, stemming=True, lemmatize=True)\n",
    "\n",
    "grid_search.fit(X, Y)\n",
    "\n",
    "(TrainAcc, ValAcc, Prec, Rec, F1) = evalBestPipe(grid_search)\n",
    "results.append(['Basic & Lemm & Stemm', TrainAcc, ValAcc, Prec, Rec, F1])\n",
    "\n",
    "print('Αποτελέσματα αλγορίθμου: Naive Bayes με χρήση CountVectorizer')\n",
    "display(HTML(tabulate.tabulate(results, tablefmt='html')))\n"
   ]
  },
  {
   "cell_type": "markdown",
   "metadata": {},
   "source": [
    "#### β. Χρήση TfidfVectorizer"
   ]
  },
  {
   "cell_type": "code",
   "execution_count": 130,
   "metadata": {},
   "outputs": [
    {
     "name": "stdout",
     "output_type": "stream",
     "text": [
      "Fitting 3 folds for each of 486 candidates, totalling 1458 fits\n"
     ]
    },
    {
     "name": "stderr",
     "output_type": "stream",
     "text": [
      "[Parallel(n_jobs=-1)]: Using backend LokyBackend with 3 concurrent workers.\n",
      "[Parallel(n_jobs=-1)]: Done  44 tasks      | elapsed:    5.4s\n",
      "[Parallel(n_jobs=-1)]: Done 194 tasks      | elapsed:   20.0s\n",
      "[Parallel(n_jobs=-1)]: Done 444 tasks      | elapsed:   42.8s\n",
      "[Parallel(n_jobs=-1)]: Done 794 tasks      | elapsed:  1.3min\n",
      "[Parallel(n_jobs=-1)]: Done 1244 tasks      | elapsed:  1.9min\n",
      "[Parallel(n_jobs=-1)]: Done 1458 out of 1458 | elapsed:  2.2min finished\n"
     ]
    },
    {
     "name": "stdout",
     "output_type": "stream",
     "text": [
      "Classification Report: \n",
      "               precision    recall  f1-score   support\n",
      "\n",
      "        MISC       0.70      0.95      0.81       156\n",
      "        OWNX       0.62      0.42      0.50        71\n",
      "\n",
      "   micro avg       0.69      0.78      0.73       227\n",
      "   macro avg       0.66      0.69      0.66       227\n",
      "weighted avg       0.68      0.78      0.71       227\n",
      "\n",
      "Categories in the predicted set: ['MISC' 'OWNX']\n",
      "Categories never predicted in test set: {'AIMX', 'BASE', 'CONT'}\n",
      "\n",
      "Training Accuracy: 0.817 (+/- 0.00)\n",
      "Validation Accuracy: 0.676 (+/- 0.03)\n",
      "\n",
      "Βέλτιστες παράμετροι:  {'TfIdf__max_df': 0.35, 'TfIdf__max_features': 500, 'TfIdf__min_df': 5, 'TfIdf__ngram_range': (1, 4), 'TfIdf__norm': 'l2', 'clf__alpha': 0.3}\n",
      "Αποτελέσματα αλγορίθμου: Naive Bayes\n"
     ]
    },
    {
     "data": {
      "text/html": [
       "<table>\n",
       "<tbody>\n",
       "<tr><td>Preprocessing       </td><td>Training Accuracy</td><td>Validation Accuracy</td><td>Precission</td><td>Recall</td><td>F1-score</td></tr>\n",
       "<tr><td>Basic & Lemm & Stemm</td><td>0.817 (+/- 0.00) </td><td>0.676 (+/- 0.03)   </td><td>0.678     </td><td>0.784 </td><td>0.712   </td></tr>\n",
       "</tbody>\n",
       "</table>"
      ],
      "text/plain": [
       "<IPython.core.display.HTML object>"
      ]
     },
     "metadata": {},
     "output_type": "display_data"
    }
   ],
   "source": [
    "# Καθορισμός του χρησιμοποιούμενου Pipeline\n",
    "multiNB_pipe = Pipeline([\n",
    "    ('TfIdf', TfidfVectorizer(use_idf=True)),\n",
    "    ('clf', MultinomialNB())\n",
    "])\n",
    "\n",
    "# Δομή αποθήκευσης συνολικών αποτελεσμάτων Accuracy του αλγορίθμου\n",
    "results = [['Preprocessing', 'Training Accuracy', 'Validation Accuracy', 'Precission', 'Recall', 'F1-score']]\n",
    "\n",
    "# Σύνολο λέξεων της Αγγλικής γλώσσας χαρακτηρισμένων ως Stop Words, της βιβλιοθήκης sklearn.\n",
    "from sklearn.feature_extraction import stop_words\n",
    "stop_words = stop_words.ENGLISH_STOP_WORDS\n",
    "\n",
    "# Χρήση επιλεγμένων τιμών που οδηγούν στην ανάδειξη των βέλτιστων (μετά από πολλές δοκιμές)\n",
    "params = {\n",
    "    'TfIdf__max_features': (400, 500, 600),\n",
    "    'TfIdf__max_df': (0.3, 0.35, 0.4),\n",
    "    'TfIdf__min_df': (3, 5, 7),\n",
    "    'TfIdf__ngram_range': ((1,3), (1,4) ,(1,2)),\n",
    "    'TfIdf__norm': ('l1', 'l2'),\n",
    "    'TfIdf__stop_words': (stop_words, None),\n",
    "    'clf__alpha': (0.25, 0.3, 0.35),\n",
    "    'clf__fit_prior': (True, False),\n",
    "}\n",
    "# Παράμετροι με σταθερή βέλτιστη τιμή:\n",
    "#     'TfIdf__stop_words': (stop_words, None),  --->   None\n",
    "#     'clf__fit_prior': (True, False),  --->  True\n",
    "\n",
    "# Κλάση που αναλαμβάνει την εξαντλητική μελέτη των παραμέτρων των συστατικών μεθόδων του Pipeline\n",
    "grid_search = GridSearchCV(multiNB_pipe, params, cv=3, n_jobs=-1, verbose=1, return_train_score=True)\n",
    "\n",
    "X = df['text'].copy()\n",
    "Y = df['labels'].copy()\n",
    "train, X_test, y_train, y_test = train_test_split(X, Y, test_size=0.25, random_state=42, stratify=Y)\n",
    "\n",
    "preProc(X, stemming=True, lemmatize=True)\n",
    "\n",
    "grid_search.fit(X, Y)\n",
    "\n",
    "(TrainAcc, ValAcc, Prec, Rec, F1) = evalBestPipe(grid_search)\n",
    "results.append(['Basic & Lemm & Stemm', TrainAcc, ValAcc, Prec, Rec, F1])\n",
    "\n",
    "print('Αποτελέσματα αλγορίθμου: Naive Bayes με χρήση TfidfVectorizer')\n",
    "display(HTML(tabulate.tabulate(results, tablefmt='html')))\n",
    "\n"
   ]
  },
  {
   "cell_type": "markdown",
   "metadata": {},
   "source": [
    "### Ανάλυση αποτελεσμάτων σύγκρισης"
   ]
  },
  {
   "cell_type": "markdown",
   "metadata": {},
   "source": [
    "#### Από τις τιμές των μετρικών της παραπάνω σύγκρισης συμπεραίνω τα ακόλουθα:\n",
    "- #### Οι δύοι αλγόριθμοι αποδίδουν εξίσου καλά, με μικρές μεταξύ τους διαφορές στις τιμές των μετρικών.\n",
    "\n",
    "#### Αναφορικά με τη βέλτιστη παραμετροποίηση των χρησιμοποιούμενων αλγορίθμων συμπεραίνω τα ακόλουθα:\n",
    "- #### Οι δύο αλγόριθμοι χρησιμοποιούν παρόμοιες βέλτιστες τιμές παραμέτρων.\n",
    "- #### Στον αλγόριθμο χρήσης του CountVector, και οι 5 κλάσεις εμφανίζονται στις προβλέψεις του συνόλου ελέγχου. Η προσθήκη της κανονικοποίησης των διανυσματων, μέσω της μεθόδου IDF, οδηγεί τις 3 κλάσεις με τον μικρότερο πληθυσμό να μην εμφανίζονται στις προβλέψεις του συνόλου ελέγχου.\n"
   ]
  },
  {
   "cell_type": "code",
   "execution_count": null,
   "metadata": {},
   "outputs": [],
   "source": []
  },
  {
   "cell_type": "code",
   "execution_count": null,
   "metadata": {},
   "outputs": [],
   "source": []
  },
  {
   "cell_type": "markdown",
   "metadata": {},
   "source": [
    "### 2. Bernoulli Naive Bayes"
   ]
  },
  {
   "cell_type": "markdown",
   "metadata": {},
   "source": [
    "#### Από τις παραμέτρους του αλγορίθμου επέλεξα να εξετάσω την:\n",
    "- #### **alpha**: Καθορίζει την εξομάλυνση (smoothing) των αποτελεσμάτων.\n",
    "- #### **fit_prior**: Καθορίζει κατά πόσο το μοντέλο θα υπολογίζει τις prior πιθανότητες των κλάσεων.\n",
    "\n",
    "#### Για τις υπόλοιπες παραμέτρους αφήνω τις εξ' ορισμού (default) τιμές τους. \n",
    "\n",
    "#### [Scikit-learn Bernoulli Naive Bayes Documentation](https://scikit-learn.org/stable/modules/generated/sklearn.naive_bayes.BernoulliNB.html)"
   ]
  },
  {
   "cell_type": "code",
   "execution_count": 110,
   "metadata": {},
   "outputs": [],
   "source": [
    "# Καθορισμός του χρησιμοποιούμενου Pipeline\n",
    "BernoulliNB_pipe = Pipeline([\n",
    "    ('TfIdf', TfidfVectorizer()),\n",
    "    ('clf', BernoulliNB())\n",
    "])\n",
    "\n",
    "# Δομή αποθήκευσης συνολικών αποτελεσμάτων Accuracy του αλγορίθμου\n",
    "results = [['Preprocessing', 'Training Accuracy', 'Validation Accuracy', 'Precission', 'Recall', 'F1-score']]\n",
    "\n",
    "# Σύνολο λέξεων της Αγγλικής γλώσσας χαρακτηρισμένων ως Stop Words, της βιβλιοθήκης sklearn.\n",
    "from sklearn.feature_extraction import stop_words\n",
    "stop_words = stop_words.ENGLISH_STOP_WORDS\n",
    "\n",
    "# Οι κρίσιμες παράμετροι των συστατικών μεθόδων του Pipeline και το εύρος τιμών τους, \n",
    "# με σκοπό την εύρεση των βέλτιστων τιμών αυτών.\n",
    "# Χρήση επιλεγμένων τιμών που οδηγούν στην ανάδειξη των βέλτιστων (μετά από πολλές δοκιμές)\n",
    "params = {\n",
    "    'TfIdf__max_features': (50, 100, 150),\n",
    "    'TfIdf__max_df': (0.25, 0.3, 0.35),\n",
    "    'TfIdf__min_df': (1, 3, 5),\n",
    "    'TfIdf__ngram_range': ((2,4), (1,4), (1,3)),\n",
    "    'TfIdf__use_idf': (True, False),\n",
    "    'TfIdf__norm': ('l1', 'l2', None),\n",
    "    'TfIdf__stop_words': (stop_words, None),\n",
    "    'clf__alpha': (2, 2.25, 2.5),\n",
    "    'clf__binarize': (0.05, 0.1, 0,15),\n",
    "    'clf__fit_prior': (True, False),\n",
    "}\n",
    "# Για επιτάχυνση της ανάλυσης αφαίρεσα τις παρακάτω παραμέτρους, που δίνουν σε όλες τις\n",
    "# δοκιμές σταθερά την ίδια βέλτιστη τιμή:\n",
    "#     'TfIdf__stop_words': (stop_words, None),  --->   None\n",
    "#     'clf__fit_prior': (True, False),  --->   True\n",
    "\n",
    "# Κλάση που αναλαμβάνει την εξαντλητική μελέτη των παραμέτρων των συστατικών μεθόδων του Pipeline\n",
    "grid_search = GridSearchCV(BernoulliNB_pipe, params, cv=3, n_jobs=-1, verbose=1, return_train_score=True)\n"
   ]
  },
  {
   "cell_type": "markdown",
   "metadata": {},
   "source": [
    "#### α. Χρήση Βασικού Preprocessing & Stemming & Lemmatization των δεδομένων εισόδου"
   ]
  },
  {
   "cell_type": "code",
   "execution_count": 111,
   "metadata": {},
   "outputs": [
    {
     "name": "stdout",
     "output_type": "stream",
     "text": [
      "Fitting 3 folds for each of 5832 candidates, totalling 17496 fits\n"
     ]
    },
    {
     "name": "stderr",
     "output_type": "stream",
     "text": [
      "[Parallel(n_jobs=-1)]: Using backend LokyBackend with 3 concurrent workers.\n",
      "[Parallel(n_jobs=-1)]: Done  44 tasks      | elapsed:    5.2s\n",
      "[Parallel(n_jobs=-1)]: Done 194 tasks      | elapsed:   22.3s\n",
      "[Parallel(n_jobs=-1)]: Done 444 tasks      | elapsed:   55.3s\n",
      "[Parallel(n_jobs=-1)]: Done 794 tasks      | elapsed:  1.6min\n",
      "[Parallel(n_jobs=-1)]: Done 1244 tasks      | elapsed:  2.4min\n",
      "[Parallel(n_jobs=-1)]: Done 1794 tasks      | elapsed:  3.3min\n",
      "[Parallel(n_jobs=-1)]: Done 2444 tasks      | elapsed:  4.4min\n",
      "[Parallel(n_jobs=-1)]: Done 3194 tasks      | elapsed:  5.7min\n",
      "[Parallel(n_jobs=-1)]: Done 4044 tasks      | elapsed:  7.1min\n",
      "[Parallel(n_jobs=-1)]: Done 4994 tasks      | elapsed:  8.8min\n",
      "[Parallel(n_jobs=-1)]: Done 6044 tasks      | elapsed: 10.5min\n",
      "[Parallel(n_jobs=-1)]: Done 7194 tasks      | elapsed: 12.5min\n",
      "[Parallel(n_jobs=-1)]: Done 8444 tasks      | elapsed: 14.5min\n",
      "[Parallel(n_jobs=-1)]: Done 9794 tasks      | elapsed: 16.8min\n",
      "[Parallel(n_jobs=-1)]: Done 11244 tasks      | elapsed: 19.3min\n",
      "[Parallel(n_jobs=-1)]: Done 12794 tasks      | elapsed: 21.9min\n",
      "[Parallel(n_jobs=-1)]: Done 14444 tasks      | elapsed: 24.6min\n",
      "[Parallel(n_jobs=-1)]: Done 16194 tasks      | elapsed: 27.5min\n",
      "[Parallel(n_jobs=-1)]: Done 17496 out of 17496 | elapsed: 29.7min finished\n"
     ]
    },
    {
     "data": {
      "text/plain": [
       "GridSearchCV(cv=3, error_score='raise-deprecating',\n",
       "       estimator=Pipeline(memory=None,\n",
       "     steps=[('TfIdf', TfidfVectorizer(analyzer='word', binary=False, decode_error='strict',\n",
       "        dtype=<class 'numpy.float64'>, encoding='utf-8', input='content',\n",
       "        lowercase=True, max_df=1.0, max_features=None, min_df=1,\n",
       "        ngram_range=(1, 1), norm='l2', preprocessor=None, smooth_idf=True,... vocabulary=None)), ('clf', BernoulliNB(alpha=1.0, binarize=0.0, class_prior=None, fit_prior=True))]),\n",
       "       fit_params=None, iid='warn', n_jobs=-1,\n",
       "       param_grid={'TfIdf__max_features': (50, 100, 150), 'TfIdf__max_df': (0.25, 0.3, 0.35), 'TfIdf__min_df': (1, 3, 5), 'TfIdf__ngram_range': ((2, 4), (1, 4), (1, 3)), 'TfIdf__use_idf': (True, False), 'TfIdf__norm': ('l1', 'l2', None), 'clf__alpha': (2, 2.25, 2.5), 'clf__binarize': (0.05, 0.1, 0, 15)},\n",
       "       pre_dispatch='2*n_jobs', refit=True, return_train_score=True,\n",
       "       scoring=None, verbose=1)"
      ]
     },
     "execution_count": 111,
     "metadata": {},
     "output_type": "execute_result"
    }
   ],
   "source": [
    "# Επανασύσταση των δεδομένων\n",
    "X = df['text'].copy()\n",
    "Y = df['labels'].copy()\n",
    "X_train, X_test, y_train, y_test = train_test_split(X, Y, test_size=0.25, random_state=42, stratify=Y)\n",
    "\n",
    "# Επιλογές συστατικών του Preprocessing των δεδομένων πριν την είσοδό τους στο pipeline\n",
    "preProc(X, stemming=True, lemmatize=True)\n",
    "\n",
    "# Εκτέλεση της ανάλυσης\n",
    "grid_search.fit(X, Y)"
   ]
  },
  {
   "cell_type": "code",
   "execution_count": 112,
   "metadata": {},
   "outputs": [
    {
     "name": "stdout",
     "output_type": "stream",
     "text": [
      "Classification Report: \n",
      "               precision    recall  f1-score   support\n",
      "\n",
      "        AIMX       1.00      0.19      0.32        16\n",
      "        CONT       1.00      0.09      0.17        11\n",
      "        MISC       0.77      0.88      0.82       156\n",
      "        OWNX       0.52      0.55      0.53        71\n",
      "\n",
      "   micro avg       0.70      0.71      0.71       254\n",
      "   macro avg       0.82      0.43      0.46       254\n",
      "weighted avg       0.72      0.71      0.68       254\n",
      "\n",
      "Categories in the predicted set: ['AIMX' 'CONT' 'MISC' 'OWNX']\n",
      "Categories never predicted in test set: {'BASE'}\n",
      "\n",
      "Training Accuracy: 0.743 (+/- 0.01)\n",
      "Validation Accuracy: 0.710 (+/- 0.01)\n",
      "\n",
      "Βέλτιστες παράμετροι:  {'TfIdf__max_df': 0.3, 'TfIdf__max_features': 100, 'TfIdf__min_df': 3, 'TfIdf__ngram_range': (1, 4), 'TfIdf__norm': 'l2', 'TfIdf__use_idf': True, 'clf__alpha': 2.25, 'clf__binarize': 0.1}\n"
     ]
    }
   ],
   "source": [
    "# Εκτύπωση της βέλτιστης απόδοσης και παραμετροποίησης του αλγορίθμου\n",
    "(TrainAcc, ValAcc, Prec, Rec, F1) = evalBestPipe(grid_search)\n",
    "results.append(['Basic & Lemm & Stemm', TrainAcc, ValAcc, Prec, Rec, F1])"
   ]
  },
  {
   "cell_type": "markdown",
   "metadata": {},
   "source": [
    "#### β. Χρήση Βασικού Preprocessing & Stemming των δεδομένων εισόδου"
   ]
  },
  {
   "cell_type": "code",
   "execution_count": 113,
   "metadata": {},
   "outputs": [
    {
     "name": "stdout",
     "output_type": "stream",
     "text": [
      "Fitting 3 folds for each of 5832 candidates, totalling 17496 fits\n"
     ]
    },
    {
     "name": "stderr",
     "output_type": "stream",
     "text": [
      "[Parallel(n_jobs=-1)]: Using backend LokyBackend with 3 concurrent workers.\n",
      "[Parallel(n_jobs=-1)]: Done  44 tasks      | elapsed:    5.0s\n",
      "[Parallel(n_jobs=-1)]: Done 194 tasks      | elapsed:   20.6s\n",
      "[Parallel(n_jobs=-1)]: Done 444 tasks      | elapsed:   48.9s\n",
      "[Parallel(n_jobs=-1)]: Done 794 tasks      | elapsed:  1.4min\n",
      "[Parallel(n_jobs=-1)]: Done 1244 tasks      | elapsed:  2.1min\n",
      "[Parallel(n_jobs=-1)]: Done 1794 tasks      | elapsed:  3.1min\n",
      "[Parallel(n_jobs=-1)]: Done 2444 tasks      | elapsed:  4.2min\n",
      "[Parallel(n_jobs=-1)]: Done 3194 tasks      | elapsed:  5.4min\n",
      "[Parallel(n_jobs=-1)]: Done 4044 tasks      | elapsed:  6.9min\n",
      "[Parallel(n_jobs=-1)]: Done 4994 tasks      | elapsed:  8.5min\n",
      "[Parallel(n_jobs=-1)]: Done 6044 tasks      | elapsed: 10.3min\n",
      "[Parallel(n_jobs=-1)]: Done 7194 tasks      | elapsed: 12.2min\n",
      "[Parallel(n_jobs=-1)]: Done 8444 tasks      | elapsed: 14.3min\n",
      "[Parallel(n_jobs=-1)]: Done 9794 tasks      | elapsed: 16.6min\n",
      "[Parallel(n_jobs=-1)]: Done 11244 tasks      | elapsed: 19.1min\n",
      "[Parallel(n_jobs=-1)]: Done 12794 tasks      | elapsed: 21.8min\n",
      "[Parallel(n_jobs=-1)]: Done 14444 tasks      | elapsed: 24.5min\n",
      "[Parallel(n_jobs=-1)]: Done 16194 tasks      | elapsed: 27.5min\n",
      "[Parallel(n_jobs=-1)]: Done 17496 out of 17496 | elapsed: 29.7min finished\n"
     ]
    },
    {
     "name": "stdout",
     "output_type": "stream",
     "text": [
      "Classification Report: \n",
      "               precision    recall  f1-score   support\n",
      "\n",
      "        AIMX       1.00      0.19      0.32        16\n",
      "        MISC       0.76      0.93      0.84       156\n",
      "        OWNX       0.58      0.54      0.56        71\n",
      "\n",
      "   micro avg       0.72      0.77      0.74       243\n",
      "   macro avg       0.78      0.55      0.57       243\n",
      "weighted avg       0.72      0.77      0.72       243\n",
      "\n",
      "Categories in the predicted set: ['AIMX' 'MISC' 'OWNX']\n",
      "Categories never predicted in test set: {'BASE', 'CONT'}\n",
      "\n",
      "Training Accuracy: 0.742 (+/- 0.01)\n",
      "Validation Accuracy: 0.717 (+/- 0.00)\n",
      "\n",
      "Βέλτιστες παράμετροι:  {'TfIdf__max_df': 0.3, 'TfIdf__max_features': 100, 'TfIdf__min_df': 5, 'TfIdf__ngram_range': (1, 3), 'TfIdf__norm': 'l2', 'TfIdf__use_idf': False, 'clf__alpha': 2.25, 'clf__binarize': 0.1}\n"
     ]
    }
   ],
   "source": [
    "# Χρήση επιλεγμένων τιμών που οδηγούν στην ανάδειξη των βέλτιστων (μετά από πολλές δοκιμές)\n",
    "params = {\n",
    "    'TfIdf__max_features': (50, 100, 150),\n",
    "    'TfIdf__max_df': (0.25, 0.3, 0.35),\n",
    "    'TfIdf__min_df': (3, 5, 7),\n",
    "    'TfIdf__ngram_range': ((2,4), (1,4), (1,3)),\n",
    "    'TfIdf__use_idf': (True, False),\n",
    "    'TfIdf__norm': ('l1', 'l2', None),\n",
    "    'TfIdf__stop_words': (stop_words, None),\n",
    "    'clf__alpha': (2, 2.25, 2.5),\n",
    "    'clf__binarize': (0.05, 0.1, 0,15),\n",
    "    'clf__fit_prior': (True, False),\n",
    "}\n",
    "# Παράμετροι με σταθερή βέλτιστη τιμή:\n",
    "#     'TfIdf__stop_words': (stop_words, None),  --->   None\n",
    "#     'clf__fit_prior': (True, False),  --->   True\n",
    "\n",
    "grid_search = GridSearchCV(BernoulliNB_pipe, params, cv=3, n_jobs=-1, verbose=1, return_train_score=True)\n",
    "\n",
    "X = df['text'].copy()\n",
    "Y = df['labels'].copy()\n",
    "train, X_test, y_train, y_test = train_test_split(X, Y, test_size=0.25, random_state=42, stratify=Y)\n",
    "\n",
    "preProc(X, stemming=True, lemmatize=False)\n",
    "\n",
    "grid_search.fit(X, Y)\n",
    "\n",
    "(TrainAcc, ValAcc, Prec, Rec, F1) = evalBestPipe(grid_search)\n",
    "results.append(['Basic & Stemm', TrainAcc, ValAcc, Prec, Rec, F1])\n"
   ]
  },
  {
   "cell_type": "markdown",
   "metadata": {},
   "source": [
    "#### γ. Χρήση Βασικού Preprocessing των δεδομένων εισόδου"
   ]
  },
  {
   "cell_type": "code",
   "execution_count": 114,
   "metadata": {},
   "outputs": [
    {
     "name": "stdout",
     "output_type": "stream",
     "text": [
      "Fitting 3 folds for each of 2916 candidates, totalling 8748 fits\n"
     ]
    },
    {
     "name": "stderr",
     "output_type": "stream",
     "text": [
      "[Parallel(n_jobs=-1)]: Using backend LokyBackend with 3 concurrent workers.\n",
      "[Parallel(n_jobs=-1)]: Done  44 tasks      | elapsed:    4.8s\n",
      "[Parallel(n_jobs=-1)]: Done 194 tasks      | elapsed:   22.1s\n",
      "[Parallel(n_jobs=-1)]: Done 444 tasks      | elapsed:   54.3s\n",
      "[Parallel(n_jobs=-1)]: Done 794 tasks      | elapsed:  1.6min\n",
      "[Parallel(n_jobs=-1)]: Done 1244 tasks      | elapsed:  2.6min\n",
      "[Parallel(n_jobs=-1)]: Done 1794 tasks      | elapsed:  3.8min\n",
      "[Parallel(n_jobs=-1)]: Done 2444 tasks      | elapsed:  5.1min\n",
      "[Parallel(n_jobs=-1)]: Done 3194 tasks      | elapsed:  6.7min\n",
      "[Parallel(n_jobs=-1)]: Done 4044 tasks      | elapsed:  8.5min\n",
      "[Parallel(n_jobs=-1)]: Done 4994 tasks      | elapsed: 10.5min\n",
      "[Parallel(n_jobs=-1)]: Done 6044 tasks      | elapsed: 12.8min\n",
      "[Parallel(n_jobs=-1)]: Done 7194 tasks      | elapsed: 15.2min\n",
      "[Parallel(n_jobs=-1)]: Done 8444 tasks      | elapsed: 17.9min\n",
      "[Parallel(n_jobs=-1)]: Done 8748 out of 8748 | elapsed: 18.6min finished\n"
     ]
    },
    {
     "name": "stdout",
     "output_type": "stream",
     "text": [
      "Classification Report: \n",
      "               precision    recall  f1-score   support\n",
      "\n",
      "        AIMX       0.62      0.31      0.42        16\n",
      "        BASE       0.00      0.00      0.00         5\n",
      "        CONT       0.25      0.09      0.13        11\n",
      "        MISC       0.85      0.91      0.88       156\n",
      "        OWNX       0.64      0.70      0.67        71\n",
      "\n",
      "   micro avg       0.76      0.76      0.76       259\n",
      "   macro avg       0.47      0.40      0.42       259\n",
      "weighted avg       0.73      0.76      0.74       259\n",
      "\n",
      "Categories in the predicted set: ['AIMX' 'BASE' 'CONT' 'MISC' 'OWNX']\n",
      "\n",
      "Training Accuracy: 0.760 (+/- 0.02)\n",
      "Validation Accuracy: 0.715 (+/- 0.02)\n",
      "\n",
      "Βέλτιστες παράμετροι:  {'TfIdf__max_df': 0.3, 'TfIdf__max_features': 150, 'TfIdf__min_df': 7, 'TfIdf__ngram_range': (1, 4), 'TfIdf__norm': 'l2', 'TfIdf__use_idf': True, 'clf__alpha': 3, 'clf__binarize': 0.05}\n"
     ]
    }
   ],
   "source": [
    "# Χρήση επιλεγμένων τιμών που οδηγούν στην ανάδειξη των βέλτιστων (μετά από πολλές δοκιμές)\n",
    "params = {\n",
    "    'TfIdf__max_features': (100, 150, 200),\n",
    "    'TfIdf__max_df': (0.25, 0.3, 0.35),\n",
    "    'TfIdf__min_df': (5, 7, 10),\n",
    "    'TfIdf__ngram_range': ((2,4), (1,4), (1,5)),\n",
    "    'TfIdf__use_idf': (True, False),\n",
    "    'TfIdf__norm': ('l1', 'l2', None),\n",
    "    'TfIdf__stop_words': (stop_words, None),\n",
    "    'clf__alpha': (2.75, 3, 3.25),\n",
    "    'clf__binarize': (0.05, 0.1),\n",
    "    'clf__fit_prior': (True, False),\n",
    "}\n",
    "# Παράμετροι με σταθερή βέλτιστη τιμή:\n",
    "#     'TfIdf__stop_words': (stop_words, None),  --->   None\n",
    "#     'clf__fit_prior': (True, False),  --->   True\n",
    "\n",
    "grid_search = GridSearchCV(BernoulliNB_pipe, params, cv=3, n_jobs=-1, verbose=1, return_train_score=True)\n",
    "\n",
    "X = df['text'].copy()\n",
    "Y = df['labels'].copy()\n",
    "train, X_test, y_train, y_test = train_test_split(X, Y, test_size=0.25, random_state=42, stratify=Y)\n",
    "\n",
    "preProc(X, stemming=False, lemmatize=False)\n",
    "\n",
    "grid_search.fit(X, Y)\n",
    "\n",
    "(TrainAcc, ValAcc, Prec, Rec, F1) = evalBestPipe(grid_search)\n",
    "results.append(['Basic', TrainAcc, ValAcc, Prec, Rec, F1])\n"
   ]
  },
  {
   "cell_type": "markdown",
   "metadata": {},
   "source": [
    "### Ανάλυση αποτελεσμάτων Αλγορίθμου"
   ]
  },
  {
   "cell_type": "code",
   "execution_count": 128,
   "metadata": {},
   "outputs": [
    {
     "name": "stdout",
     "output_type": "stream",
     "text": [
      "Αποτελέσματα αλγορίθμου: Bernoulli Naive Bayes\n"
     ]
    },
    {
     "data": {
      "text/html": [
       "<table>\n",
       "<tbody>\n",
       "<tr><td>Preprocessing       </td><td>Training Accuracy</td><td>Validation Accuracy</td><td>Precission</td><td>Recall</td><td>F1-score</td></tr>\n",
       "<tr><td>Basic & Lemm & Stemm</td><td>0.827 (+/- 0.01) </td><td>0.706 (+/- 0.02)   </td><td>0.721     </td><td>0.761 </td><td>0.705   </td></tr>\n",
       "<tr><td>Basic & Stemm       </td><td>0.814 (+/- 0.01) </td><td>0.702 (+/- 0.02)   </td><td>0.708     </td><td>0.819 </td><td>0.752   </td></tr>\n",
       "<tr><td>Basic               </td><td>0.791 (+/- 0.01) </td><td>0.709 (+/- 0.02)   </td><td>0.773     </td><td>0.827 </td><td>0.785   </td></tr>\n",
       "</tbody>\n",
       "</table>"
      ],
      "text/plain": [
       "<IPython.core.display.HTML object>"
      ]
     },
     "metadata": {},
     "output_type": "display_data"
    }
   ],
   "source": [
    "print('Αποτελέσματα αλγορίθμου: Bernoulli Naive Bayes')\n",
    "display(HTML(tabulate.tabulate(results, tablefmt='html')))"
   ]
  },
  {
   "cell_type": "markdown",
   "metadata": {},
   "source": [
    "#### Από τις τιμές των μετρικών του παραπάνω πίνακα συμπεραίνω τα ακόλουθα:\n",
    "- #### Η διαδικασία εύρεσης των βέλτιστων τιμών παραμέτρων βελτίωσε τη γενική απόδοση του αλγορίθμου, συγκρινόμενη με την απόδοση όταν ο αλγόριθμος χρησιμοποιούσε τις εξ' ορισμού τιμές παραμέτρων.\n",
    "- #### Αναφορικά με το Preprocessing των δεδομένων, η χρήση απλά Βασικού Preprocessing δίνει τα καλύτερα αποτελέσματα.\n",
    "- #### Η χρήση Βασικού Preprocessing οδηγεί στην εμφάνιση όλων των κλάσεων στις προβλέψεις του συνόλου ελέγχου. Η προσθήκη Stemming ή/και Lemmatization οδηγεί 1 ή 2 κλάσεις εκτός προβλέψεων.\n",
    "\n",
    "#### Αναφορικά με τη βέλτιστη παραμετροποίηση των χρησιμοποιούμενων αλγορίθμων συμπεραίνω τα ακόλουθα:\n",
    "- #### Χρησιμοποιείται πολύ μικρό ποσοστό των συνολικών features των δεδομένων.\n",
    "- #### Στον αλγόριθμο TF-IDF κρίνεται γενικά απαραίτητη η εφαρμογή της μεθόδου IDF.\n",
    "- #### Στον αλγόριθμο TF-IDF δεν κρίνεται απαραίτητη η χρήση της πρόσθετης λίστας με τα Stop Word. Αυτό είναι λογικό καθώς η παράμετρος **max_df** απομακρύνει αποτελεσματικά τις πλέον κοινές λέξεις."
   ]
  },
  {
   "cell_type": "markdown",
   "metadata": {},
   "source": [
    "### Σύγκριση χρήσης CountVectorizer - TfidfVectorizer"
   ]
  },
  {
   "cell_type": "markdown",
   "metadata": {},
   "source": [
    "#### α. Χρήση CountVectorizer"
   ]
  },
  {
   "cell_type": "code",
   "execution_count": null,
   "metadata": {},
   "outputs": [],
   "source": []
  },
  {
   "cell_type": "code",
   "execution_count": 131,
   "metadata": {},
   "outputs": [
    {
     "name": "stdout",
     "output_type": "stream",
     "text": [
      "Fitting 3 folds for each of 972 candidates, totalling 2916 fits\n"
     ]
    },
    {
     "name": "stderr",
     "output_type": "stream",
     "text": [
      "[Parallel(n_jobs=-1)]: Using backend LokyBackend with 3 concurrent workers.\n",
      "[Parallel(n_jobs=-1)]: Done  44 tasks      | elapsed:    5.8s\n",
      "[Parallel(n_jobs=-1)]: Done 194 tasks      | elapsed:   20.6s\n",
      "[Parallel(n_jobs=-1)]: Done 444 tasks      | elapsed:   45.3s\n",
      "[Parallel(n_jobs=-1)]: Done 794 tasks      | elapsed:  1.3min\n",
      "[Parallel(n_jobs=-1)]: Done 1244 tasks      | elapsed:  2.1min\n",
      "[Parallel(n_jobs=-1)]: Done 1794 tasks      | elapsed:  3.1min\n",
      "[Parallel(n_jobs=-1)]: Done 2444 tasks      | elapsed:  4.3min\n",
      "[Parallel(n_jobs=-1)]: Done 2916 out of 2916 | elapsed:  5.2min finished\n"
     ]
    },
    {
     "name": "stdout",
     "output_type": "stream",
     "text": [
      "Classification Report: \n",
      "               precision    recall  f1-score   support\n",
      "\n",
      "        AIMX       1.00      0.19      0.32        16\n",
      "        CONT       1.00      0.09      0.17        11\n",
      "        MISC       0.77      0.91      0.83       156\n",
      "        OWNX       0.56      0.55      0.55        71\n",
      "\n",
      "   micro avg       0.71      0.73      0.72       254\n",
      "   macro avg       0.83      0.43      0.47       254\n",
      "weighted avg       0.73      0.73      0.69       254\n",
      "\n",
      "Categories in the predicted set: ['AIMX' 'CONT' 'MISC' 'OWNX']\n",
      "Categories never predicted in test set: {'BASE'}\n",
      "\n",
      "Training Accuracy: 0.744 (+/- 0.01)\n",
      "Validation Accuracy: 0.709 (+/- 0.01)\n",
      "\n",
      "Βέλτιστες παράμετροι:  {'clf__alpha': 2.25, 'clf__binarize': 0.05, 'ctv__max_df': 0.3, 'ctv__max_features': 100, 'ctv__min_df': 3, 'ctv__ngram_range': (1, 4)}\n",
      "Αποτελέσματα αλγορίθμου: Bernoulli Naive Bayes με χρήση CountVectorizer\n"
     ]
    },
    {
     "data": {
      "text/html": [
       "<table>\n",
       "<tbody>\n",
       "<tr><td>Preprocessing       </td><td>Training Accuracy</td><td>Validation Accuracy</td><td>Precission</td><td>Recall</td><td>F1-score</td></tr>\n",
       "<tr><td>Basic & Lemm & Stemm</td><td>0.744 (+/- 0.01) </td><td>0.709 (+/- 0.01)   </td><td>0.733     </td><td>0.728 </td><td>0.693   </td></tr>\n",
       "</tbody>\n",
       "</table>"
      ],
      "text/plain": [
       "<IPython.core.display.HTML object>"
      ]
     },
     "metadata": {},
     "output_type": "display_data"
    }
   ],
   "source": [
    "# Καθορισμός του χρησιμοποιούμενου Pipeline\n",
    "BernoulliNB_pipe = Pipeline([\n",
    "    ('ctv', CountVectorizer()),\n",
    "    ('clf', BernoulliNB())\n",
    "])\n",
    "\n",
    "# Δομή αποθήκευσης συνολικών αποτελεσμάτων Accuracy του αλγορίθμου\n",
    "results = [['Preprocessing', 'Training Accuracy', 'Validation Accuracy', 'Precission', 'Recall', 'F1-score']]\n",
    "\n",
    "# Σύνολο λέξεων της Αγγλικής γλώσσας χαρακτηρισμένων ως Stop Words, της βιβλιοθήκης sklearn.\n",
    "from sklearn.feature_extraction import stop_words\n",
    "stop_words = stop_words.ENGLISH_STOP_WORDS\n",
    "\n",
    "# Χρήση επιλεγμένων τιμών που οδηγούν στην ανάδειξη των βέλτιστων (μετά από πολλές δοκιμές)\n",
    "params = {\n",
    "    'ctv__max_features': (50, 100, 150),\n",
    "    'ctv__max_df': (0.25, 0.3, 0.35),\n",
    "    'ctv__min_df': (1, 3, 5),\n",
    "    'ctv__ngram_range': ((2,4), (1,4), (1,3)),\n",
    "    'ctv__stop_words': (stop_words, None),\n",
    "    'clf__alpha': (2, 2.25, 2.5),\n",
    "    'clf__binarize': (0.05, 0.1, 0,15),\n",
    "    'clf__fit_prior': (True, False),\n",
    "}\n",
    "# Παράμετροι με σταθερή βέλτιστη τιμή:\n",
    "#     'ctv__stop_words': (stop_words, None),  --->   None\n",
    "#     'clf__fit_prior': (True, False),  --->  True\n",
    "\n",
    "grid_search = GridSearchCV(BernoulliNB_pipe, params, cv=3, n_jobs=-1, verbose=1, return_train_score=True)\n",
    "\n",
    "X = df['text'].copy()\n",
    "Y = df['labels'].copy()\n",
    "train, X_test, y_train, y_test = train_test_split(X, Y, test_size=0.25, random_state=42, stratify=Y)\n",
    "\n",
    "preProc(X, stemming=True, lemmatize=True)\n",
    "\n",
    "grid_search.fit(X, Y)\n",
    "\n",
    "(TrainAcc, ValAcc, Prec, Rec, F1) = evalBestPipe(grid_search)\n",
    "results.append(['Basic & Lemm & Stemm', TrainAcc, ValAcc, Prec, Rec, F1])\n",
    "\n",
    "print('Αποτελέσματα αλγορίθμου: Bernoulli Naive Bayes με χρήση CountVectorizer')\n",
    "display(HTML(tabulate.tabulate(results, tablefmt='html')))\n"
   ]
  },
  {
   "cell_type": "markdown",
   "metadata": {},
   "source": [
    "#### β. Χρήση TfidfVectorizer"
   ]
  },
  {
   "cell_type": "code",
   "execution_count": 133,
   "metadata": {},
   "outputs": [
    {
     "name": "stdout",
     "output_type": "stream",
     "text": [
      "Fitting 3 folds for each of 1944 candidates, totalling 5832 fits\n"
     ]
    },
    {
     "name": "stderr",
     "output_type": "stream",
     "text": [
      "[Parallel(n_jobs=-1)]: Using backend LokyBackend with 3 concurrent workers.\n",
      "[Parallel(n_jobs=-1)]: Done  44 tasks      | elapsed:    6.1s\n",
      "[Parallel(n_jobs=-1)]: Done 194 tasks      | elapsed:   23.3s\n",
      "[Parallel(n_jobs=-1)]: Done 444 tasks      | elapsed:   50.1s\n",
      "[Parallel(n_jobs=-1)]: Done 794 tasks      | elapsed:  1.6min\n",
      "[Parallel(n_jobs=-1)]: Done 1244 tasks      | elapsed:  2.4min\n",
      "[Parallel(n_jobs=-1)]: Done 1794 tasks      | elapsed:  3.5min\n",
      "[Parallel(n_jobs=-1)]: Done 2444 tasks      | elapsed:  4.6min\n",
      "[Parallel(n_jobs=-1)]: Done 3194 tasks      | elapsed:  6.0min\n",
      "[Parallel(n_jobs=-1)]: Done 4044 tasks      | elapsed:  7.6min\n",
      "[Parallel(n_jobs=-1)]: Done 4994 tasks      | elapsed:  9.4min\n",
      "[Parallel(n_jobs=-1)]: Done 5832 out of 5832 | elapsed: 10.9min finished\n"
     ]
    },
    {
     "name": "stdout",
     "output_type": "stream",
     "text": [
      "Classification Report: \n",
      "               precision    recall  f1-score   support\n",
      "\n",
      "        AIMX       1.00      0.19      0.32        16\n",
      "        CONT       1.00      0.09      0.17        11\n",
      "        MISC       0.77      0.88      0.82       156\n",
      "        OWNX       0.52      0.55      0.53        71\n",
      "\n",
      "   micro avg       0.70      0.71      0.71       254\n",
      "   macro avg       0.82      0.43      0.46       254\n",
      "weighted avg       0.72      0.71      0.68       254\n",
      "\n",
      "Categories in the predicted set: ['AIMX' 'CONT' 'MISC' 'OWNX']\n",
      "Categories never predicted in test set: {'BASE'}\n",
      "\n",
      "Training Accuracy: 0.743 (+/- 0.01)\n",
      "Validation Accuracy: 0.710 (+/- 0.01)\n",
      "\n",
      "Βέλτιστες παράμετροι:  {'TfIdf__max_df': 0.3, 'TfIdf__max_features': 100, 'TfIdf__min_df': 3, 'TfIdf__ngram_range': (1, 4), 'TfIdf__norm': 'l2', 'clf__alpha': 2.25, 'clf__binarize': 0.1}\n",
      "Αποτελέσματα αλγορίθμου: Bernoulli Naive Bayes με χρήση TfidfVectorizer\n"
     ]
    },
    {
     "data": {
      "text/html": [
       "<table>\n",
       "<tbody>\n",
       "<tr><td>Preprocessing       </td><td>Training Accuracy</td><td>Validation Accuracy</td><td>Precission</td><td>Recall</td><td>F1-score</td></tr>\n",
       "<tr><td>Basic & Lemm & Stemm</td><td>0.743 (+/- 0.01) </td><td>0.710 (+/- 0.01)   </td><td>0.723     </td><td>0.713 </td><td>0.681   </td></tr>\n",
       "</tbody>\n",
       "</table>"
      ],
      "text/plain": [
       "<IPython.core.display.HTML object>"
      ]
     },
     "metadata": {},
     "output_type": "display_data"
    }
   ],
   "source": [
    "# Καθορισμός του χρησιμοποιούμενου Pipeline\n",
    "BernoulliNB_pipe = Pipeline([\n",
    "    ('TfIdf', TfidfVectorizer(use_idf=True)),\n",
    "    ('clf', BernoulliNB())\n",
    "])\n",
    "\n",
    "# Δομή αποθήκευσης συνολικών αποτελεσμάτων Accuracy του αλγορίθμου\n",
    "results = [['Preprocessing', 'Training Accuracy', 'Validation Accuracy', 'Precission', 'Recall', 'F1-score']]\n",
    "\n",
    "# Σύνολο λέξεων της Αγγλικής γλώσσας χαρακτηρισμένων ως Stop Words, της βιβλιοθήκης sklearn.\n",
    "from sklearn.feature_extraction import stop_words\n",
    "stop_words = stop_words.ENGLISH_STOP_WORDS\n",
    "\n",
    "# Χρήση επιλεγμένων τιμών που οδηγούν στην ανάδειξη των βέλτιστων (μετά από πολλές δοκιμές)\n",
    "params = {\n",
    "    'TfIdf__max_features': (50, 100, 150),\n",
    "    'TfIdf__max_df': (0.25, 0.3, 0.35),\n",
    "    'TfIdf__min_df': (1, 3, 5),\n",
    "    'TfIdf__ngram_range': ((2,4), (1,4), (1,3)),\n",
    "    'TfIdf__norm': ('l1', 'l2'),\n",
    "    'TfIdf__stop_words': (stop_words, None),\n",
    "    'clf__alpha': (2, 2.25, 2.5),\n",
    "    'clf__binarize': (0.05, 0.1, 0,15),\n",
    "    'clf__fit_prior': (True, False),\n",
    "}\n",
    "# Παράμετροι με σταθερή βέλτιστη τιμή:\n",
    "#     'TfIdf__stop_words': (stop_words, None),  --->   None\n",
    "#     'clf__fit_prior': (True, False),  --->  True\n",
    "\n",
    "# Κλάση που αναλαμβάνει την εξαντλητική μελέτη των παραμέτρων των συστατικών μεθόδων του Pipeline\n",
    "grid_search = GridSearchCV(BernoulliNB_pipe, params, cv=3, n_jobs=-1, verbose=1, return_train_score=True)\n",
    "\n",
    "X = df['text'].copy()\n",
    "Y = df['labels'].copy()\n",
    "train, X_test, y_train, y_test = train_test_split(X, Y, test_size=0.25, random_state=42, stratify=Y)\n",
    "\n",
    "preProc(X, stemming=True, lemmatize=True)\n",
    "\n",
    "grid_search.fit(X, Y)\n",
    "\n",
    "(TrainAcc, ValAcc, Prec, Rec, F1) = evalBestPipe(grid_search)\n",
    "results.append(['Basic & Lemm & Stemm', TrainAcc, ValAcc, Prec, Rec, F1])\n",
    "\n",
    "print('Αποτελέσματα αλγορίθμου: Bernoulli Naive Bayes με χρήση TfidfVectorizer')\n",
    "display(HTML(tabulate.tabulate(results, tablefmt='html')))\n",
    "\n"
   ]
  },
  {
   "cell_type": "markdown",
   "metadata": {},
   "source": [
    "### Ανάλυση αποτελεσμάτων σύγκρισης"
   ]
  },
  {
   "cell_type": "markdown",
   "metadata": {},
   "source": [
    "#### Από τις τιμές των μετρικών της παραπάνω σύγκρισης συμπεραίνω τα ακόλουθα:\n",
    "- #### Οι δύοι αλγόριθμοι αποδίδουν εξίσου καλά, με μικρές μεταξύ τους διαφορές στις τιμές των μετρικών.\n",
    "\n",
    "#### Αναφορικά με τη βέλτιστη παραμετροποίηση των χρησιμοποιούμενων αλγορίθμων συμπεραίνω τα ακόλουθα:\n",
    "- #### Οι δύο αλγόριθμοι χρησιμοποιούν παρόμοιες βέλτιστες τιμές παραμέτρων.\n",
    "- #### Και στους 2 αλγορίθμους, 1 κλάση (η ίδια) δεν εμφανίζεται στις προβλέψεις του συνόλου ελέγχου."
   ]
  },
  {
   "cell_type": "code",
   "execution_count": null,
   "metadata": {},
   "outputs": [],
   "source": []
  },
  {
   "cell_type": "code",
   "execution_count": null,
   "metadata": {},
   "outputs": [],
   "source": []
  },
  {
   "cell_type": "markdown",
   "metadata": {},
   "source": [
    "### 3. Gaussian Naive Bayes"
   ]
  },
  {
   "cell_type": "markdown",
   "metadata": {},
   "source": [
    "#### Αφήνω τις παραμέτρους στις εξ' ορισμού (default) τιμές τους.\n",
    "\n",
    "#### [Scikit-learn Gaussian Naive Bayes Documentation](https://scikit-learn.org/stable/modules/generated/sklearn.naive_bayes.GaussianNB.html)"
   ]
  },
  {
   "cell_type": "code",
   "execution_count": 139,
   "metadata": {},
   "outputs": [],
   "source": [
    "from mlxtend.preprocessing import DenseTransformer\n",
    "\n",
    "# Καθορισμός του χρησιμοποιούμενου Pipeline\n",
    "GaussianNB_pipe = Pipeline([\n",
    "    ('TfIdf', TfidfVectorizer()),\n",
    "    ('ParseToDense', DenseTransformer()),\n",
    "    ('clf', GaussianNB())\n",
    "])\n",
    "\n",
    "# Δομή αποθήκευσης συνολικών αποτελεσμάτων Accuracy του αλγορίθμου\n",
    "results = [['Preprocessing', 'Training Accuracy', 'Validation Accuracy', 'Precission', 'Recall', 'F1-score']]\n",
    "\n",
    "# Σύνολο λέξεων της Αγγλικής γλώσσας χαρακτηρισμένων ως Stop Words, της βιβλιοθήκης sklearn.\n",
    "from sklearn.feature_extraction import stop_words\n",
    "stop_words = stop_words.ENGLISH_STOP_WORDS\n",
    "\n",
    "# Οι κρίσιμες παράμετροι των συστατικών μεθόδων του Pipeline και το εύρος τιμών τους, \n",
    "# με σκοπό την εύρεση των βέλτιστων τιμών αυτών.\n",
    "# Χρήση επιλεγμένων τιμών που οδηγούν στην ανάδειξη των βέλτιστων (μετά από πολλές δοκιμές)\n",
    "params = {\n",
    "    'TfIdf__max_features': (2000, 2250, 2500),\n",
    "    'TfIdf__max_df': (0.15, 0.2, 0.25),\n",
    "    'TfIdf__min_df': (1, 2, 3),\n",
    "    'TfIdf__ngram_range': ((1,3), (1,4), (2,3)),\n",
    "    'TfIdf__use_idf': (True, False),\n",
    "    'TfIdf__norm': ('l1', 'l2', None),\n",
    "    'TfIdf__stop_words': (stop_words, None),\n",
    "}\n",
    "# Για επιτάχυνση της ανάλυσης αφαίρεσα τις παρακάτω παραμέτρους, που δίνουν σε όλες τις\n",
    "# δοκιμές σταθερά την ίδια βέλτιστη τιμή:\n",
    "#     'TfIdf__use_idf': (True, False),  --->  True\n",
    "#     'TfIdf__stop_words': (stop_words, None),  --->   None\n",
    "\n",
    "# Κλάση που αναλαμβάνει την εξαντλητική μελέτη των παραμέτρων των συστατικών μεθόδων του Pipeline\n",
    "grid_search = GridSearchCV(GaussianNB_pipe, params, cv=3, n_jobs=-1, verbose=1, return_train_score=True)\n"
   ]
  },
  {
   "cell_type": "markdown",
   "metadata": {},
   "source": [
    "#### α. Χρήση Βασικού Preprocessing & Stemming & Lemmatization των δεδομένων εισόδου"
   ]
  },
  {
   "cell_type": "code",
   "execution_count": 140,
   "metadata": {},
   "outputs": [
    {
     "name": "stdout",
     "output_type": "stream",
     "text": [
      "Fitting 3 folds for each of 243 candidates, totalling 729 fits\n"
     ]
    },
    {
     "name": "stderr",
     "output_type": "stream",
     "text": [
      "[Parallel(n_jobs=-1)]: Using backend LokyBackend with 3 concurrent workers.\n",
      "[Parallel(n_jobs=-1)]: Done  44 tasks      | elapsed:   11.1s\n",
      "[Parallel(n_jobs=-1)]: Done 194 tasks      | elapsed:   43.7s\n",
      "[Parallel(n_jobs=-1)]: Done 444 tasks      | elapsed:  1.6min\n",
      "[Parallel(n_jobs=-1)]: Done 729 out of 729 | elapsed:  2.6min finished\n"
     ]
    },
    {
     "data": {
      "text/plain": [
       "GridSearchCV(cv=3, error_score='raise-deprecating',\n",
       "       estimator=Pipeline(memory=None,\n",
       "     steps=[('TfIdf', TfidfVectorizer(analyzer='word', binary=False, decode_error='strict',\n",
       "        dtype=<class 'numpy.float64'>, encoding='utf-8', input='content',\n",
       "        lowercase=True, max_df=1.0, max_features=None, min_df=1,\n",
       "        ngram_range=(1, 1), norm='l2', preprocessor=None, smooth_idf=True,...oDense', DenseTransformer(return_copy=True)), ('clf', GaussianNB(priors=None, var_smoothing=1e-09))]),\n",
       "       fit_params=None, iid='warn', n_jobs=-1,\n",
       "       param_grid={'TfIdf__max_features': (2000, 2250, 2500), 'TfIdf__max_df': (0.15, 0.2, 0.25), 'TfIdf__min_df': (1, 2, 3), 'TfIdf__ngram_range': ((1, 3), (1, 4), (2, 3)), 'TfIdf__norm': ('l1', 'l2', None)},\n",
       "       pre_dispatch='2*n_jobs', refit=True, return_train_score=True,\n",
       "       scoring=None, verbose=1)"
      ]
     },
     "execution_count": 140,
     "metadata": {},
     "output_type": "execute_result"
    }
   ],
   "source": [
    "# Επανασύσταση των δεδομένων\n",
    "X = df['text'].copy()\n",
    "Y = df['labels'].copy()\n",
    "X_train, X_test, y_train, y_test = train_test_split(X, Y, test_size=0.25, random_state=42, stratify=Y)\n",
    "\n",
    "# Επιλογές συστατικών του Preprocessing των δεδομένων πριν την είσοδό τους στο pipeline\n",
    "preProc(X, stemming=True, lemmatize=True)\n",
    "\n",
    "# Εκτέλεση της ανάλυσης\n",
    "grid_search.fit(X, Y)"
   ]
  },
  {
   "cell_type": "code",
   "execution_count": 141,
   "metadata": {},
   "outputs": [
    {
     "name": "stdout",
     "output_type": "stream",
     "text": [
      "Classification Report: \n",
      "               precision    recall  f1-score   support\n",
      "\n",
      "        AIMX       0.55      0.69      0.61        16\n",
      "        BASE       0.36      1.00      0.53         5\n",
      "        CONT       0.34      1.00      0.51        11\n",
      "        MISC       0.99      0.49      0.65       156\n",
      "        OWNX       0.51      0.83      0.63        71\n",
      "\n",
      "   micro avg       0.63      0.63      0.63       259\n",
      "   macro avg       0.55      0.80      0.59       259\n",
      "weighted avg       0.79      0.63      0.64       259\n",
      "\n",
      "Categories in the predicted set: ['AIMX' 'BASE' 'CONT' 'MISC' 'OWNX']\n",
      "\n",
      "Training Accuracy: 0.983 (+/- 0.00)\n",
      "Validation Accuracy: 0.574 (+/- 0.05)\n",
      "\n",
      "Βέλτιστες παράμετροι:  {'TfIdf__max_df': 0.15, 'TfIdf__max_features': 2250, 'TfIdf__min_df': 2, 'TfIdf__ngram_range': (1, 3), 'TfIdf__norm': 'l2'}\n"
     ]
    }
   ],
   "source": [
    "# Εκτύπωση της βέλτιστης απόδοσης και παραμετροποίησης του αλγορίθμου\n",
    "(TrainAcc, ValAcc, Prec, Rec, F1) = evalBestPipe(grid_search)\n",
    "results.append(['Basic & Lemm & Stemm', TrainAcc, ValAcc, Prec, Rec, F1])"
   ]
  },
  {
   "cell_type": "markdown",
   "metadata": {},
   "source": [
    "#### β. Χρήση Βασικού Preprocessing & Stemming των δεδομένων εισόδου"
   ]
  },
  {
   "cell_type": "code",
   "execution_count": 142,
   "metadata": {},
   "outputs": [
    {
     "name": "stdout",
     "output_type": "stream",
     "text": [
      "Fitting 3 folds for each of 243 candidates, totalling 729 fits\n"
     ]
    },
    {
     "name": "stderr",
     "output_type": "stream",
     "text": [
      "[Parallel(n_jobs=-1)]: Using backend LokyBackend with 3 concurrent workers.\n",
      "[Parallel(n_jobs=-1)]: Done  44 tasks      | elapsed:   12.4s\n",
      "[Parallel(n_jobs=-1)]: Done 194 tasks      | elapsed:   49.5s\n",
      "[Parallel(n_jobs=-1)]: Done 444 tasks      | elapsed:  1.9min\n",
      "[Parallel(n_jobs=-1)]: Done 729 out of 729 | elapsed:  3.1min finished\n"
     ]
    },
    {
     "name": "stdout",
     "output_type": "stream",
     "text": [
      "Classification Report: \n",
      "               precision    recall  f1-score   support\n",
      "\n",
      "        AIMX       0.57      0.81      0.67        16\n",
      "        BASE       0.50      0.80      0.62         5\n",
      "        CONT       0.44      1.00      0.61        11\n",
      "        MISC       0.99      0.62      0.76       156\n",
      "        OWNX       0.58      0.86      0.69        71\n",
      "\n",
      "   micro avg       0.72      0.72      0.72       259\n",
      "   macro avg       0.62      0.82      0.67       259\n",
      "weighted avg       0.82      0.72      0.73       259\n",
      "\n",
      "Categories in the predicted set: ['AIMX' 'BASE' 'CONT' 'MISC' 'OWNX']\n",
      "\n",
      "Training Accuracy: 0.992 (+/- 0.00)\n",
      "Validation Accuracy: 0.586 (+/- 0.05)\n",
      "\n",
      "Βέλτιστες παράμετροι:  {'TfIdf__max_df': 0.2, 'TfIdf__max_features': 3000, 'TfIdf__min_df': 2, 'TfIdf__ngram_range': (1, 4), 'TfIdf__norm': 'l1'}\n"
     ]
    }
   ],
   "source": [
    "# Χρήση επιλεγμένων τιμών που οδηγούν στην ανάδειξη των βέλτιστων (μετά από πολλές δοκιμές)\n",
    "params = {\n",
    "    'TfIdf__max_features': (2500, 2750, 3000),\n",
    "    'TfIdf__max_df': (0.15, 0.2, 0.25),\n",
    "    'TfIdf__min_df': (1, 2, 3),\n",
    "    'TfIdf__ngram_range': ((1,3), (1,4), (2,3)),\n",
    "    'TfIdf__use_idf': (True, False),\n",
    "    'TfIdf__norm': ('l1', 'l2', None),\n",
    "    'TfIdf__stop_words': (stop_words, None),\n",
    "}\n",
    "# Παράμετροι με σταθερή βέλτιστη τιμή:\n",
    "#     'TfIdf__use_idf': (True, False),  --->  True\n",
    "#     'TfIdf__stop_words': (stop_words, None),  --->   None\n",
    "\n",
    "grid_search = GridSearchCV(GaussianNB_pipe, params, cv=3, n_jobs=-1, verbose=1, return_train_score=True)\n",
    "\n",
    "X = df['text'].copy()\n",
    "Y = df['labels'].copy()\n",
    "train, X_test, y_train, y_test = train_test_split(X, Y, test_size=0.25, random_state=42, stratify=Y)\n",
    "\n",
    "preProc(X, stemming=True, lemmatize=False)\n",
    "\n",
    "grid_search.fit(X, Y)\n",
    "\n",
    "(TrainAcc, ValAcc, Prec, Rec, F1) = evalBestPipe(grid_search)\n",
    "results.append(['Basic & Stemm', TrainAcc, ValAcc, Prec, Rec, F1])\n"
   ]
  },
  {
   "cell_type": "markdown",
   "metadata": {},
   "source": [
    "#### γ. Χρήση Βασικού Preprocessing των δεδομένων εισόδου"
   ]
  },
  {
   "cell_type": "code",
   "execution_count": 143,
   "metadata": {},
   "outputs": [
    {
     "name": "stdout",
     "output_type": "stream",
     "text": [
      "Fitting 3 folds for each of 243 candidates, totalling 729 fits\n"
     ]
    },
    {
     "name": "stderr",
     "output_type": "stream",
     "text": [
      "[Parallel(n_jobs=-1)]: Using backend LokyBackend with 3 concurrent workers.\n",
      "[Parallel(n_jobs=-1)]: Done  44 tasks      | elapsed:   11.4s\n",
      "[Parallel(n_jobs=-1)]: Done 194 tasks      | elapsed:   46.5s\n",
      "[Parallel(n_jobs=-1)]: Done 444 tasks      | elapsed:  1.7min\n",
      "[Parallel(n_jobs=-1)]: Done 729 out of 729 | elapsed:  2.9min finished\n"
     ]
    },
    {
     "name": "stdout",
     "output_type": "stream",
     "text": [
      "Classification Report: \n",
      "               precision    recall  f1-score   support\n",
      "\n",
      "        AIMX       1.00      1.00      1.00        16\n",
      "        BASE       1.00      1.00      1.00         5\n",
      "        CONT       1.00      1.00      1.00        11\n",
      "        MISC       1.00      0.96      0.98       156\n",
      "        OWNX       0.92      1.00      0.96        71\n",
      "\n",
      "   micro avg       0.98      0.98      0.98       259\n",
      "   macro avg       0.98      0.99      0.99       259\n",
      "weighted avg       0.98      0.98      0.98       259\n",
      "\n",
      "Categories in the predicted set: ['AIMX' 'BASE' 'CONT' 'MISC' 'OWNX']\n",
      "\n",
      "Training Accuracy: 0.988 (+/- 0.00)\n",
      "Validation Accuracy: 0.549 (+/- 0.02)\n",
      "\n",
      "Βέλτιστες παράμετροι:  {'TfIdf__max_df': 0.2, 'TfIdf__max_features': 3000, 'TfIdf__min_df': 2, 'TfIdf__ngram_range': (1, 4), 'TfIdf__norm': 'l1'}\n"
     ]
    }
   ],
   "source": [
    "# Χρήση επιλεγμένων τιμών που οδηγούν στην ανάδειξη των βέλτιστων (μετά από πολλές δοκιμές)\n",
    "params = {\n",
    "    'TfIdf__max_features': (2500, 2750, 3000),\n",
    "    'TfIdf__max_df': (0.15, 0.2, 0.25),\n",
    "    'TfIdf__min_df': (1, 2, 3),\n",
    "    'TfIdf__ngram_range': ((1,3), (1,4), (2,3)),\n",
    "    'TfIdf__use_idf': (True, False),\n",
    "    'TfIdf__norm': ('l1', 'l2', None),\n",
    "    'TfIdf__stop_words': (stop_words, None),\n",
    "}\n",
    "# Παράμετροι με σταθερή βέλτιστη τιμή:\n",
    "#     'TfIdf__use_idf': (True, False),  --->  False\n",
    "#     'TfIdf__stop_words': (stop_words, None),  --->   None\n",
    "\n",
    "grid_search = GridSearchCV(GaussianNB_pipe, params, cv=3, n_jobs=-1, verbose=1, return_train_score=True)\n",
    "\n",
    "X = df['text'].copy()\n",
    "Y = df['labels'].copy()\n",
    "train, X_test, y_train, y_test = train_test_split(X, Y, test_size=0.25, random_state=42, stratify=Y)\n",
    "\n",
    "preProc(X, stemming=False, lemmatize=False)\n",
    "\n",
    "grid_search.fit(X, Y)\n",
    "\n",
    "(TrainAcc, ValAcc, Prec, Rec, F1) = evalBestPipe(grid_search)\n",
    "results.append(['Basic', TrainAcc, ValAcc, Prec, Rec, F1])\n"
   ]
  },
  {
   "cell_type": "markdown",
   "metadata": {},
   "source": [
    "### Ανάλυση αποτελεσμάτων Αλγορίθμου"
   ]
  },
  {
   "cell_type": "code",
   "execution_count": 145,
   "metadata": {},
   "outputs": [
    {
     "name": "stdout",
     "output_type": "stream",
     "text": [
      "Αποτελέσματα αλγορίθμου: Gaussian Naive Bayes\n"
     ]
    },
    {
     "data": {
      "text/html": [
       "<table>\n",
       "<tbody>\n",
       "<tr><td>Preprocessing       </td><td>Training Accuracy</td><td>Validation Accuracy</td><td>Precission</td><td>Recall</td><td>F1-score</td></tr>\n",
       "<tr><td>Basic & Lemm & Stemm</td><td>0.983 (+/- 0.00) </td><td>0.574 (+/- 0.05)   </td><td>0.789     </td><td>0.625 </td><td>0.636   </td></tr>\n",
       "<tr><td>Basic & Stemm       </td><td>0.992 (+/- 0.00) </td><td>0.586 (+/- 0.05)   </td><td>0.819     </td><td>0.718 </td><td>0.729   </td></tr>\n",
       "<tr><td>Basic               </td><td>0.988 (+/- 0.00) </td><td>0.549 (+/- 0.02)   </td><td>0.979     </td><td>0.977 </td><td>0.977   </td></tr>\n",
       "</tbody>\n",
       "</table>"
      ],
      "text/plain": [
       "<IPython.core.display.HTML object>"
      ]
     },
     "metadata": {},
     "output_type": "display_data"
    }
   ],
   "source": [
    "print('Αποτελέσματα αλγορίθμου: Gaussian Naive Bayes')\n",
    "display(HTML(tabulate.tabulate(results, tablefmt='html')))"
   ]
  },
  {
   "cell_type": "markdown",
   "metadata": {},
   "source": [
    "#### Από τις τιμές των μετρικών του παραπάνω πίνακα συμπεραίνω τα ακόλουθα:\n",
    "- #### Η διαδικασία εύρεσης των βέλτιστων τιμών παραμέτρων, στην περίπτωση χρήσης μόνο του Βασικού Preprocessing, βελτίωσε θεαματικά τη γενική απόδοση του αλγορίθμου, χωρίς να μπορώ να εξηγήσω γιατί. Αντίθετα με προσθήκη χρήσης Stemming ή/και Lemmatization ο αλγόριθμος παρουσιάζει περίπου ίδια απόδοση συγκρινόμενη με την απόδοση όταν ο αλγόριθμος χρησιμοποιούσε τις εξ' ορισμού τιμές παραμέτρων.\n",
    "- #### Αναφορικά με το Preprocessing των δεδομένων, η χρήση απλά Βασικού Preprocessing δίνει τα καλύτερα αποτελέσματα.\n",
    "- #### Ανεξαρτήτου Preprocessing, όλες οι κλάσεις εμφανίζονται στις προβλέψεις του συνόλου ελέγχου.\n",
    "\n",
    "#### Αναφορικά με τη βέλτιστη παραμετροποίηση των χρησιμοποιούμενων αλγορίθμων συμπεραίνω τα ακόλουθα:\n",
    "- #### Χρησιμοποιείται το μεγαλύτερο ποσοστό των συνολικών features των δεδομένων.\n",
    "- #### Στον αλγόριθμο TF-IDF κρίνεται γενικά απαραίτητη η εφαρμογή της μεθόδου IDF.\n",
    "- #### Στον αλγόριθμο TF-IDF δεν κρίνεται απαραίτητη η χρήση της πρόσθετης λίστας με τα Stop Word. Αυτό είναι λογικό καθώς η παράμετρος **max_df** απομακρύνει αποτελεσματικά τις πλέον κοινές λέξεις.\n",
    "- #### Αν δεν περιοριστεί από το χρήστη, όπως και έκανα, ο αλγόριθμος τείνει να χρησιμοποιεί μεγάλο εύρος n-grams, γεγονός το οποίο ίσως ευθύνεται για την υπερμοντελοποίηση του, καθώς τον εξειδικεύουν στα δεδομένα εκπαίδευσης."
   ]
  },
  {
   "cell_type": "markdown",
   "metadata": {},
   "source": [
    "### Σύγκριση χρήσης CountVectorizer - TfidfVectorizer"
   ]
  },
  {
   "cell_type": "markdown",
   "metadata": {},
   "source": [
    "#### α. Χρήση CountVectorizer"
   ]
  },
  {
   "cell_type": "code",
   "execution_count": 148,
   "metadata": {},
   "outputs": [
    {
     "name": "stdout",
     "output_type": "stream",
     "text": [
      "Fitting 3 folds for each of 81 candidates, totalling 243 fits\n"
     ]
    },
    {
     "name": "stderr",
     "output_type": "stream",
     "text": [
      "[Parallel(n_jobs=-1)]: Using backend LokyBackend with 3 concurrent workers.\n",
      "[Parallel(n_jobs=-1)]: Done  44 tasks      | elapsed:    9.2s\n",
      "[Parallel(n_jobs=-1)]: Done 194 tasks      | elapsed:   40.4s\n",
      "[Parallel(n_jobs=-1)]: Done 243 out of 243 | elapsed:   50.8s finished\n"
     ]
    },
    {
     "name": "stdout",
     "output_type": "stream",
     "text": [
      "Classification Report: \n",
      "               precision    recall  f1-score   support\n",
      "\n",
      "        AIMX       0.55      0.69      0.61        16\n",
      "        BASE       0.36      1.00      0.53         5\n",
      "        CONT       0.32      1.00      0.49        11\n",
      "        MISC       0.99      0.46      0.63       156\n",
      "        OWNX       0.49      0.82      0.61        71\n",
      "\n",
      "   micro avg       0.61      0.61      0.61       259\n",
      "   macro avg       0.54      0.79      0.57       259\n",
      "weighted avg       0.78      0.61      0.62       259\n",
      "\n",
      "Categories in the predicted set: ['AIMX' 'BASE' 'CONT' 'MISC' 'OWNX']\n",
      "\n",
      "Training Accuracy: 0.988 (+/- 0.00)\n",
      "Validation Accuracy: 0.576 (+/- 0.05)\n",
      "\n",
      "Βέλτιστες παράμετροι:  {'ctv__max_df': 0.25, 'ctv__max_features': 2500, 'ctv__min_df': 1, 'ctv__ngram_range': (1, 4)}\n",
      "Αποτελέσματα αλγορίθμου: Gaussian Naive Bayes με χρήση CountVectorizer\n"
     ]
    },
    {
     "data": {
      "text/html": [
       "<table>\n",
       "<tbody>\n",
       "<tr><td>Preprocessing       </td><td>Training Accuracy</td><td>Validation Accuracy</td><td>Precission</td><td>Recall</td><td>F1-score</td></tr>\n",
       "<tr><td>Basic & Lemm & Stemm</td><td>0.988 (+/- 0.00) </td><td>0.576 (+/- 0.05)   </td><td>0.783     </td><td>0.606 </td><td>0.616   </td></tr>\n",
       "</tbody>\n",
       "</table>"
      ],
      "text/plain": [
       "<IPython.core.display.HTML object>"
      ]
     },
     "metadata": {},
     "output_type": "display_data"
    }
   ],
   "source": [
    "# Καθορισμός του χρησιμοποιούμενου Pipeline\n",
    "GaussianNB_pipe = Pipeline([\n",
    "    ('ctv', CountVectorizer()),\n",
    "    ('ParseToDense', DenseTransformer()),\n",
    "    ('clf', GaussianNB())\n",
    "])\n",
    "\n",
    "# Δομή αποθήκευσης συνολικών αποτελεσμάτων Accuracy του αλγορίθμου\n",
    "results = [['Preprocessing', 'Training Accuracy', 'Validation Accuracy', 'Precission', 'Recall', 'F1-score']]\n",
    "\n",
    "# Σύνολο λέξεων της Αγγλικής γλώσσας χαρακτηρισμένων ως Stop Words, της βιβλιοθήκης sklearn.\n",
    "from sklearn.feature_extraction import stop_words\n",
    "stop_words = stop_words.ENGLISH_STOP_WORDS\n",
    "\n",
    "# Χρήση επιλεγμένων τιμών που οδηγούν στην ανάδειξη των βέλτιστων (μετά από πολλές δοκιμές)\n",
    "params = {\n",
    "    'ctv__max_features': (2000, 2250, 2500),\n",
    "    'ctv__max_df': (0.15, 0.2, 0.25),\n",
    "    'ctv__min_df': (1, 2, 3),\n",
    "    'ctv__ngram_range': ((1,3), (1,4), (2,3)),\n",
    "    'ctv__stop_words': (stop_words, None),\n",
    "}\n",
    "# Παράμετροι με σταθερή βέλτιστη τιμή:\n",
    "#     'ctv__stop_words': (stop_words, None),  --->   None\n",
    "\n",
    "grid_search = GridSearchCV(GaussianNB_pipe, params, cv=3, n_jobs=-1, verbose=1, return_train_score=True)\n",
    "\n",
    "X = df['text'].copy()\n",
    "Y = df['labels'].copy()\n",
    "train, X_test, y_train, y_test = train_test_split(X, Y, test_size=0.25, random_state=42, stratify=Y)\n",
    "\n",
    "preProc(X, stemming=True, lemmatize=True)\n",
    "\n",
    "grid_search.fit(X, Y)\n",
    "\n",
    "(TrainAcc, ValAcc, Prec, Rec, F1) = evalBestPipe(grid_search)\n",
    "results.append(['Basic & Lemm & Stemm', TrainAcc, ValAcc, Prec, Rec, F1])\n",
    "\n",
    "print('Αποτελέσματα αλγορίθμου: Gaussian Naive Bayes με χρήση CountVectorizer')\n",
    "display(HTML(tabulate.tabulate(results, tablefmt='html')))\n"
   ]
  },
  {
   "cell_type": "markdown",
   "metadata": {},
   "source": [
    "#### β. Χρήση TfidfVectorizer"
   ]
  },
  {
   "cell_type": "code",
   "execution_count": 149,
   "metadata": {},
   "outputs": [
    {
     "name": "stdout",
     "output_type": "stream",
     "text": [
      "Fitting 3 folds for each of 162 candidates, totalling 486 fits\n"
     ]
    },
    {
     "name": "stderr",
     "output_type": "stream",
     "text": [
      "[Parallel(n_jobs=-1)]: Using backend LokyBackend with 3 concurrent workers.\n",
      "[Parallel(n_jobs=-1)]: Done  44 tasks      | elapsed:    9.9s\n",
      "[Parallel(n_jobs=-1)]: Done 194 tasks      | elapsed:   41.9s\n",
      "[Parallel(n_jobs=-1)]: Done 444 tasks      | elapsed:  1.6min\n",
      "[Parallel(n_jobs=-1)]: Done 486 out of 486 | elapsed:  1.7min finished\n"
     ]
    },
    {
     "name": "stdout",
     "output_type": "stream",
     "text": [
      "Classification Report: \n",
      "               precision    recall  f1-score   support\n",
      "\n",
      "        AIMX       0.55      0.69      0.61        16\n",
      "        BASE       0.36      1.00      0.53         5\n",
      "        CONT       0.34      1.00      0.51        11\n",
      "        MISC       0.99      0.49      0.65       156\n",
      "        OWNX       0.51      0.83      0.63        71\n",
      "\n",
      "   micro avg       0.63      0.63      0.63       259\n",
      "   macro avg       0.55      0.80      0.59       259\n",
      "weighted avg       0.79      0.63      0.64       259\n",
      "\n",
      "Categories in the predicted set: ['AIMX' 'BASE' 'CONT' 'MISC' 'OWNX']\n",
      "\n",
      "Training Accuracy: 0.983 (+/- 0.00)\n",
      "Validation Accuracy: 0.574 (+/- 0.05)\n",
      "\n",
      "Βέλτιστες παράμετροι:  {'TfIdf__max_df': 0.15, 'TfIdf__max_features': 2250, 'TfIdf__min_df': 2, 'TfIdf__ngram_range': (1, 3), 'TfIdf__norm': 'l2'}\n",
      "Αποτελέσματα αλγορίθμου: Gaussian Naive Bayes με χρήση TfidfVectorizer\n"
     ]
    },
    {
     "data": {
      "text/html": [
       "<table>\n",
       "<tbody>\n",
       "<tr><td>Preprocessing       </td><td>Training Accuracy</td><td>Validation Accuracy</td><td>Precission</td><td>Recall</td><td>F1-score</td></tr>\n",
       "<tr><td>Basic & Lemm & Stemm</td><td>0.983 (+/- 0.00) </td><td>0.574 (+/- 0.05)   </td><td>0.789     </td><td>0.625 </td><td>0.636   </td></tr>\n",
       "</tbody>\n",
       "</table>"
      ],
      "text/plain": [
       "<IPython.core.display.HTML object>"
      ]
     },
     "metadata": {},
     "output_type": "display_data"
    }
   ],
   "source": [
    "# Καθορισμός του χρησιμοποιούμενου Pipeline\n",
    "GaussianNB_pipe = Pipeline([\n",
    "    ('TfIdf', TfidfVectorizer(use_idf=True)),\n",
    "    ('ParseToDense', DenseTransformer()),\n",
    "    ('clf', GaussianNB())\n",
    "])\n",
    "\n",
    "# Δομή αποθήκευσης συνολικών αποτελεσμάτων Accuracy του αλγορίθμου\n",
    "results = [['Preprocessing', 'Training Accuracy', 'Validation Accuracy', 'Precission', 'Recall', 'F1-score']]\n",
    "\n",
    "# Σύνολο λέξεων της Αγγλικής γλώσσας χαρακτηρισμένων ως Stop Words, της βιβλιοθήκης sklearn.\n",
    "from sklearn.feature_extraction import stop_words\n",
    "stop_words = stop_words.ENGLISH_STOP_WORDS\n",
    "\n",
    "# Χρήση επιλεγμένων τιμών που οδηγούν στην ανάδειξη των βέλτιστων (μετά από πολλές δοκιμές)\n",
    "params = {\n",
    "    'TfIdf__max_features': (2000, 2250, 2500),\n",
    "    'TfIdf__max_df': (0.15, 0.2, 0.25),\n",
    "    'TfIdf__min_df': (1, 2, 3),\n",
    "    'TfIdf__ngram_range': ((1,3), (1,4), (2,3)),\n",
    "    'TfIdf__norm': ('l1', 'l2'),\n",
    "    'TfIdf__stop_words': (stop_words, None),\n",
    "}\n",
    "# Παράμετροι με σταθερή βέλτιστη τιμή:\n",
    "#     'TfIdf__stop_words': (stop_words, None),  --->   None\n",
    "\n",
    "# Κλάση που αναλαμβάνει την εξαντλητική μελέτη των παραμέτρων των συστατικών μεθόδων του Pipeline\n",
    "grid_search = GridSearchCV(GaussianNB_pipe, params, cv=3, n_jobs=-1, verbose=1, return_train_score=True)\n",
    "\n",
    "X = df['text'].copy()\n",
    "Y = df['labels'].copy()\n",
    "train, X_test, y_train, y_test = train_test_split(X, Y, test_size=0.25, random_state=42, stratify=Y)\n",
    "\n",
    "preProc(X, stemming=True, lemmatize=True)\n",
    "\n",
    "grid_search.fit(X, Y)\n",
    "\n",
    "(TrainAcc, ValAcc, Prec, Rec, F1) = evalBestPipe(grid_search)\n",
    "results.append(['Basic & Lemm & Stemm', TrainAcc, ValAcc, Prec, Rec, F1])\n",
    "\n",
    "print('Αποτελέσματα αλγορίθμου: Gaussian Naive Bayes με χρήση TfidfVectorizer')\n",
    "display(HTML(tabulate.tabulate(results, tablefmt='html')))\n"
   ]
  },
  {
   "cell_type": "markdown",
   "metadata": {},
   "source": [
    "### Ανάλυση αποτελεσμάτων σύγκρισης"
   ]
  },
  {
   "cell_type": "markdown",
   "metadata": {},
   "source": [
    "#### Από τις τιμές των μετρικών της παραπάνω σύγκρισης συμπεραίνω τα ακόλουθα:\n",
    "- #### Οι δύοι αλγόριθμοι αποδίδουν εξίσου καλά, με μια τάση καλύτερης απόδοσης στην περίπτωση χρήσης του TF-IDF.\n",
    "\n",
    "#### Αναφορικά με τη βέλτιστη παραμετροποίηση των χρησιμοποιούμενων αλγορίθμων συμπεραίνω τα ακόλουθα:\n",
    "- #### Οι δύο αλγόριθμοι χρησιμοποιούν γενικά παρόμοιες βέλτιστες τιμές παραμέτρων.\n",
    "- #### Και στους 2 αλγορίθμους, όλες οι κλάσεις εμφανίζονται στις προβλέψεις του συνόλου ελέγχου."
   ]
  },
  {
   "cell_type": "code",
   "execution_count": null,
   "metadata": {},
   "outputs": [],
   "source": []
  },
  {
   "cell_type": "code",
   "execution_count": null,
   "metadata": {},
   "outputs": [],
   "source": []
  },
  {
   "cell_type": "markdown",
   "metadata": {},
   "source": [
    "### 4. Logistic Regression"
   ]
  },
  {
   "cell_type": "markdown",
   "metadata": {},
   "source": [
    "#### Επέλεξα συγκεκριμένες τιμές για τις παρακάτω παραμέτρους του αλγορίθμου:\n",
    "- #### **solver='saga'**: Ένας γρήγορος επιλυτής για μεγάλα Datasets και για τις περιπτώσεις ύπαρξης πολλών κλάσεων ταξινόμησης.\n",
    "- #### **random_state=42**: Για επαναληψιμότητα των αποτελεσμάτων.\n",
    "- #### **max_iter=300**: Γιατί με την default τιμη 100, σε μερικές δοκιμές ο αλγόριθμος δεν συνέκλινε.\n",
    "\n",
    "#### Από τις υπόλοιπες παραμέτρους του αλγορίθμου επέλεξα να εξετάσω την:\n",
    "- #### **C**: Καθορίζει την \"χαλαρότητα\" (regularization) του μοντέλου, αντιστρόφως ανάλογα προς την τιμή του.\n",
    "- #### **fit_intercept**: Καθορίζει κατά πόσο πρέπει να προστεθεί κάποια σταθερά στην συνάρτηση αξιολόγησης.\n",
    "- #### **class_weight**: Καθορίζει κατά πόσο οι κλάσεις θα έχουν διαφορετικό ή ίδιο βάρος μεταξύ τους.\n",
    "- #### *warm_start**: Boolean\n",
    "\n",
    "#### Για τις υπόλοιπες παραμέτρους αφήνω τις εξ' ορισμού (default) τιμές τους. \n",
    "\n",
    "#### [Scikit-learn Logistic Regression Documentation](https://scikit-learn.org/stable/modules/generated/sklearn.linear_model.LogisticRegression.html)"
   ]
  },
  {
   "cell_type": "code",
   "execution_count": 122,
   "metadata": {},
   "outputs": [],
   "source": [
    "# Καθορισμός του χρησιμοποιούμενου Pipeline\n",
    "LogReg_pipe = Pipeline([\n",
    "    ('TfIdf', TfidfVectorizer()),\n",
    "    ('clf', LogisticRegression(random_state=42, n_jobs=-1, solver='saga', max_iter=300))\n",
    "])\n",
    "\n",
    "# Δομή αποθήκευσης συνολικών αποτελεσμάτων Accuracy του αλγορίθμου\n",
    "results = [['Preprocessing', 'Training Accuracy', 'Validation Accuracy', 'Precission', 'Recall', 'F1-score']]\n",
    "\n",
    "# Σύνολο λέξεων της Αγγλικής γλώσσας χαρακτηρισμένων ως Stop Words, της βιβλιοθήκης sklearn.\n",
    "from sklearn.feature_extraction import stop_words\n",
    "stop_words = stop_words.ENGLISH_STOP_WORDS\n",
    "\n",
    "# Οι κρίσιμες παράμετροι των συστατικών μεθόδων του Pipeline και το εύρος τιμών τους, \n",
    "# με σκοπό την εύρεση των βέλτιστων τιμών αυτών.\n",
    "# Χρήση επιλεγμένων τιμών που οδηγούν στην ανάδειξη των βέλτιστων (μετά από πολλές δοκιμές)\n",
    "params = {\n",
    "    'TfIdf__max_features': (400, 450, 500),\n",
    "    'TfIdf__max_df': (0.3, 0.35, 0.4),\n",
    "    'TfIdf__min_df': (5, 7, 10),\n",
    "    'TfIdf__ngram_range': ((2,3), (1,4), (2,2)),\n",
    "    'TfIdf__use_idf': (True, False),\n",
    "    'TfIdf__norm': ('l1', 'l2', None),\n",
    "    'TfIdf__stop_words': (stop_words, None),\n",
    "    'clf__fit_intercept': (True, False),\n",
    "    'clf__warm_start': (True, False),\n",
    "    'clf__class_weight': ('balanced', None),\n",
    "    'clf__C': (1.75, 2, 2.25),\n",
    "}\n",
    "# Για επιτάχυνση της ανάλυσης αφαίρεσα τις παρακάτω παραμέτρους, που δίνουν σε όλες τις\n",
    "# δοκιμές σταθερά την ίδια βέλτιστη τιμή:\n",
    "#     'TfIdf__norm': ('l1', 'l2', None),  --->  'l2'\n",
    "#     'TfIdf__stop_words': (stop_words, None),  --->   None\n",
    "#     'clf__fit_intercept': (True, False),  --->   False\n",
    "#     'clf__warm_start': (True, False),  --->   True\n",
    "#     'clf__class_weight': ('balanced', None),  --->   None\n",
    "\n",
    "# Κλάση που αναλαμβάνει την εξαντλητική μελέτη των παραμέτρων των συστατικών μεθόδων του Pipeline\n",
    "grid_search = GridSearchCV(LogReg_pipe, params, cv=3, n_jobs=-1, verbose=1, return_train_score=True)\n"
   ]
  },
  {
   "cell_type": "markdown",
   "metadata": {},
   "source": [
    "#### α. Χρήση Βασικού Preprocessing & Stemming & Lemmatization των δεδομένων εισόδου"
   ]
  },
  {
   "cell_type": "code",
   "execution_count": 123,
   "metadata": {},
   "outputs": [
    {
     "name": "stdout",
     "output_type": "stream",
     "text": [
      "Fitting 3 folds for each of 486 candidates, totalling 1458 fits\n"
     ]
    },
    {
     "name": "stderr",
     "output_type": "stream",
     "text": [
      "[Parallel(n_jobs=-1)]: Using backend LokyBackend with 3 concurrent workers.\n",
      "[Parallel(n_jobs=-1)]: Done  44 tasks      | elapsed:    9.9s\n",
      "[Parallel(n_jobs=-1)]: Done 194 tasks      | elapsed:   40.1s\n",
      "[Parallel(n_jobs=-1)]: Done 444 tasks      | elapsed:  1.5min\n",
      "[Parallel(n_jobs=-1)]: Done 794 tasks      | elapsed:  2.7min\n",
      "[Parallel(n_jobs=-1)]: Done 1244 tasks      | elapsed:  4.2min\n",
      "[Parallel(n_jobs=-1)]: Done 1458 out of 1458 | elapsed:  5.0min finished\n",
      "/usr/local/lib/python3.6/dist-packages/sklearn/linear_model/logistic.py:459: FutureWarning: Default multi_class will be changed to 'auto' in 0.22. Specify the multi_class option to silence this warning.\n",
      "  \"this warning.\", FutureWarning)\n",
      "/usr/local/lib/python3.6/dist-packages/sklearn/linear_model/sag.py:334: ConvergenceWarning: The max_iter was reached which means the coef_ did not converge\n",
      "  \"the coef_ did not converge\", ConvergenceWarning)\n",
      "/usr/local/lib/python3.6/dist-packages/sklearn/linear_model/sag.py:334: ConvergenceWarning: The max_iter was reached which means the coef_ did not converge\n",
      "  \"the coef_ did not converge\", ConvergenceWarning)\n"
     ]
    },
    {
     "data": {
      "text/plain": [
       "GridSearchCV(cv=3, error_score='raise-deprecating',\n",
       "       estimator=Pipeline(memory=None,\n",
       "     steps=[('TfIdf', TfidfVectorizer(analyzer='word', binary=False, decode_error='strict',\n",
       "        dtype=<class 'numpy.float64'>, encoding='utf-8', input='content',\n",
       "        lowercase=True, max_df=1.0, max_features=None, min_df=1,\n",
       "        ngram_range=(1, 1), norm='l2', preprocessor=None, smooth_idf=True,...  penalty='l2', random_state=42, solver='saga', tol=0.0001,\n",
       "          verbose=0, warm_start=False))]),\n",
       "       fit_params=None, iid='warn', n_jobs=-1,\n",
       "       param_grid={'TfIdf__max_features': (400, 450, 500), 'TfIdf__max_df': (0.3, 0.35, 0.4), 'TfIdf__min_df': (5, 7, 10), 'TfIdf__ngram_range': ((2, 3), (1, 4), (2, 2)), 'TfIdf__use_idf': (True, False), 'clf__C': (1.75, 2, 2.25)},\n",
       "       pre_dispatch='2*n_jobs', refit=True, return_train_score=True,\n",
       "       scoring=None, verbose=1)"
      ]
     },
     "execution_count": 123,
     "metadata": {},
     "output_type": "execute_result"
    }
   ],
   "source": [
    "# Επανασύσταση των δεδομένων\n",
    "X = df['text'].copy()\n",
    "Y = df['labels'].copy()\n",
    "X_train, X_test, y_train, y_test = train_test_split(X, Y, test_size=0.25, random_state=42, stratify=Y)\n",
    "\n",
    "# Επιλογές συστατικών του Preprocessing των δεδομένων πριν την είσοδό τους στο pipeline\n",
    "preProc(X, stemming=True, lemmatize=True)\n",
    "\n",
    "# Εκτέλεση της ανάλυσης\n",
    "grid_search.fit(X, Y)"
   ]
  },
  {
   "cell_type": "code",
   "execution_count": 124,
   "metadata": {},
   "outputs": [
    {
     "name": "stdout",
     "output_type": "stream",
     "text": [
      "Classification Report: \n",
      "               precision    recall  f1-score   support\n",
      "\n",
      "        AIMX       1.00      0.06      0.12        16\n",
      "        MISC       0.75      0.95      0.84       156\n",
      "        OWNX       0.60      0.51      0.55        71\n",
      "\n",
      "   micro avg       0.71      0.76      0.74       243\n",
      "   macro avg       0.78      0.51      0.50       243\n",
      "weighted avg       0.72      0.76      0.71       243\n",
      "\n",
      "Categories in the predicted set: ['AIMX' 'MISC' 'OWNX']\n",
      "Categories never predicted in test set: {'BASE', 'CONT'}\n",
      "\n",
      "Training Accuracy: 0.827 (+/- 0.01)\n",
      "Validation Accuracy: 0.706 (+/- 0.02)\n",
      "\n",
      "Βέλτιστες παράμετροι:  {'TfIdf__max_df': 0.3, 'TfIdf__max_features': 500, 'TfIdf__min_df': 5, 'TfIdf__ngram_range': (1, 4), 'TfIdf__use_idf': False, 'clf__C': 2}\n"
     ]
    }
   ],
   "source": [
    "# Εκτύπωση της βέλτιστης απόδοσης και παραμετροποίησης του αλγορίθμου\n",
    "(TrainAcc, ValAcc, Prec, Rec, F1) = evalBestPipe(grid_search)\n",
    "results.append(['Basic & Lemm & Stemm', TrainAcc, ValAcc, Prec, Rec, F1])"
   ]
  },
  {
   "cell_type": "markdown",
   "metadata": {},
   "source": [
    "#### β. Χρήση Βασικού Preprocessing & Stemming των δεδομένων εισόδου"
   ]
  },
  {
   "cell_type": "code",
   "execution_count": 125,
   "metadata": {},
   "outputs": [
    {
     "name": "stdout",
     "output_type": "stream",
     "text": [
      "Fitting 3 folds for each of 486 candidates, totalling 1458 fits\n"
     ]
    },
    {
     "name": "stderr",
     "output_type": "stream",
     "text": [
      "[Parallel(n_jobs=-1)]: Using backend LokyBackend with 3 concurrent workers.\n",
      "[Parallel(n_jobs=-1)]: Done  44 tasks      | elapsed:    9.6s\n",
      "[Parallel(n_jobs=-1)]: Done 194 tasks      | elapsed:   40.9s\n",
      "[Parallel(n_jobs=-1)]: Done 444 tasks      | elapsed:  1.5min\n",
      "[Parallel(n_jobs=-1)]: Done 794 tasks      | elapsed:  2.7min\n",
      "[Parallel(n_jobs=-1)]: Done 1244 tasks      | elapsed:  4.3min\n",
      "[Parallel(n_jobs=-1)]: Done 1458 out of 1458 | elapsed:  5.0min finished\n",
      "/usr/local/lib/python3.6/dist-packages/sklearn/linear_model/logistic.py:459: FutureWarning: Default multi_class will be changed to 'auto' in 0.22. Specify the multi_class option to silence this warning.\n",
      "  \"this warning.\", FutureWarning)\n"
     ]
    },
    {
     "name": "stdout",
     "output_type": "stream",
     "text": [
      "Classification Report: \n",
      "               precision    recall  f1-score   support\n",
      "\n",
      "        MISC       0.74      0.96      0.84       156\n",
      "        OWNX       0.63      0.51      0.56        71\n",
      "\n",
      "   micro avg       0.72      0.82      0.77       227\n",
      "   macro avg       0.69      0.73      0.70       227\n",
      "weighted avg       0.71      0.82      0.75       227\n",
      "\n",
      "Categories in the predicted set: ['MISC' 'OWNX']\n",
      "Categories never predicted in test set: {'AIMX', 'BASE', 'CONT'}\n",
      "\n",
      "Training Accuracy: 0.814 (+/- 0.01)\n",
      "Validation Accuracy: 0.702 (+/- 0.02)\n",
      "\n",
      "Βέλτιστες παράμετροι:  {'TfIdf__max_df': 0.3, 'TfIdf__max_features': 500, 'TfIdf__min_df': 7, 'TfIdf__ngram_range': (1, 4), 'TfIdf__use_idf': False, 'clf__C': 1.75}\n"
     ]
    },
    {
     "name": "stderr",
     "output_type": "stream",
     "text": [
      "/usr/local/lib/python3.6/dist-packages/sklearn/linear_model/sag.py:334: ConvergenceWarning: The max_iter was reached which means the coef_ did not converge\n",
      "  \"the coef_ did not converge\", ConvergenceWarning)\n",
      "/usr/local/lib/python3.6/dist-packages/sklearn/linear_model/sag.py:334: ConvergenceWarning: The max_iter was reached which means the coef_ did not converge\n",
      "  \"the coef_ did not converge\", ConvergenceWarning)\n"
     ]
    }
   ],
   "source": [
    "# Χρήση επιλεγμένων τιμών που οδηγούν στην ανάδειξη των βέλτιστων (μετά από πολλές δοκιμές)\n",
    "params = {\n",
    "    'TfIdf__max_features': (400, 450, 500),\n",
    "    'TfIdf__max_df': (0.3, 0.35, 0.4),\n",
    "    'TfIdf__min_df': (5, 7, 10),\n",
    "    'TfIdf__ngram_range': ((2,3), (1,4), (2,2)),\n",
    "    'TfIdf__use_idf': (True, False),\n",
    "    'TfIdf__norm': ('l1', 'l2', None),\n",
    "    'TfIdf__stop_words': (stop_words, None),\n",
    "    'clf__fit_intercept': (True, False),\n",
    "    'clf__warm_start': (True, False),\n",
    "    'clf__class_weight': ('balanced', None),\n",
    "    'clf__C': (1.75, 2, 2.25),\n",
    "}\n",
    "# Παράμετροι με σταθερή βέλτιστη τιμή:\n",
    "#     'TfIdf__norm': ('l1', 'l2', None),  --->  'l2'\n",
    "#     'TfIdf__stop_words': (stop_words, None),  --->   None\n",
    "#     'clf__fit_intercept': (True, False),  --->   False\n",
    "#     'clf__warm_start': (True, False),  --->   True\n",
    "#     'clf__class_weight': ('balanced', None),  --->   None\n",
    "\n",
    "grid_search = GridSearchCV(LogReg_pipe, params, cv=3, n_jobs=-1, verbose=1, return_train_score=True)\n",
    "\n",
    "X = df['text'].copy()\n",
    "Y = df['labels'].copy()\n",
    "train, X_test, y_train, y_test = train_test_split(X, Y, test_size=0.25, random_state=42, stratify=Y)\n",
    "\n",
    "preProc(X, stemming=True, lemmatize=False)\n",
    "\n",
    "grid_search.fit(X, Y)\n",
    "\n",
    "(TrainAcc, ValAcc, Prec, Rec, F1) = evalBestPipe(grid_search)\n",
    "results.append(['Basic & Stemm', TrainAcc, ValAcc, Prec, Rec, F1])\n"
   ]
  },
  {
   "cell_type": "markdown",
   "metadata": {},
   "source": [
    "#### γ. Χρήση Βασικού Preprocessing των δεδομένων εισόδου"
   ]
  },
  {
   "cell_type": "code",
   "execution_count": 126,
   "metadata": {},
   "outputs": [
    {
     "name": "stdout",
     "output_type": "stream",
     "text": [
      "Fitting 3 folds for each of 486 candidates, totalling 1458 fits\n"
     ]
    },
    {
     "name": "stderr",
     "output_type": "stream",
     "text": [
      "[Parallel(n_jobs=-1)]: Using backend LokyBackend with 3 concurrent workers.\n",
      "[Parallel(n_jobs=-1)]: Done  44 tasks      | elapsed:    9.0s\n",
      "[Parallel(n_jobs=-1)]: Done 194 tasks      | elapsed:   38.8s\n",
      "[Parallel(n_jobs=-1)]: Done 444 tasks      | elapsed:  1.4min\n",
      "[Parallel(n_jobs=-1)]: Done 794 tasks      | elapsed:  2.6min\n",
      "[Parallel(n_jobs=-1)]: Done 1244 tasks      | elapsed:  4.0min\n",
      "[Parallel(n_jobs=-1)]: Done 1458 out of 1458 | elapsed:  4.7min finished\n",
      "/usr/local/lib/python3.6/dist-packages/sklearn/linear_model/logistic.py:459: FutureWarning: Default multi_class will be changed to 'auto' in 0.22. Specify the multi_class option to silence this warning.\n",
      "  \"this warning.\", FutureWarning)\n"
     ]
    },
    {
     "name": "stdout",
     "output_type": "stream",
     "text": [
      "Classification Report: \n",
      "               precision    recall  f1-score   support\n",
      "\n",
      "        AIMX       0.80      0.25      0.38        16\n",
      "        MISC       0.79      0.97      0.87       156\n",
      "        OWNX       0.72      0.65      0.68        71\n",
      "\n",
      "   micro avg       0.78      0.83      0.80       243\n",
      "   macro avg       0.77      0.62      0.65       243\n",
      "weighted avg       0.77      0.83      0.78       243\n",
      "\n",
      "Categories in the predicted set: ['AIMX' 'MISC' 'OWNX']\n",
      "Categories never predicted in test set: {'BASE', 'CONT'}\n",
      "\n",
      "Training Accuracy: 0.791 (+/- 0.01)\n",
      "Validation Accuracy: 0.709 (+/- 0.02)\n",
      "\n",
      "Βέλτιστες παράμετροι:  {'TfIdf__max_df': 0.3, 'TfIdf__max_features': 250, 'TfIdf__min_df': 12, 'TfIdf__ngram_range': (1, 4), 'TfIdf__use_idf': True, 'clf__C': 1.5}\n"
     ]
    },
    {
     "name": "stderr",
     "output_type": "stream",
     "text": [
      "/usr/local/lib/python3.6/dist-packages/sklearn/linear_model/sag.py:334: ConvergenceWarning: The max_iter was reached which means the coef_ did not converge\n",
      "  \"the coef_ did not converge\", ConvergenceWarning)\n"
     ]
    }
   ],
   "source": [
    "# Χρήση επιλεγμένων τιμών που οδηγούν στην ανάδειξη των βέλτιστων (μετά από πολλές δοκιμές)\n",
    "params = {\n",
    "    'TfIdf__max_features': (200, 250, 300),\n",
    "    'TfIdf__max_df': (0.25, 0.3, 0.35),\n",
    "    'TfIdf__min_df': (10, 12, 15),\n",
    "    'TfIdf__ngram_range': ((2,3), (1,4), (2,2)),\n",
    "    'TfIdf__use_idf': (True, False),\n",
    "    'TfIdf__norm': ('l1', 'l2', None),\n",
    "    'TfIdf__stop_words': (stop_words, None),\n",
    "    'clf__fit_intercept': (True, False),\n",
    "    'clf__warm_start': (True, False),\n",
    "    'clf__class_weight': ('balanced', None),\n",
    "    'clf__C': (1.25, 1.5, 1.75),\n",
    "}\n",
    "# Παράμετροι με σταθερή βέλτιστη τιμή:\n",
    "#     'TfIdf__norm': ('l1', 'l2', None),  --->  'l2'\n",
    "#     'TfIdf__stop_words': (stop_words, None),  --->   None\n",
    "#     'clf__fit_intercept': (True, False),  --->   True\n",
    "#     'clf__warm_start': (True, False),  --->   True\n",
    "#     'clf__class_weight': ('balanced', None),  --->   None\n",
    "\n",
    "grid_search = GridSearchCV(LogReg_pipe, params, cv=3, n_jobs=-1, verbose=1, return_train_score=True)\n",
    "\n",
    "X = df['text'].copy()\n",
    "Y = df['labels'].copy()\n",
    "train, X_test, y_train, y_test = train_test_split(X, Y, test_size=0.25, random_state=42, stratify=Y)\n",
    "\n",
    "preProc(X, stemming=False, lemmatize=False)\n",
    "\n",
    "grid_search.fit(X, Y)\n",
    "\n",
    "(TrainAcc, ValAcc, Prec, Rec, F1) = evalBestPipe(grid_search)\n",
    "results.append(['Basic', TrainAcc, ValAcc, Prec, Rec, F1])\n"
   ]
  },
  {
   "cell_type": "markdown",
   "metadata": {},
   "source": [
    "### Ανάλυση αποτελεσμάτων Αλγορίθμου"
   ]
  },
  {
   "cell_type": "code",
   "execution_count": 127,
   "metadata": {},
   "outputs": [
    {
     "name": "stdout",
     "output_type": "stream",
     "text": [
      "Αποτελέσματα αλγορίθμου: Logistic Regression\n"
     ]
    },
    {
     "data": {
      "text/html": [
       "<table>\n",
       "<tbody>\n",
       "<tr><td>Preprocessing       </td><td>Training Accuracy</td><td>Validation Accuracy</td><td>Precission</td><td>Recall</td><td>F1-score</td></tr>\n",
       "<tr><td>Basic & Lemm & Stemm</td><td>0.827 (+/- 0.01) </td><td>0.706 (+/- 0.02)   </td><td>0.721     </td><td>0.761 </td><td>0.705   </td></tr>\n",
       "<tr><td>Basic & Stemm       </td><td>0.814 (+/- 0.01) </td><td>0.702 (+/- 0.02)   </td><td>0.708     </td><td>0.819 </td><td>0.752   </td></tr>\n",
       "<tr><td>Basic               </td><td>0.791 (+/- 0.01) </td><td>0.709 (+/- 0.02)   </td><td>0.773     </td><td>0.827 </td><td>0.785   </td></tr>\n",
       "</tbody>\n",
       "</table>"
      ],
      "text/plain": [
       "<IPython.core.display.HTML object>"
      ]
     },
     "metadata": {},
     "output_type": "display_data"
    }
   ],
   "source": [
    "print('Αποτελέσματα αλγορίθμου: Logistic Regression')\n",
    "display(HTML(tabulate.tabulate(results, tablefmt='html')))"
   ]
  },
  {
   "cell_type": "markdown",
   "metadata": {},
   "source": [
    "#### Από τις τιμές των μετρικών του παραπάνω πίνακα συμπεραίνω τα ακόλουθα:\n",
    "- #### Η διαδικασία εύρεσης των βέλτιστων τιμών παραμέτρων, έχει σαν αποτέλεσμα την έστω και μικρή, βελτίωση στην απόδοση συγκρινόμενη με την απόδοση όταν ο αλγόριθμος χρησιμοποιούσε τις εξ' ορισμού τιμές παραμέτρων.\n",
    "- #### Αναφορικά με το Preprocessing των δεδομένων, η χρήση απλά Βασικού Preprocessing δίνει τα καλύτερα αποτελέσματα.\n",
    "- #### Ανάλογα με το Preprocessing, από 2 έως 3 κλάσεις δεν εμφανίζονται στις προβλέψεις του συνόλου ελέγχου. Αντίθετα, όταν ο αλγόριθμος χρησιμοποιούσε τις εξ' ορισμού τιμές παραμέτρων μόνο 1 κλάση δεν εμφανίζεται στις προβλέψεις του συνόλου ελέγχου.\n",
    "\n",
    "#### Αναφορικά με τη βέλτιστη παραμετροποίηση των χρησιμοποιούμενων αλγορίθμων συμπεραίνω τα ακόλουθα:\n",
    "- #### Χρησιμοποιείται σχετικά μικρό ποσοστό των συνολικών features των δεδομένων.\n",
    "- #### Στον αλγόριθμο TF-IDF δεν κρίνεται γενικά απαραίτητη η εφαρμογή της μεθόδου IDF.\n",
    "- #### Στον αλγόριθμο TF-IDF δεν κρίνεται απαραίτητη η χρήση της πρόσθετης λίστας με τα Stop Word. Αυτό είναι λογικό καθώς η παράμετρος **max_df** απομακρύνει αποτελεσματικά τις πλέον κοινές λέξεις."
   ]
  },
  {
   "cell_type": "markdown",
   "metadata": {},
   "source": [
    "### Σύγκριση χρήσης CountVectorizer - TfidfVectorizer"
   ]
  },
  {
   "cell_type": "markdown",
   "metadata": {},
   "source": [
    "#### α. Χρήση CountVectorizer"
   ]
  },
  {
   "cell_type": "code",
   "execution_count": 136,
   "metadata": {},
   "outputs": [
    {
     "name": "stdout",
     "output_type": "stream",
     "text": [
      "Fitting 3 folds for each of 243 candidates, totalling 729 fits\n"
     ]
    },
    {
     "name": "stderr",
     "output_type": "stream",
     "text": [
      "[Parallel(n_jobs=-1)]: Using backend LokyBackend with 3 concurrent workers.\n",
      "[Parallel(n_jobs=-1)]: Done  44 tasks      | elapsed:   12.4s\n",
      "[Parallel(n_jobs=-1)]: Done 194 tasks      | elapsed:   49.1s\n",
      "[Parallel(n_jobs=-1)]: Done 444 tasks      | elapsed:  1.8min\n",
      "[Parallel(n_jobs=-1)]: Done 729 out of 729 | elapsed:  3.0min finished\n",
      "/usr/local/lib/python3.6/dist-packages/sklearn/linear_model/logistic.py:459: FutureWarning: Default multi_class will be changed to 'auto' in 0.22. Specify the multi_class option to silence this warning.\n",
      "  \"this warning.\", FutureWarning)\n",
      "/usr/local/lib/python3.6/dist-packages/sklearn/linear_model/sag.py:334: ConvergenceWarning: The max_iter was reached which means the coef_ did not converge\n",
      "  \"the coef_ did not converge\", ConvergenceWarning)\n",
      "/usr/local/lib/python3.6/dist-packages/sklearn/linear_model/sag.py:334: ConvergenceWarning: The max_iter was reached which means the coef_ did not converge\n",
      "  \"the coef_ did not converge\", ConvergenceWarning)\n",
      "/usr/local/lib/python3.6/dist-packages/sklearn/linear_model/sag.py:334: ConvergenceWarning: The max_iter was reached which means the coef_ did not converge\n",
      "  \"the coef_ did not converge\", ConvergenceWarning)\n"
     ]
    },
    {
     "name": "stdout",
     "output_type": "stream",
     "text": [
      "Classification Report: \n",
      "               precision    recall  f1-score   support\n",
      "\n",
      "        AIMX       0.62      0.62      0.62        16\n",
      "        CONT       0.25      0.09      0.13        11\n",
      "        MISC       0.78      0.84      0.81       156\n",
      "        OWNX       0.53      0.54      0.53        71\n",
      "\n",
      "   micro avg       0.69      0.71      0.70       254\n",
      "   macro avg       0.55      0.52      0.53       254\n",
      "weighted avg       0.68      0.71      0.69       254\n",
      "\n",
      "Categories in the predicted set: ['AIMX' 'CONT' 'MISC' 'OWNX']\n",
      "Categories never predicted in test set: {'BASE'}\n",
      "\n",
      "Training Accuracy: 0.988 (+/- 0.00)\n",
      "Validation Accuracy: 0.678 (+/- 0.01)\n",
      "\n",
      "Βέλτιστες παράμετροι:  {'clf__C': 1.75, 'ctv__max_df': 0.35, 'ctv__max_features': 450, 'ctv__min_df': 7, 'ctv__ngram_range': (1, 4)}\n",
      "Αποτελέσματα αλγορίθμου: Logistic Regression με χρήση CountVectorizer\n"
     ]
    },
    {
     "name": "stderr",
     "output_type": "stream",
     "text": [
      "/usr/local/lib/python3.6/dist-packages/sklearn/linear_model/sag.py:334: ConvergenceWarning: The max_iter was reached which means the coef_ did not converge\n",
      "  \"the coef_ did not converge\", ConvergenceWarning)\n",
      "/usr/local/lib/python3.6/dist-packages/sklearn/linear_model/sag.py:334: ConvergenceWarning: The max_iter was reached which means the coef_ did not converge\n",
      "  \"the coef_ did not converge\", ConvergenceWarning)\n"
     ]
    },
    {
     "data": {
      "text/html": [
       "<table>\n",
       "<tbody>\n",
       "<tr><td>Preprocessing       </td><td>Training Accuracy</td><td>Validation Accuracy</td><td>Precission</td><td>Recall</td><td>F1-score</td></tr>\n",
       "<tr><td>Basic & Lemm & Stemm</td><td>0.988 (+/- 0.00) </td><td>0.678 (+/- 0.01)   </td><td>0.680     </td><td>0.709 </td><td>0.692   </td></tr>\n",
       "</tbody>\n",
       "</table>"
      ],
      "text/plain": [
       "<IPython.core.display.HTML object>"
      ]
     },
     "metadata": {},
     "output_type": "display_data"
    }
   ],
   "source": [
    "# Καθορισμός του χρησιμοποιούμενου Pipeline\n",
    "LogReg_pipe = Pipeline([\n",
    "    ('ctv', CountVectorizer()),\n",
    "    ('clf', LogisticRegression(random_state=42, n_jobs=-1, solver='saga', max_iter=300))\n",
    "])\n",
    "\n",
    "# Δομή αποθήκευσης συνολικών αποτελεσμάτων Accuracy του αλγορίθμου\n",
    "results = [['Preprocessing', 'Training Accuracy', 'Validation Accuracy', 'Precission', 'Recall', 'F1-score']]\n",
    "\n",
    "# Σύνολο λέξεων της Αγγλικής γλώσσας χαρακτηρισμένων ως Stop Words, της βιβλιοθήκης sklearn.\n",
    "from sklearn.feature_extraction import stop_words\n",
    "stop_words = stop_words.ENGLISH_STOP_WORDS\n",
    "\n",
    "# Χρήση επιλεγμένων τιμών που οδηγούν στην ανάδειξη των βέλτιστων (μετά από πολλές δοκιμές)\n",
    "params = {\n",
    "    'ctv__max_features': (400, 450, 500),\n",
    "    'ctv__max_df': (0.3, 0.35, 0.4),\n",
    "    'ctv__min_df': (5, 7, 10),\n",
    "    'ctv__ngram_range': ((2,3), (1,4), (2,2)),\n",
    "    'ctv__stop_words': (stop_words, None),\n",
    "    'clf__fit_intercept': (True, False),\n",
    "    'clf__warm_start': (True, False),\n",
    "    'clf__class_weight': ('balanced', None),\n",
    "    'clf__C': (1.75, 2, 2.25),\n",
    "}\n",
    "# Παράμετροι με σταθερή βέλτιστη τιμή:\n",
    "#     'ctv__stop_words': (stop_words, None),  --->   None\n",
    "#     'clf__fit_intercept': (True, False),  --->   False\n",
    "#     'clf__warm_start': (True, False),  --->   True\n",
    "#     'clf__class_weight': ('balanced', None),  --->   None\n",
    "\n",
    "grid_search = GridSearchCV(LogReg_pipe, params, cv=3, n_jobs=-1, verbose=1, return_train_score=True)\n",
    "\n",
    "X = df['text'].copy()\n",
    "Y = df['labels'].copy()\n",
    "train, X_test, y_train, y_test = train_test_split(X, Y, test_size=0.25, random_state=42, stratify=Y)\n",
    "\n",
    "preProc(X, stemming=True, lemmatize=True)\n",
    "\n",
    "grid_search.fit(X, Y)\n",
    "\n",
    "(TrainAcc, ValAcc, Prec, Rec, F1) = evalBestPipe(grid_search)\n",
    "results.append(['Basic & Lemm & Stemm', TrainAcc, ValAcc, Prec, Rec, F1])\n",
    "\n",
    "print('Αποτελέσματα αλγορίθμου: Logistic Regression με χρήση CountVectorizer')\n",
    "display(HTML(tabulate.tabulate(results, tablefmt='html')))\n"
   ]
  },
  {
   "cell_type": "markdown",
   "metadata": {},
   "source": [
    "#### β. Χρήση TfidfVectorizer"
   ]
  },
  {
   "cell_type": "code",
   "execution_count": 138,
   "metadata": {},
   "outputs": [
    {
     "name": "stdout",
     "output_type": "stream",
     "text": [
      "Fitting 3 folds for each of 486 candidates, totalling 1458 fits\n"
     ]
    },
    {
     "name": "stderr",
     "output_type": "stream",
     "text": [
      "[Parallel(n_jobs=-1)]: Using backend LokyBackend with 3 concurrent workers.\n",
      "[Parallel(n_jobs=-1)]: Done  44 tasks      | elapsed:   10.9s\n",
      "[Parallel(n_jobs=-1)]: Done 194 tasks      | elapsed:   41.0s\n",
      "[Parallel(n_jobs=-1)]: Done 444 tasks      | elapsed:  1.5min\n",
      "[Parallel(n_jobs=-1)]: Done 794 tasks      | elapsed:  2.7min\n",
      "[Parallel(n_jobs=-1)]: Done 1244 tasks      | elapsed:  4.1min\n",
      "[Parallel(n_jobs=-1)]: Done 1458 out of 1458 | elapsed:  4.8min finished\n",
      "/usr/local/lib/python3.6/dist-packages/sklearn/linear_model/logistic.py:459: FutureWarning: Default multi_class will be changed to 'auto' in 0.22. Specify the multi_class option to silence this warning.\n",
      "  \"this warning.\", FutureWarning)\n"
     ]
    },
    {
     "name": "stdout",
     "output_type": "stream",
     "text": [
      "Classification Report: \n",
      "               precision    recall  f1-score   support\n",
      "\n",
      "        MISC       0.74      0.96      0.84       156\n",
      "        OWNX       0.64      0.51      0.57        71\n",
      "\n",
      "   micro avg       0.72      0.82      0.77       227\n",
      "   macro avg       0.69      0.73      0.70       227\n",
      "weighted avg       0.71      0.82      0.75       227\n",
      "\n",
      "Categories in the predicted set: ['MISC' 'OWNX']\n",
      "Categories never predicted in test set: {'AIMX', 'BASE', 'CONT'}\n",
      "\n",
      "Training Accuracy: 0.843 (+/- 0.00)\n",
      "Validation Accuracy: 0.700 (+/- 0.03)\n",
      "\n",
      "Βέλτιστες παράμετροι:  {'TfIdf__max_df': 0.35, 'TfIdf__max_features': 450, 'TfIdf__min_df': 7, 'TfIdf__ngram_range': (1, 4), 'TfIdf__norm': 'l2', 'clf__C': 2}\n",
      "Αποτελέσματα αλγορίθμου: Logistic Regression με χρήση TfidfVectorizer\n"
     ]
    },
    {
     "name": "stderr",
     "output_type": "stream",
     "text": [
      "/usr/local/lib/python3.6/dist-packages/sklearn/linear_model/sag.py:334: ConvergenceWarning: The max_iter was reached which means the coef_ did not converge\n",
      "  \"the coef_ did not converge\", ConvergenceWarning)\n",
      "/usr/local/lib/python3.6/dist-packages/sklearn/linear_model/sag.py:334: ConvergenceWarning: The max_iter was reached which means the coef_ did not converge\n",
      "  \"the coef_ did not converge\", ConvergenceWarning)\n"
     ]
    },
    {
     "data": {
      "text/html": [
       "<table>\n",
       "<tbody>\n",
       "<tr><td>Preprocessing       </td><td>Training Accuracy</td><td>Validation Accuracy</td><td>Precission</td><td>Recall</td><td>F1-score</td></tr>\n",
       "<tr><td>Basic & Lemm & Stemm</td><td>0.843 (+/- 0.00) </td><td>0.700 (+/- 0.03)   </td><td>0.709     </td><td>0.819 </td><td>0.752   </td></tr>\n",
       "</tbody>\n",
       "</table>"
      ],
      "text/plain": [
       "<IPython.core.display.HTML object>"
      ]
     },
     "metadata": {},
     "output_type": "display_data"
    }
   ],
   "source": [
    "# Καθορισμός του χρησιμοποιούμενου Pipeline\n",
    "LogReg_pipe = Pipeline([\n",
    "    ('TfIdf', TfidfVectorizer(use_idf=True)),\n",
    "    ('clf', LogisticRegression(random_state=42, n_jobs=-1, solver='saga', max_iter=300))\n",
    "])\n",
    "\n",
    "# Δομή αποθήκευσης συνολικών αποτελεσμάτων Accuracy του αλγορίθμου\n",
    "results = [['Preprocessing', 'Training Accuracy', 'Validation Accuracy', 'Precission', 'Recall', 'F1-score']]\n",
    "\n",
    "# Σύνολο λέξεων της Αγγλικής γλώσσας χαρακτηρισμένων ως Stop Words, της βιβλιοθήκης sklearn.\n",
    "from sklearn.feature_extraction import stop_words\n",
    "stop_words = stop_words.ENGLISH_STOP_WORDS\n",
    "\n",
    "# Χρήση επιλεγμένων τιμών που οδηγούν στην ανάδειξη των βέλτιστων (μετά από πολλές δοκιμές)\n",
    "params = {\n",
    "    'TfIdf__max_features': (400, 450, 500),\n",
    "    'TfIdf__max_df': (0.3, 0.35, 0.4),\n",
    "    'TfIdf__min_df': (5, 7, 10),\n",
    "    'TfIdf__ngram_range': ((2,3), (1,4), (2,2)),\n",
    "    'TfIdf__norm': ('l1', 'l2'),\n",
    "    'ctv__stop_words': (stop_words, None),\n",
    "    'clf__fit_intercept': (True, False),\n",
    "    'clf__warm_start': (True, False),\n",
    "    'clf__class_weight': ('balanced', None),\n",
    "    'clf__C': (1.75, 2, 2.25),\n",
    "}\n",
    "# Παράμετροι με σταθερή βέλτιστη τιμή:\n",
    "#     'ctv__stop_words': (stop_words, None),  --->   None\n",
    "#     'clf__fit_intercept': (True, False),  --->   False\n",
    "#     'clf__warm_start': (True, False),  --->   True\n",
    "#     'clf__class_weight': ('balanced', None),  --->   None\n",
    "\n",
    "# Κλάση που αναλαμβάνει την εξαντλητική μελέτη των παραμέτρων των συστατικών μεθόδων του Pipeline\n",
    "grid_search = GridSearchCV(LogReg_pipe, params, cv=3, n_jobs=-1, verbose=1, return_train_score=True)\n",
    "\n",
    "X = df['text'].copy()\n",
    "Y = df['labels'].copy()\n",
    "train, X_test, y_train, y_test = train_test_split(X, Y, test_size=0.25, random_state=42, stratify=Y)\n",
    "\n",
    "preProc(X, stemming=True, lemmatize=True)\n",
    "\n",
    "grid_search.fit(X, Y)\n",
    "\n",
    "(TrainAcc, ValAcc, Prec, Rec, F1) = evalBestPipe(grid_search)\n",
    "results.append(['Basic & Lemm & Stemm', TrainAcc, ValAcc, Prec, Rec, F1])\n",
    "\n",
    "print('Αποτελέσματα αλγορίθμου: Logistic Regression με χρήση TfidfVectorizer')\n",
    "display(HTML(tabulate.tabulate(results, tablefmt='html')))\n"
   ]
  },
  {
   "cell_type": "markdown",
   "metadata": {},
   "source": [
    "### Ανάλυση αποτελεσμάτων σύγκρισης"
   ]
  },
  {
   "cell_type": "markdown",
   "metadata": {},
   "source": [
    "#### Από τις τιμές των μετρικών της παραπάνω σύγκρισης συμπεραίνω τα ακόλουθα:\n",
    "- #### Η χρήση του TF-IDF βελτιώνει σημαντικά την απόδοση του αλγορίθμου.\n",
    "\n",
    "#### Αναφορικά με τη βέλτιστη παραμετροποίηση των χρησιμοποιούμενων αλγορίθμων συμπεραίνω τα ακόλουθα:\n",
    "- #### Οι δύο αλγόριθμοι χρησιμοποιούν γενικά παρόμοιες βέλτιστες τιμές παραμέτρων.\n",
    "- #### Η χρήση κανονικοποίησης των διανυσμάτων στην περίπτωση του TF-IDF, αυξάνει από 1 σε 3 τις κλάσεις που δεν εμφανίζονται στις προβλέψεις του συνόλου ελέγχου."
   ]
  },
  {
   "cell_type": "code",
   "execution_count": null,
   "metadata": {},
   "outputs": [],
   "source": []
  },
  {
   "cell_type": "code",
   "execution_count": null,
   "metadata": {},
   "outputs": [],
   "source": []
  }
 ],
 "metadata": {
  "kernelspec": {
   "display_name": "Python 3",
   "language": "python",
   "name": "python3"
  },
  "language_info": {
   "codemirror_mode": {
    "name": "ipython",
    "version": 3
   },
   "file_extension": ".py",
   "mimetype": "text/x-python",
   "name": "python",
   "nbconvert_exporter": "python",
   "pygments_lexer": "ipython3",
   "version": "3.6.7"
  }
 },
 "nbformat": 4,
 "nbformat_minor": 2
}
