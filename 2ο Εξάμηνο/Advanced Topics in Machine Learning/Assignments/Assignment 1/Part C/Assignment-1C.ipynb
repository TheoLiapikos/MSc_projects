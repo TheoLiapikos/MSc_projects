{
 "cells": [
  {
   "cell_type": "markdown",
   "metadata": {},
   "source": [
    "![alt text](https://www.auth.gr/sites/default/files/banner-horizontal-282x100.png)\n",
    "# Advanced Topics in Machine Learning - Assignment 1 - Part C\n",
    "\n",
    "\n",
    "## Class Imbalanced Dataset\n",
    "\n",
    "#### Useful library documentation, references, and resources used on Assignment:\n",
    "\n",
    "* Scikit-learn ML library (aka *sklearn*): <http://scikit-learn.org/stable/documentation.html>\n",
    "* Imbalanced Datasets in Machine Learning :https://github.com/scikit-learn-contrib/imbalanced-learn\n",
    "* Random Forest Classifier: <https://scikit-learn.org/stable/modules/generated/sklearn.ensemble.RandomForestClassifier.html>\n",
    "* Linear Support Vector Classifier: <https://scikit-learn.org/stable/modules/generated/sklearn.svm.LinearSVC.html>\n",
    "* Multinomial Naive Bayes Classifier: <https://scikit-learn.org/stable/modules/generated/sklearn.naive_bayes.MultinomialNB.html>\n",
    "* Probability Calibration of Classifiers: <https://scikit-learn.org/stable/modules/calibration.html>\n",
    "* Model evaluation: quantifying the quality of predictions: <https://scikit-learn.org/stable/modules/model_evaluation.html>"
   ]
  },
  {
   "cell_type": "markdown",
   "metadata": {
    "colab_type": "text",
    "id": "Wqbhrp28kt0D"
   },
   "source": [
    "#### Instructions about Dataset:\n",
    "In order to run the whole script you have first to download the dataset from the following link. \n",
    "* Credit card fraud : <https://www.kaggle.com/mlg-ulb/creditcardfraud>\n",
    "After downloading it place it in your Desktop folder or wherever you want and be sure to change "
   ]
  },
  {
   "cell_type": "code",
   "execution_count": 1,
   "metadata": {},
   "outputs": [
    {
     "name": "stdout",
     "output_type": "stream",
     "text": [
      "Credit card dataset loaded.\n"
     ]
    },
    {
     "data": {
      "text/html": [
       "<div>\n",
       "<style scoped>\n",
       "    .dataframe tbody tr th:only-of-type {\n",
       "        vertical-align: middle;\n",
       "    }\n",
       "\n",
       "    .dataframe tbody tr th {\n",
       "        vertical-align: top;\n",
       "    }\n",
       "\n",
       "    .dataframe thead th {\n",
       "        text-align: right;\n",
       "    }\n",
       "</style>\n",
       "<table border=\"1\" class=\"dataframe\">\n",
       "  <thead>\n",
       "    <tr style=\"text-align: right;\">\n",
       "      <th></th>\n",
       "      <th>Time</th>\n",
       "      <th>V1</th>\n",
       "      <th>V2</th>\n",
       "      <th>V3</th>\n",
       "      <th>V4</th>\n",
       "      <th>V5</th>\n",
       "      <th>V6</th>\n",
       "      <th>V7</th>\n",
       "      <th>V8</th>\n",
       "      <th>V9</th>\n",
       "      <th>...</th>\n",
       "      <th>V21</th>\n",
       "      <th>V22</th>\n",
       "      <th>V23</th>\n",
       "      <th>V24</th>\n",
       "      <th>V25</th>\n",
       "      <th>V26</th>\n",
       "      <th>V27</th>\n",
       "      <th>V28</th>\n",
       "      <th>Amount</th>\n",
       "      <th>Class</th>\n",
       "    </tr>\n",
       "  </thead>\n",
       "  <tbody>\n",
       "    <tr>\n",
       "      <th>0</th>\n",
       "      <td>0.0</td>\n",
       "      <td>-1.359807</td>\n",
       "      <td>-0.072781</td>\n",
       "      <td>2.536347</td>\n",
       "      <td>1.378155</td>\n",
       "      <td>-0.338321</td>\n",
       "      <td>0.462388</td>\n",
       "      <td>0.239599</td>\n",
       "      <td>0.098698</td>\n",
       "      <td>0.363787</td>\n",
       "      <td>...</td>\n",
       "      <td>-0.018307</td>\n",
       "      <td>0.277838</td>\n",
       "      <td>-0.110474</td>\n",
       "      <td>0.066928</td>\n",
       "      <td>0.128539</td>\n",
       "      <td>-0.189115</td>\n",
       "      <td>0.133558</td>\n",
       "      <td>-0.021053</td>\n",
       "      <td>149.62</td>\n",
       "      <td>0</td>\n",
       "    </tr>\n",
       "    <tr>\n",
       "      <th>1</th>\n",
       "      <td>0.0</td>\n",
       "      <td>1.191857</td>\n",
       "      <td>0.266151</td>\n",
       "      <td>0.166480</td>\n",
       "      <td>0.448154</td>\n",
       "      <td>0.060018</td>\n",
       "      <td>-0.082361</td>\n",
       "      <td>-0.078803</td>\n",
       "      <td>0.085102</td>\n",
       "      <td>-0.255425</td>\n",
       "      <td>...</td>\n",
       "      <td>-0.225775</td>\n",
       "      <td>-0.638672</td>\n",
       "      <td>0.101288</td>\n",
       "      <td>-0.339846</td>\n",
       "      <td>0.167170</td>\n",
       "      <td>0.125895</td>\n",
       "      <td>-0.008983</td>\n",
       "      <td>0.014724</td>\n",
       "      <td>2.69</td>\n",
       "      <td>0</td>\n",
       "    </tr>\n",
       "    <tr>\n",
       "      <th>2</th>\n",
       "      <td>1.0</td>\n",
       "      <td>-1.358354</td>\n",
       "      <td>-1.340163</td>\n",
       "      <td>1.773209</td>\n",
       "      <td>0.379780</td>\n",
       "      <td>-0.503198</td>\n",
       "      <td>1.800499</td>\n",
       "      <td>0.791461</td>\n",
       "      <td>0.247676</td>\n",
       "      <td>-1.514654</td>\n",
       "      <td>...</td>\n",
       "      <td>0.247998</td>\n",
       "      <td>0.771679</td>\n",
       "      <td>0.909412</td>\n",
       "      <td>-0.689281</td>\n",
       "      <td>-0.327642</td>\n",
       "      <td>-0.139097</td>\n",
       "      <td>-0.055353</td>\n",
       "      <td>-0.059752</td>\n",
       "      <td>378.66</td>\n",
       "      <td>0</td>\n",
       "    </tr>\n",
       "    <tr>\n",
       "      <th>3</th>\n",
       "      <td>1.0</td>\n",
       "      <td>-0.966272</td>\n",
       "      <td>-0.185226</td>\n",
       "      <td>1.792993</td>\n",
       "      <td>-0.863291</td>\n",
       "      <td>-0.010309</td>\n",
       "      <td>1.247203</td>\n",
       "      <td>0.237609</td>\n",
       "      <td>0.377436</td>\n",
       "      <td>-1.387024</td>\n",
       "      <td>...</td>\n",
       "      <td>-0.108300</td>\n",
       "      <td>0.005274</td>\n",
       "      <td>-0.190321</td>\n",
       "      <td>-1.175575</td>\n",
       "      <td>0.647376</td>\n",
       "      <td>-0.221929</td>\n",
       "      <td>0.062723</td>\n",
       "      <td>0.061458</td>\n",
       "      <td>123.50</td>\n",
       "      <td>0</td>\n",
       "    </tr>\n",
       "    <tr>\n",
       "      <th>4</th>\n",
       "      <td>2.0</td>\n",
       "      <td>-1.158233</td>\n",
       "      <td>0.877737</td>\n",
       "      <td>1.548718</td>\n",
       "      <td>0.403034</td>\n",
       "      <td>-0.407193</td>\n",
       "      <td>0.095921</td>\n",
       "      <td>0.592941</td>\n",
       "      <td>-0.270533</td>\n",
       "      <td>0.817739</td>\n",
       "      <td>...</td>\n",
       "      <td>-0.009431</td>\n",
       "      <td>0.798278</td>\n",
       "      <td>-0.137458</td>\n",
       "      <td>0.141267</td>\n",
       "      <td>-0.206010</td>\n",
       "      <td>0.502292</td>\n",
       "      <td>0.219422</td>\n",
       "      <td>0.215153</td>\n",
       "      <td>69.99</td>\n",
       "      <td>0</td>\n",
       "    </tr>\n",
       "  </tbody>\n",
       "</table>\n",
       "<p>5 rows × 31 columns</p>\n",
       "</div>"
      ],
      "text/plain": [
       "   Time        V1        V2        V3        V4        V5        V6        V7  \\\n",
       "0   0.0 -1.359807 -0.072781  2.536347  1.378155 -0.338321  0.462388  0.239599   \n",
       "1   0.0  1.191857  0.266151  0.166480  0.448154  0.060018 -0.082361 -0.078803   \n",
       "2   1.0 -1.358354 -1.340163  1.773209  0.379780 -0.503198  1.800499  0.791461   \n",
       "3   1.0 -0.966272 -0.185226  1.792993 -0.863291 -0.010309  1.247203  0.237609   \n",
       "4   2.0 -1.158233  0.877737  1.548718  0.403034 -0.407193  0.095921  0.592941   \n",
       "\n",
       "         V8        V9  ...         V21       V22       V23       V24  \\\n",
       "0  0.098698  0.363787  ...   -0.018307  0.277838 -0.110474  0.066928   \n",
       "1  0.085102 -0.255425  ...   -0.225775 -0.638672  0.101288 -0.339846   \n",
       "2  0.247676 -1.514654  ...    0.247998  0.771679  0.909412 -0.689281   \n",
       "3  0.377436 -1.387024  ...   -0.108300  0.005274 -0.190321 -1.175575   \n",
       "4 -0.270533  0.817739  ...   -0.009431  0.798278 -0.137458  0.141267   \n",
       "\n",
       "        V25       V26       V27       V28  Amount  Class  \n",
       "0  0.128539 -0.189115  0.133558 -0.021053  149.62      0  \n",
       "1  0.167170  0.125895 -0.008983  0.014724    2.69      0  \n",
       "2 -0.327642 -0.139097 -0.055353 -0.059752  378.66      0  \n",
       "3  0.647376 -0.221929  0.062723  0.061458  123.50      0  \n",
       "4 -0.206010  0.502292  0.219422  0.215153   69.99      0  \n",
       "\n",
       "[5 rows x 31 columns]"
      ]
     },
     "execution_count": 1,
     "metadata": {},
     "output_type": "execute_result"
    }
   ],
   "source": [
    "from sklearn import preprocessing, datasets, model_selection, metrics, svm, naive_bayes\n",
    "from sklearn.ensemble import RandomForestClassifier\n",
    "from sklearn.naive_bayes import MultinomialNB\n",
    "from sklearn.model_selection import cross_validate\n",
    "from imblearn.datasets import make_imbalance\n",
    "from imblearn.ensemble import EasyEnsembleClassifier\n",
    "from imblearn.combine import  SMOTETomek \n",
    "from sklearn.metrics import confusion_matrix\n",
    "from sklearn.feature_extraction.text import TfidfVectorizer\n",
    "from imblearn.under_sampling import NearMiss\n",
    "from collections import Counter\n",
    "from sklearn.svm import SVC\n",
    "from imblearn.pipeline import make_pipeline\n",
    "from sklearn.metrics import auc, roc_curve\n",
    "from sklearn.metrics import roc_auc_score\n",
    "import pandas as pd\n",
    "import numpy as np\n",
    "import matplotlib.pyplot as plt\n",
    "import seaborn as sns\n",
    "%matplotlib inline\n",
    "from imblearn.over_sampling import SMOTE \n",
    "from imblearn.metrics import classification_report_imbalanced\n",
    "import warnings\n",
    "warnings.filterwarnings('ignore')\n",
    "\n",
    "# Read and print the dataset\n",
    "\n",
    "myData = pd.read_csv(r'C:/Users/raina/Desktop/creditcard.csv')\n",
    "print(\"Credit card dataset loaded.\")\n",
    "myData.head()"
   ]
  },
  {
   "cell_type": "markdown",
   "metadata": {
    "colab_type": "text",
    "id": "Wqbhrp28kt0D"
   },
   "source": [
    "#### Check if the dataset is unbalanced:\n",
    "We can clearly see that our dataset is imbalanced. In 0 class which represent the legal transactions there are 284315 samples and in 1 class, which represents fraud transactions there are only 492 transactions. This make sense because most of people do legal transactions and only a small number of them try to make a fraud transaction."
   ]
  },
  {
   "cell_type": "code",
   "execution_count": 2,
   "metadata": {
    "scrolled": true
   },
   "outputs": [
    {
     "data": {
      "text/plain": [
       "0    284315\n",
       "1       492\n",
       "Name: Class, dtype: int64"
      ]
     },
     "execution_count": 2,
     "metadata": {},
     "output_type": "execute_result"
    },
    {
     "data": {
      "image/png": "[encoded data removed]",
      "text/plain": [
       "<Figure size 432x288 with 1 Axes>"
      ]
     },
     "metadata": {
      "needs_background": "light"
     },
     "output_type": "display_data"
    }
   ],
   "source": [
    "# Check if the dataset is really imbalanced\n",
    "\n",
    "count = pd.value_counts(myData['Class'], sort = True).sort_index()\n",
    "count.plot(kind = 'bar')\n",
    "count\n",
    "\n"
   ]
  },
  {
   "cell_type": "markdown",
   "metadata": {
    "colab_type": "text",
    "id": "Wqbhrp28kt0D"
   },
   "source": [
    "#### Drop time and split dataset:\n",
    "Time cells doesn't play important role in our case so we will drop them out. After doing it we have to split our dataset into train set and test set. Then we normalize all values [0,1] in order to have better results."
   ]
  },
  {
   "cell_type": "code",
   "execution_count": 3,
   "metadata": {},
   "outputs": [],
   "source": [
    "# Drop the class Time because it doesn't play important role\n",
    "\n",
    "myData = myData.drop(['Time'],axis=1)\n",
    "\n",
    "# Collect the values from cells and split the data into train set and test set\n",
    "\n",
    "X = myData.iloc[:,0:29].values\n",
    "y = myData.iloc[:,-1].values\n",
    "\n",
    "X_train, X_test, y_train, y_test = model_selection.train_test_split(X, y, random_state=42)\n",
    "\n",
    "minMaxScaler = preprocessing.MinMaxScaler()\n",
    "X = minMaxScaler.fit_transform(X)"
   ]
  },
  {
   "cell_type": "markdown",
   "metadata": {},
   "source": [
    "# EASY ENSEMBLE\n",
    "\n",
    "#### Try some methods to fix the problem of imbalance\n",
    "In Easy Ensemble we will take randomly some samples without replacement from both majority and minority class. We will take the same number of samples from each class in order to have balance. We will train a boosting model and we will do this multiple time. After doing this we will combine the results with voting. In next lines we see the difference between easy ensemble and other algorithms. It is not a clever idea, using accuracy and balanced accuracy as evaluation metrics. We see that with our imbalanced dataset the results are at 1 because the difference between fraud and legal transactions are huge. Accuracy will have high results, since it looks only the correct predictions and it doesn't take into account how many mistakes the algorithm made. So, we should try some other metrics.\n"
   ]
  },
  {
   "cell_type": "code",
   "execution_count": 4,
   "metadata": {},
   "outputs": [
    {
     "name": "stdout",
     "output_type": "stream",
     "text": [
      "***** Random Forest *****\n",
      "accuracy: 1.00 (+/- 0.00)\n",
      "balanced_accuracy: 0.86 (+/- 0.04)\n",
      "***** Linear SVM *****\n",
      "accuracy: 1.00 (+/- 0.00)\n",
      "balanced_accuracy: 0.86 (+/- 0.06)\n",
      "***** Naive Bayes *****\n",
      "accuracy: 1.00 (+/- 0.00)\n",
      "balanced_accuracy: 0.50 (+/- 0.00)\n",
      "***** Easy Ensemble *****\n",
      "accuracy: 0.97 (+/- 0.01)\n",
      "balanced_accuracy: 0.94 (+/- 0.01)\n"
     ]
    }
   ],
   "source": [
    "scoring = ['accuracy', 'balanced_accuracy']\n",
    "\n",
    "algs = []\n",
    "\n",
    "# First check three algorithms : Random forest, Linear SVM and Naive Bayes. Then check the Easy Ensemble.\n",
    "\n",
    "clfRandomForest = RandomForestClassifier(random_state=42, n_estimators=10)\n",
    "algs.append([clfRandomForest, \"***** Random Forest *****\"])\n",
    "\n",
    "clfSVM = SVC(kernel='linear', probability=True, C=1)\n",
    "algs.append([clfSVM, \"***** Linear SVM *****\"])\n",
    "\n",
    "clfNB = MultinomialNB(alpha = 0.1)\n",
    "algs.append([clfNB, \"***** Naive Bayes *****\"])\n",
    "\n",
    "\n",
    "ee = EasyEnsembleClassifier()\n",
    "algs.append([ee, \"***** Easy Ensemble *****\"])\n",
    "\n",
    "for c, d in algs:\n",
    "    print(d)\n",
    "    scores = cross_validate(c, X, y, scoring=scoring, cv=3, return_train_score=False)\n",
    "    for s in scoring:\n",
    "        print(\"%s: %0.2f (+/- %0.2f)\" % (s, scores[\"test_\" + s].mean(), scores[\"test_\" + s].std()))\n",
    "        \n",
    "        "
   ]
  },
  {
   "cell_type": "markdown",
   "metadata": {},
   "source": [
    "#### ROC Curve\n",
    "One good metric for imbalanced datasets is the Receiver Operating Characteristic, we use bellow. We test it in Easy Ensemble to check its results, which are very good. We also use a specified report for imbalance datasets.\n"
   ]
  },
  {
   "cell_type": "code",
   "execution_count": 5,
   "metadata": {},
   "outputs": [
    {
     "name": "stdout",
     "output_type": "stream",
     "text": [
      "0.9862\n"
     ]
    },
    {
     "data": {
      "image/png": "[encoded data removed]",
      "text/plain": [
       "<Figure size 432x288 with 1 Axes>"
      ]
     },
     "metadata": {
      "needs_background": "light"
     },
     "output_type": "display_data"
    },
    {
     "name": "stdout",
     "output_type": "stream",
     "text": [
      "***** Easy Ensemble *****\n",
      "                   pre       rec       spe        f1       geo       iba       sup\n",
      "\n",
      "          0       1.00      0.96      0.93      0.98      0.94      0.89     71089\n",
      "          1       0.03      0.93      0.96      0.06      0.94      0.89       113\n",
      "\n",
      "avg / total       1.00      0.96      0.93      0.98      0.94      0.89     71202\n",
      "\n"
     ]
    }
   ],
   "source": [
    "ee = EasyEnsembleClassifier()\n",
    "y_score = ee.fit(X_train, y_train).predict_proba(X_test)\n",
    "preds = y_score[:,1]# EASY ENSEMBLE\n",
    "\n",
    "fpr, tpr, threshold = roc_curve(y_test, preds)\n",
    "roc_auc = auc(fpr, tpr)\n",
    "print(\"%.4f\" %(roc_auc))\n",
    "\n",
    "plt.title('Receiver Operating Characteristic')\n",
    "plt.plot(fpr, tpr, 'b', label = 'AUC = %.4f' % roc_auc)\n",
    "plt.legend(loc = 'lower right')\n",
    "plt.plot([0, 1], [0, 1],'r--')\n",
    "plt.xlim([0, 1])\n",
    "plt.ylim([0, 1])\n",
    "plt.ylabel('True Positive Rate')\n",
    "plt.xlabel('False Positive Rate')\n",
    "plt.show()\n",
    "\n",
    "# Easy ensemble\n",
    "\n",
    "ee = EasyEnsembleClassifier()\n",
    "ee.fit(X_train, y_train)\n",
    "\n",
    "# Classify and report the results\n",
    "\n",
    "print(\"***** Easy Ensemble *****\")\n",
    "print(classification_report_imbalanced(y_test, ee.predict(X_test)))"
   ]
  },
  {
   "cell_type": "markdown",
   "metadata": {
    "colab_type": "text",
    "id": "Wqbhrp28kt0D"
   },
   "source": [
    "# NearMiss\n",
    "#### Check standalone algorithms and compined with NearMiss:\n",
    "Bellow section is about checking algorithms with different metrics than before. We also try to compine these algorithms with NearMiss method. In this method we sellect majority class examples which have the smallest average distance to the three closest minority class examples. The metrics bellow are better for imbalanced datasets and should be used in such cases. Naive Bayes compined with NearMiss seems to have the best results."
   ]
  },
  {
   "cell_type": "code",
   "execution_count": 6,
   "metadata": {
    "scrolled": true
   },
   "outputs": [
    {
     "name": "stdout",
     "output_type": "stream",
     "text": [
      "***** Random Forest *****\n",
      "                   pre       rec       spe        f1       geo       iba       sup\n",
      "\n",
      "          0       1.00      1.00      0.19      1.00      0.44      0.21     71089\n",
      "          1       0.96      0.19      1.00      0.32      0.44      0.18       113\n",
      "\n",
      "avg / total       1.00      1.00      0.20      1.00      0.44      0.21     71202\n",
      "\n",
      "***** Linear SVM *****\n",
      "                   pre       rec       spe        f1       geo       iba       sup\n",
      "\n",
      "          0       1.00      1.00      0.60      1.00      0.78      0.63     71089\n",
      "          1       0.84      0.60      1.00      0.70      0.78      0.58       113\n",
      "\n",
      "avg / total       1.00      1.00      0.60      1.00      0.78      0.63     71202\n",
      "\n",
      "***** Naive Bayes *****\n",
      "                   pre       rec       spe        f1       geo       iba       sup\n",
      "\n",
      "          0       1.00      1.00      0.00      1.00      0.00      0.00     71089\n",
      "          1       0.00      0.00      1.00      0.00      0.00      0.00       113\n",
      "\n",
      "avg / total       1.00      1.00      0.00      1.00      0.00      0.00     71202\n",
      "\n",
      "***** Random Forest + NearMiss *****\n",
      "                   pre       rec       spe        f1       geo       iba       sup\n",
      "\n",
      "          0       1.00      0.30      0.90      0.47      0.52      0.26     71089\n",
      "          1       0.00      0.90      0.30      0.00      0.52      0.29       113\n",
      "\n",
      "avg / total       1.00      0.30      0.90      0.46      0.52      0.26     71202\n",
      "\n",
      "***** Linear SVM + NearMiss *****\n",
      "                   pre       rec       spe        f1       geo       iba       sup\n",
      "\n",
      "          0       1.00      1.00      0.25      1.00      0.50      0.27     71089\n",
      "          1       0.76      0.25      1.00      0.37      0.50      0.23       113\n",
      "\n",
      "avg / total       1.00      1.00      0.25      1.00      0.50      0.27     71202\n",
      "\n",
      "***** Naive Bayes + NearMiss *****\n",
      "                   pre       rec       spe        f1       geo       iba       sup\n",
      "\n",
      "          0       1.00      1.00      0.78      1.00      0.88      0.80     71089\n",
      "          1       0.60      0.78      1.00      0.68      0.88      0.76       113\n",
      "\n",
      "avg / total       1.00      1.00      0.78      1.00      0.88      0.80     71202\n",
      "\n"
     ]
    }
   ],
   "source": [
    "# Normalize the X between [0,1] \n",
    "\n",
    "X_train = minMaxScaler.fit_transform(X_train)\n",
    "X_test = minMaxScaler.fit_transform(X_test)\n",
    "\n",
    "\n",
    "# Create a pipeline\n",
    "\n",
    "pipeline = make_pipeline(RandomForestClassifier(random_state=42, n_estimators=10))\n",
    "pipeline.fit(X_train, y_train)\n",
    "\n",
    "# Classify and report the results\n",
    "\n",
    "print(\"***** Random Forest *****\")\n",
    "print(classification_report_imbalanced(y_test, pipeline.predict(X_test)))\n",
    "\n",
    "# Create a pipeline\n",
    "\n",
    "pipeline = make_pipeline(SVC(kernel='linear', probability=True, C=1))\n",
    "pipeline.fit(X_train, y_train)\n",
    "\n",
    "# Classify and report the results\n",
    "\n",
    "print(\"***** Linear SVM *****\")\n",
    "print(classification_report_imbalanced(y_test, pipeline.predict(X_test)))\n",
    "\n",
    "# Create a pipeline\n",
    "\n",
    "pipeline = make_pipeline(MultinomialNB(alpha = 0.1))\n",
    "pipeline.fit(X_train, y_train)\n",
    "\n",
    "# Classify and report the results\n",
    "\n",
    "print(\"***** Naive Bayes *****\")\n",
    "print(classification_report_imbalanced(y_test, pipeline.predict(X_test)))\n",
    "\n",
    "# Create a pipeline\n",
    "\n",
    "pipeline = make_pipeline(NearMiss(version=1, random_state=42),\n",
    "                         RandomForestClassifier(random_state=42, n_estimators=10))\n",
    "pipeline.fit(X_train, y_train)\n",
    "\n",
    "# Classify and report the results\n",
    "\n",
    "print(\"***** Random Forest + NearMiss *****\")\n",
    "print(classification_report_imbalanced(y_test, pipeline.predict(X_test)))\n",
    "\n",
    "# Create a pipeline\n",
    "\n",
    "pipeline = make_pipeline(NearMiss(version=2, random_state=42),\n",
    "                         SVC(kernel='linear', probability=True, C=1))\n",
    "pipeline.fit(X_train, y_train)\n",
    "\n",
    "# Classify and report the results\n",
    "\n",
    "print(\"***** Linear SVM + NearMiss *****\")\n",
    "print(classification_report_imbalanced(y_test, pipeline.predict(X_test)))\n",
    "\n",
    "# Create a pipeline\n",
    "\n",
    "pipeline = make_pipeline(NearMiss(version=3, random_state=42),\n",
    "                         MultinomialNB(alpha = 0.1))\n",
    "pipeline.fit(X_train, y_train)\n",
    "\n",
    "# Classify and report the results\n",
    "\n",
    "print(\"***** Naive Bayes + NearMiss *****\")\n",
    "print(classification_report_imbalanced(y_test, pipeline.predict(X_test)))\n"
   ]
  },
  {
   "cell_type": "markdown",
   "metadata": {
    "colab_type": "text",
    "id": "Wqbhrp28kt0D"
   },
   "source": [
    "# SMOTE\n",
    "\n",
    "In Synthetic Minority Over-Sampling TEchnique we first find the k nearest neighbors which belong to the minority class and then we randomly select one or more of them. After doing that we make a synthesis of a new example. Bellow we check the data before the apply of the algorithm with fraud transactions being at 0.17% of total transactions. After applying the algorithm we see that they are totally balanced at 50%."
   ]
  },
  {
   "cell_type": "code",
   "execution_count": 7,
   "metadata": {},
   "outputs": [
    {
     "name": "stdout",
     "output_type": "stream",
     "text": [
      "Counter({0: 28431, 1: 49})\n",
      "Percentage of fraud counts in original dataset:0.1727485630620034%\n",
      "Percentage of fraud counts in the new data:50.0%\n"
     ]
    }
   ],
   "source": [
    "# Original Dataset : 284315 Non fraud, 492 Fraud\n",
    "# Sampled Dataset : 28431 Non fraud, 49 Fraud\n",
    "# We use a sample of the original\n",
    "# dataset because if we use the whole dataset running time will increase very much.\n",
    "\n",
    "X, y = make_imbalance(X,y, \n",
    "    sampling_strategy={0: 28431, 1: 49},\n",
    "    random_state=42)\n",
    "print(Counter(y))\n",
    "\n",
    "# Apply SMOTE with Over Sampling to create synthetic observations from minority class\n",
    "\n",
    "sm = SMOTE(ratio='auto',kind='regular')\n",
    "X_train,y_train = sm.fit_sample(X,y)\n",
    "\n",
    "# Percentage of fraudlent records in original data\n",
    "\n",
    "No_fraud_counts = len(myData[myData['Class']==0])\n",
    "Fraud_counts = len(myData[myData['Class']==1])\n",
    "print('Percentage of fraud counts in original dataset:{}%'.format((Fraud_counts*100)/(No_fraud_counts+Fraud_counts)))\n",
    "\n",
    "#Percentage of fraudlent records in sampled data\n",
    "\n",
    "Sampled_data_no_fraud_counts = len(y_train[y_train==0])\n",
    "Sampled_data_fraud_counts = len(y_train[y_train==1])\n",
    "print('Percentage of fraud counts in the new data:{}%'.format((Sampled_data_fraud_counts*100)/(Sampled_data_no_fraud_counts+Sampled_data_fraud_counts)))\n"
   ]
  },
  {
   "cell_type": "markdown",
   "metadata": {
    "colab_type": "text",
    "id": "Wqbhrp28kt0D"
   },
   "source": [
    "Check Random Forest, Linear SVM and Naive Bayes after making our dataset balanced with SMOTE. Then we will use the appropriate metrics to see our results."
   ]
  },
  {
   "cell_type": "code",
   "execution_count": 8,
   "metadata": {},
   "outputs": [
    {
     "name": "stdout",
     "output_type": "stream",
     "text": [
      "***** Random Forest *****\n",
      "                   pre       rec       spe        f1       geo       iba       sup\n",
      "\n",
      "          0       1.00      1.00      0.23      1.00      0.48      0.25     71089\n",
      "          1       0.81      0.23      1.00      0.36      0.48      0.21       113\n",
      "\n",
      "avg / total       1.00      1.00      0.23      1.00      0.48      0.25     71202\n",
      "\n",
      "***** Linear SVM *****\n",
      "                   pre       rec       spe        f1       geo       iba       sup\n",
      "\n",
      "          0       1.00      1.00      0.57      1.00      0.75      0.59     71089\n",
      "          1       0.74      0.57      1.00      0.64      0.75      0.54       113\n",
      "\n",
      "avg / total       1.00      1.00      0.57      1.00      0.75      0.59     71202\n",
      "\n",
      "***** Naive Bayes *****\n",
      "                   pre       rec       spe        f1       geo       iba       sup\n",
      "\n",
      "          0       1.00      1.00      0.66      1.00      0.81      0.69     71089\n",
      "          1       0.78      0.66      1.00      0.72      0.81      0.64       113\n",
      "\n",
      "avg / total       1.00      1.00      0.66      1.00      0.81      0.69     71202\n",
      "\n"
     ]
    }
   ],
   "source": [
    "\n",
    "clfRandomForest = RandomForestClassifier(random_state=42, n_estimators=10)\n",
    "clfRandomForest.fit(X_train, y_train)\n",
    "print(\"***** Random Forest *****\")\n",
    "print(classification_report_imbalanced(y_test, clfRandomForest.predict(X_test)))\n",
    "\n",
    "clfSVM = SVC(kernel='linear', probability=True, C=1)\n",
    "clfSVM.fit(X_train, y_train)\n",
    "print(\"***** Linear SVM *****\")\n",
    "print(classification_report_imbalanced(y_test, clfSVM.predict(X_test)))\n",
    "\n",
    "clfNB = MultinomialNB(alpha = 0.1)\n",
    "clfNB.fit(X_train, y_train)\n",
    "print(\"***** Naive Bayes *****\")\n",
    "print(classification_report_imbalanced(y_test, clfNB.predict(X_test)))\n"
   ]
  },
  {
   "cell_type": "markdown",
   "metadata": {},
   "source": [
    "# SMOTE WITH TOMEK LINKS\n",
    "A Tomek’s link exist if the two samples are the nearest neighbors of each other. If one of them is noise or both are near a hyperplane which is seperating the classes we remove them. As before we check our dataset which have 0.17% of fraud transactions before the apply and after that it has 50%."
   ]
  },
  {
   "cell_type": "code",
   "execution_count": 9,
   "metadata": {},
   "outputs": [
    {
     "name": "stdout",
     "output_type": "stream",
     "text": [
      "Total rows in original data:28480\n",
      "Percentage of fraud counts in original dataset:0.1727485630620034%\n",
      "Percentage of fraud counts in the new data:50.0%\n"
     ]
    }
   ],
   "source": [
    "# Apply SMOTE with Tomek Links to create synthetic observations from minority class\n",
    "\n",
    "ee = SMOTETomek()\n",
    "X_train,y_train  = ee.fit_sample(X,y)\n",
    "\n",
    "#Number of records in original data\n",
    "print('Total rows in original data:{}'.format(X.shape[0]))\n",
    "\n",
    "# Percentage of fraudlent records in original data\n",
    "\n",
    "No_fraud_counts = len(myData[myData['Class']==0])\n",
    "Fraud_counts = len(myData[myData['Class']==1])\n",
    "print('Percentage of fraud counts in original dataset:{}%'.format((Fraud_counts*100)/(No_fraud_counts+Fraud_counts)))\n",
    "\n",
    "#Percentage of fraudlent records in sampled data\n",
    "\n",
    "Sampled_data_no_fraud_counts = len(y_train[y_train==0])\n",
    "Sampled_data_fraud_counts = len(y_train[y_train==1])\n",
    "print('Percentage of fraud counts in the new data:{}%'.format((Sampled_data_fraud_counts*100)/(Sampled_data_no_fraud_counts+Sampled_data_fraud_counts)))\n",
    "\n",
    "\n"
   ]
  },
  {
   "cell_type": "markdown",
   "metadata": {
    "colab_type": "text",
    "id": "Wqbhrp28kt0D"
   },
   "source": [
    "Check Random Forest, Linear SVM and Naive Bayes after making our dataset balanced with SMOT. Then we will use the appropriate metrics to see our results."
   ]
  },
  {
   "cell_type": "code",
   "execution_count": 10,
   "metadata": {},
   "outputs": [
    {
     "name": "stdout",
     "output_type": "stream",
     "text": [
      "***** Random Forest *****\n",
      "                   pre       rec       spe        f1       geo       iba       sup\n",
      "\n",
      "          0       1.00      1.00      0.11      1.00      0.33      0.12     71089\n",
      "          1       1.00      0.11      1.00      0.19      0.33      0.10       113\n",
      "\n",
      "avg / total       1.00      1.00      0.11      1.00      0.33      0.12     71202\n",
      "\n",
      "***** Linear SVM *****\n",
      "                   pre       rec       spe        f1       geo       iba       sup\n",
      "\n",
      "          0       1.00      1.00      0.56      1.00      0.75      0.58     71089\n",
      "          1       0.74      0.56      1.00      0.64      0.75      0.53       113\n",
      "\n",
      "avg / total       1.00      1.00      0.56      1.00      0.75      0.58     71202\n",
      "\n",
      "***** Naive Bayes *****\n",
      "                   pre       rec       spe        f1       geo       iba       sup\n",
      "\n",
      "          0       1.00      1.00      0.66      1.00      0.81      0.69     71089\n",
      "          1       0.77      0.66      1.00      0.71      0.81      0.64       113\n",
      "\n",
      "avg / total       1.00      1.00      0.66      1.00      0.81      0.69     71202\n",
      "\n"
     ]
    }
   ],
   "source": [
    "clfRandomForest = RandomForestClassifier(random_state=42, n_estimators=10)\n",
    "clfRandomForest.fit(X_train, y_train)\n",
    "print(\"***** Random Forest *****\")\n",
    "print(classification_report_imbalanced(y_test, clfRandomForest.predict(X_test)))\n",
    "\n",
    "clfSVM = SVC(kernel='linear', probability=True, C=1)\n",
    "clfSVM.fit(X_train, y_train)\n",
    "print(\"***** Linear SVM *****\")\n",
    "print(classification_report_imbalanced(y_test, clfSVM.predict(X_test)))\n",
    "\n",
    "clfNB = MultinomialNB(alpha = 0.1)\n",
    "clfNB.fit(X_train, y_train)\n",
    "print(\"***** Naive Bayes *****\")\n",
    "print(classification_report_imbalanced(y_test, clfNB.predict(X_test)))\n"
   ]
  },
  {
   "cell_type": "markdown",
   "metadata": {},
   "source": [
    "# Conclusion and Top 3 results\n",
    "\n",
    "Naive Bayes seems to work better with this dataset. The best results seemed to be those which Naive Bayes and NearMiss were compined. If we check our methods, we see that NearMiss has the best results followed by Easy Ensemble and then SMOTE and SMOTE with Tomek Links. There is a little difference between the last two methods but SMOTE seems to work a little bit better than SMOTE with Tomek Links. "
   ]
  }
 ],
 "metadata": {
  "kernelspec": {
   "display_name": "Python 3",
   "language": "python",
   "name": "python3"
  },
  "language_info": {
   "codemirror_mode": {
    "name": "ipython",
    "version": 3
   },
   "file_extension": ".py",
   "mimetype": "text/x-python",
   "name": "python",
   "nbconvert_exporter": "python",
   "pygments_lexer": "ipython3",
   "version": "3.6.5"
  }
 },
 "nbformat": 4,
 "nbformat_minor": 2
}
