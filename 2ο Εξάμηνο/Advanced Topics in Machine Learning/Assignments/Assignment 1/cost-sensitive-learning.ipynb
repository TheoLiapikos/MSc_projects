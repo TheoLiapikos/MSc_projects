{
 "cells": [
  {
   "cell_type": "markdown",
   "metadata": {},
   "source": [
    "First let's see some classification hypothesis evaluation functions treating equally the different classes"
   ]
  },
  {
   "cell_type": "code",
   "execution_count": 2,
   "metadata": {},
   "outputs": [
    {
     "data": {
      "image/png": "[encoded data removed]",
      "text/plain": [
       "<Figure size 432x288 with 1 Axes>"
      ]
     },
     "metadata": {
      "needs_background": "light"
     },
     "output_type": "display_data"
    }
   ],
   "source": [
    "import numpy as np\n",
    "import matplotlib.pyplot as plt\n",
    "\n",
    "step = 0.001\n",
    "x_axis = np.arange(step,1,step)\n",
    "y1_axis = -np.log(x_axis)\n",
    "y2_axis = -np.log(1-x_axis)\n",
    "plt.plot(x_axis,y1_axis, label = '$-log(h_{\\\\theta}(x))$')\n",
    "plt.plot(x_axis,y2_axis, label = '$-log(1-h_{\\\\theta}(x))$')\n",
    "plt.legend(loc='upper center', prop={'size': 14})\n",
    "plt.show()"
   ]
  },
  {
   "cell_type": "markdown",
   "metadata": {},
   "source": [
    "### Now let's do cost-based evaluation. \n",
    "\n",
    "We must install the latest version of the costcla library using the following command at the command line:\n",
    "pip install git+git://github.com/albahnsen/CostSensitiveClassification.git"
   ]
  },
  {
   "cell_type": "code",
   "execution_count": 2,
   "metadata": {},
   "outputs": [
    {
     "name": "stderr",
     "output_type": "stream",
     "text": [
      "/home/theo/.local/lib/python3.6/site-packages/sklearn/ensemble/weight_boosting.py:29: DeprecationWarning: numpy.core.umath_tests is an internal NumPy module and should not be imported. It will be removed in a future NumPy release.\n",
      "  from numpy.core.umath_tests import inner1d\n",
      "/home/theo/.local/lib/python3.6/site-packages/sklearn/cross_validation.py:41: DeprecationWarning: This module was deprecated in version 0.18 in favor of the model_selection module into which all the refactored classes and functions are moved. Also note that the interface of the new CV iterators are different from that of this module. This module will be removed in 0.20.\n",
      "  \"This module will be removed in 0.20.\", DeprecationWarning)\n"
     ]
    },
    {
     "name": "stdout",
     "output_type": "stream",
     "text": [
      "random forest\n",
      "             precision    recall  f1-score   support\n",
      "\n",
      "  malignant       0.94      0.95      0.94        63\n",
      "     benign       0.97      0.96      0.97       108\n",
      "\n",
      "avg / total       0.96      0.96      0.96       171\n",
      "\n",
      "16\n",
      "\n",
      "[[ 60   4]\n",
      " [  3 104]]\n",
      "linear SVM\n",
      "             precision    recall  f1-score   support\n",
      "\n",
      "  malignant       0.92      0.97      0.95        63\n",
      "     benign       0.98      0.95      0.97       108\n",
      "\n",
      "avg / total       0.96      0.96      0.96       171\n",
      "\n",
      "13\n",
      "\n",
      "[[ 61   5]\n",
      " [  2 103]]\n"
     ]
    }
   ],
   "source": [
    "import numpy as np\n",
    "from sklearn.datasets import load_breast_cancer\n",
    "from sklearn.model_selection import train_test_split\n",
    "from sklearn.metrics import confusion_matrix, classification_report\n",
    "from sklearn.svm import SVC\n",
    "from sklearn.ensemble import RandomForestClassifier\n",
    "from costcla.metrics import cost_loss\n",
    "\n",
    "data = load_breast_cancer()\n",
    "X_train, X_test, y_train, y_test = train_test_split(data.data, data.target, test_size=0.3, random_state=0)\n",
    "\n",
    "# 0 is malignant, 1 is benign\n",
    "#fp, fn, tp, tn\n",
    "fp = np.full((y_test.shape[0],1), 4)\n",
    "fn = np.full((y_test.shape[0],1), 1)\n",
    "tp = np.zeros((y_test.shape[0],1))\n",
    "tn = np.zeros((y_test.shape[0],1))\n",
    "cost_matrix = np.hstack((fp, fn, tp, tn))\n",
    "\n",
    "print(\"random forest\")\n",
    "clf = RandomForestClassifier(n_estimators=100, random_state=0).fit(X_train, y_train)\n",
    "y_pred = clf.predict(X_test)\n",
    "\n",
    "print(classification_report(y_test, y_pred, target_names=data.target_names))\n",
    "loss = cost_loss(y_test, y_pred, cost_matrix)\n",
    "print(\"%d\\n\" %loss)\n",
    "print(confusion_matrix(y_test, y_pred).T) # transpose to align with slides\n",
    "\n",
    "\n",
    "print(\"linear SVM\")\n",
    "clf = SVC(kernel='linear', probability=True, C=1).fit(X_train, y_train)\n",
    "y_pred = clf.predict(X_test)\n",
    "\n",
    "print(classification_report(y_test, y_pred, target_names=data.target_names))\n",
    "loss = cost_loss(y_test, y_pred, cost_matrix)\n",
    "print(\"%d\\n\" %loss)\n",
    "print(confusion_matrix(y_test, y_pred).T) # transpose to align with slides"
   ]
  },
  {
   "cell_type": "markdown",
   "metadata": {},
   "source": [
    "### Minizing the expected cost"
   ]
  },
  {
   "cell_type": "code",
   "execution_count": 16,
   "metadata": {},
   "outputs": [
    {
     "name": "stdout",
     "output_type": "stream",
     "text": [
      "Collecting scikit-learn==0.19\n",
      "  Downloading https://files.pythonhosted.org/packages/a4/b3/209652a5d60ce4a2a8a35ad893d7565bbb0f87ce043264ba5c9e7de304cd/scikit_learn-0.19.0-cp36-cp36m-manylinux1_x86_64.whl (12.4MB)\n",
      "\u001b[K    100% |████████████████████████████████| 12.4MB 89kB/s \n",
      "\u001b[?25hInstalling collected packages: scikit-learn\n",
      "Successfully installed scikit-learn-0.19.0\n",
      "Note: you may need to restart the kernel to use updated packages.\n"
     ]
    }
   ],
   "source": [
    "pip install scikit-learn==0.19"
   ]
  },
  {
   "cell_type": "code",
   "execution_count": 4,
   "metadata": {},
   "outputs": [
    {
     "data": {
      "text/plain": [
       "array(['malignant', 'benign'], dtype='<U9')"
      ]
     },
     "execution_count": 4,
     "metadata": {},
     "output_type": "execute_result"
    }
   ],
   "source": [
    "data.target_names"
   ]
  },
  {
   "cell_type": "code",
   "execution_count": 3,
   "metadata": {},
   "outputs": [
    {
     "name": "stdout",
     "output_type": "stream",
     "text": [
      "no cost minimization\n",
      "             precision    recall  f1-score   support\n",
      "\n",
      "  malignant       0.94      0.95      0.94        63\n",
      "     benign       0.97      0.96      0.97       108\n",
      "\n",
      "avg / total       0.96      0.96      0.96       171\n",
      "\n",
      "16\n",
      "\n",
      "[[ 60   4]\n",
      " [  3 104]]\n",
      "no calibration\n",
      "             precision    recall  f1-score   support\n",
      "\n",
      "  malignant       0.79      1.00      0.88        63\n",
      "     benign       1.00      0.84      0.91       108\n",
      "\n",
      "avg / total       0.92      0.90      0.90       171\n",
      "\n",
      "17\n",
      "\n",
      "[[63 17]\n",
      " [ 0 91]]\n",
      "costcla calibration on training set\n",
      "             precision    recall  f1-score   support\n",
      "\n",
      "  malignant       0.89      0.98      0.93        63\n",
      "     benign       0.99      0.93      0.96       108\n",
      "\n",
      "avg / total       0.95      0.95      0.95       171\n",
      "\n",
      "12\n",
      "\n",
      "[[ 62   8]\n",
      " [  1 100]]\n",
      "\n",
      "sigmoid calibration\n",
      "             precision    recall  f1-score   support\n",
      "\n",
      "  malignant       0.85      1.00      0.92        63\n",
      "     benign       1.00      0.90      0.95       108\n",
      "\n",
      "avg / total       0.95      0.94      0.94       171\n",
      "\n",
      "11\n",
      "\n",
      "[[63 11]\n",
      " [ 0 97]]\n",
      "\n",
      "isotonic calibration\n",
      "             precision    recall  f1-score   support\n",
      "\n",
      "  malignant       0.85      1.00      0.92        63\n",
      "     benign       1.00      0.90      0.95       108\n",
      "\n",
      "avg / total       0.95      0.94      0.94       171\n",
      "\n",
      "11\n",
      "\n",
      "[[63 11]\n",
      " [ 0 97]]\n"
     ]
    }
   ],
   "source": [
    "from sklearn.ensemble import RandomForestClassifier\n",
    "from sklearn.calibration import CalibratedClassifierCV\n",
    "from costcla.models import BayesMinimumRiskClassifier\n",
    "\n",
    "data = load_breast_cancer()\n",
    "X_train, X_test, y_train, y_test = train_test_split(data.data, data.target, test_size=0.3, random_state=0)\n",
    "# 0 is malignant, 1 is benign\n",
    "#fp, fn, tp, tn\n",
    "fp = np.full((y_test.shape[0],1), 4)\n",
    "fn = np.full((y_test.shape[0],1), 1)\n",
    "tp = np.zeros((y_test.shape[0],1))\n",
    "tn = np.zeros((y_test.shape[0],1))\n",
    "cost_matrix = np.hstack((fp, fn, tp, tn))\n",
    "\n",
    "print(\"no cost minimization\")\n",
    "clf = RandomForestClassifier(random_state=0, n_estimators=100)\n",
    "model = clf.fit(X_train, y_train)\n",
    "pred_test = model.predict(X_test)\n",
    "print(classification_report(y_test, pred_test, target_names=data.target_names))\n",
    "loss = cost_loss(y_test, pred_test, cost_matrix)\n",
    "print(\"%d\\n\" %loss)\n",
    "print(confusion_matrix(y_test, pred_test).T) # transpose to align with slides\n",
    "\n",
    "\n",
    "print(\"no calibration\")\n",
    "clf = RandomForestClassifier(random_state=0, n_estimators=100)\n",
    "model = clf.fit(X_train, y_train)\n",
    "prob_test = model.predict_proba(X_test)\n",
    "bmr = BayesMinimumRiskClassifier(calibration=False)\n",
    "pred_test = bmr.predict(prob_test, cost_matrix)\n",
    "print(classification_report(y_test, pred_test, target_names=data.target_names))\n",
    "loss = cost_loss(y_test, pred_test, cost_matrix)\n",
    "print(\"%d\\n\" %loss)\n",
    "print(confusion_matrix(y_test, pred_test).T) # transpose to align with slides\n",
    "\n",
    "print(\"costcla calibration on training set\")\n",
    "clf = RandomForestClassifier(random_state=0, n_estimators=100)\n",
    "model = clf.fit(X_train, y_train)\n",
    "prob_train = model.predict_proba(X_train)\n",
    "bmr = BayesMinimumRiskClassifier(calibration=True)\n",
    "bmr.fit(y_train, prob_train) \n",
    "prob_test = model.predict_proba(X_test)\n",
    "pred_test = bmr.predict(prob_test, cost_matrix)\n",
    "print(classification_report(y_test, pred_test, target_names=data.target_names))\n",
    "loss = cost_loss(y_test, pred_test, cost_matrix)\n",
    "print(\"%d\\n\" %loss)\n",
    "print(confusion_matrix(y_test, pred_test).T) # transpose to align with slides\n",
    "\n",
    "print(\"\\nsigmoid calibration\")\n",
    "clf = RandomForestClassifier(random_state=0, n_estimators=100)\n",
    "cc = CalibratedClassifierCV(clf, method=\"sigmoid\", cv=3)\n",
    "model = cc.fit(X_train, y_train)\n",
    "prob_test = model.predict_proba(X_test)\n",
    "bmr = BayesMinimumRiskClassifier(calibration=False)\n",
    "pred_test = bmr.predict(prob_test, cost_matrix)\n",
    "print(classification_report(y_test, pred_test, target_names=data.target_names))\n",
    "loss = cost_loss(y_test, pred_test, cost_matrix)\n",
    "print(\"%d\\n\" %loss)\n",
    "print(confusion_matrix(y_test, pred_test).T) # transpose to align with slides\n",
    "\n",
    "print(\"\\nisotonic calibration\")\n",
    "clf = RandomForestClassifier(random_state=0, n_estimators=100)\n",
    "cc = CalibratedClassifierCV(clf, method=\"isotonic\", cv=3)\n",
    "model = cc.fit(X_train, y_train)\n",
    "prob_test = model.predict_proba(X_test)\n",
    "bmr = BayesMinimumRiskClassifier(calibration=False)\n",
    "pred_test = bmr.predict(prob_test, cost_matrix)\n",
    "print(classification_report(y_test, pred_test, target_names=data.target_names))\n",
    "loss = cost_loss(y_test, pred_test, cost_matrix)\n",
    "print(\"%d\\n\" %loss)\n",
    "print(confusion_matrix(y_test, pred_test).T) # transpose to align with slides"
   ]
  },
  {
   "cell_type": "markdown",
   "metadata": {},
   "source": [
    "Rebalancing\n",
    "pip install -U git+https://github.com/scikit-learn-contrib/imbalanced-learn.git"
   ]
  },
  {
   "cell_type": "code",
   "execution_count": 3,
   "metadata": {},
   "outputs": [
    {
     "name": "stdout",
     "output_type": "stream",
     "text": [
      "without sampling\n",
      "Counter({1: 249, 0: 149})\n",
      "             precision    recall  f1-score   support\n",
      "\n",
      "  malignant       0.94      0.95      0.94        63\n",
      "     benign       0.97      0.96      0.97       108\n",
      "\n",
      "avg / total       0.96      0.96      0.96       171\n",
      "\n",
      "16\n",
      "\n",
      "[[ 60   4]\n",
      " [  3 104]]\n",
      "with undersampling\n",
      "Counter({0: 149, 1: 37})\n",
      "             precision    recall  f1-score   support\n",
      "\n",
      "  malignant       0.77      1.00      0.87        63\n",
      "     benign       1.00      0.82      0.90       108\n",
      "\n",
      "avg / total       0.91      0.89      0.89       171\n",
      "\n",
      "19\n",
      "\n",
      "[[63 19]\n",
      " [ 0 89]]\n",
      "with oversampling\n",
      "Counter({0: 1000, 1: 249})\n"
     ]
    },
    {
     "name": "stderr",
     "output_type": "stream",
     "text": [
      "/usr/local/lib/python3.6/dist-packages/imblearn/utils/_validation.py:257: UserWarning: After over-sampling, the number of samples (1000) in class 0 will be larger than the number of samples in the majority class (class #1 -> 249)\n",
      "  n_samples_majority))\n"
     ]
    },
    {
     "name": "stdout",
     "output_type": "stream",
     "text": [
      "             precision    recall  f1-score   support\n",
      "\n",
      "  malignant       0.92      0.95      0.94        63\n",
      "     benign       0.97      0.95      0.96       108\n",
      "\n",
      "avg / total       0.95      0.95      0.95       171\n",
      "\n",
      "17\n",
      "\n",
      "[[ 60   5]\n",
      " [  3 103]]\n",
      "with combination\n",
      "Counter({0: 400, 1: 100})\n"
     ]
    },
    {
     "name": "stderr",
     "output_type": "stream",
     "text": [
      "/usr/local/lib/python3.6/dist-packages/imblearn/utils/_validation.py:257: UserWarning: After over-sampling, the number of samples (400) in class 0 will be larger than the number of samples in the majority class (class #0 -> 149)\n",
      "  n_samples_majority))\n"
     ]
    },
    {
     "name": "stdout",
     "output_type": "stream",
     "text": [
      "             precision    recall  f1-score   support\n",
      "\n",
      "  malignant       0.84      1.00      0.91        63\n",
      "     benign       1.00      0.89      0.94       108\n",
      "\n",
      "avg / total       0.94      0.93      0.93       171\n",
      "\n",
      "12\n",
      "\n",
      "[[63 12]\n",
      " [ 0 96]]\n"
     ]
    }
   ],
   "source": [
    "import numpy as np\n",
    "from sklearn.datasets import load_breast_cancer\n",
    "from sklearn.model_selection import train_test_split\n",
    "from sklearn.metrics import confusion_matrix, classification_report\n",
    "from sklearn.svm import SVC\n",
    "from sklearn.ensemble import RandomForestClassifier\n",
    "from costcla.metrics import cost_loss\n",
    "from imblearn.under_sampling import RandomUnderSampler\n",
    "from imblearn.over_sampling import RandomOverSampler\n",
    "from collections import Counter\n",
    "\n",
    "data = load_breast_cancer()\n",
    "X_train, X_test, y_train, y_test = train_test_split(data.data, data.target, test_size=0.3, random_state=0)\n",
    "\n",
    "# 0 is malignant, 1 is benign\n",
    "#fp, fn, tp, tn\n",
    "fp = np.full((y_test.shape[0],1), 4)\n",
    "fn = np.full((y_test.shape[0],1), 1)\n",
    "tp = np.zeros((y_test.shape[0],1))\n",
    "tn = np.zeros((y_test.shape[0],1))\n",
    "cost_matrix = np.hstack((fp, fn, tp, tn))\n",
    "\n",
    "\n",
    "clf = RandomForestClassifier(n_estimators=100, random_state=0)\n",
    "print(\"without sampling\")\n",
    "print(Counter(y_train))\n",
    "#0: 149, 1: 249\n",
    "\n",
    "model = clf.fit(X_train, y_train)\n",
    "y_pred = model.predict(X_test)\n",
    "\n",
    "print(classification_report(y_test, y_pred, target_names=data.target_names))\n",
    "loss = cost_loss(y_test, y_pred, cost_matrix)\n",
    "print(\"%d\\n\" %loss)\n",
    "print(confusion_matrix(y_test, y_pred).T) # transpose to align with slides\n",
    "\n",
    "print(\"with undersampling\")\n",
    "sampler = RandomUnderSampler(sampling_strategy={0: 149, 1: 37}, random_state=1)\n",
    "X_rs, y_rs = sampler.fit_sample(X_train, y_train)\n",
    "print(Counter(y_rs))\n",
    "\n",
    "model = clf.fit(X_rs, y_rs)\n",
    "y_pred = clf.predict(X_test)\n",
    "\n",
    "print(classification_report(y_test, y_pred, target_names=data.target_names))\n",
    "loss = cost_loss(y_test, y_pred, cost_matrix)\n",
    "print(\"%d\\n\" %loss)\n",
    "print(confusion_matrix(y_test, y_pred).T) # transpose to align with slides\n",
    "\n",
    "print(\"with oversampling\")\n",
    "sampler = RandomOverSampler(sampling_strategy={0: 1000, 1: 249}, random_state=1)\n",
    "X_rs, y_rs = sampler.fit_sample(X_train, y_train)\n",
    "print(Counter(y_rs))\n",
    "\n",
    "model = clf.fit(X_rs, y_rs)\n",
    "y_pred = clf.predict(X_test)\n",
    "\n",
    "print(classification_report(y_test, y_pred, target_names=data.target_names))\n",
    "loss = cost_loss(y_test, y_pred, cost_matrix)\n",
    "print(\"%d\\n\" %loss)\n",
    "print(confusion_matrix(y_test, y_pred).T) # transpose to align with slides\n",
    "\n",
    "print(\"with combination\")\n",
    "sampler = RandomUnderSampler(sampling_strategy={0: 149, 1: 100}, random_state=1)\n",
    "X_rs, y_rs = sampler.fit_sample(X_train, y_train)\n",
    "sampler = RandomOverSampler(sampling_strategy={0: 400, 1: 100}, random_state=1)\n",
    "X_rs, y_rs = sampler.fit_sample(X_rs, y_rs)\n",
    "print(Counter(y_rs))\n",
    "\n",
    "model = clf.fit(X_rs, y_rs)\n",
    "y_pred = clf.predict(X_test)\n",
    "\n",
    "print(classification_report(y_test, y_pred, target_names=data.target_names))\n",
    "loss = cost_loss(y_test, y_pred, cost_matrix)\n",
    "print(\"%d\\n\" %loss)\n",
    "print(confusion_matrix(y_test, y_pred).T) # transpose to align with slides\n"
   ]
  },
  {
   "cell_type": "markdown",
   "metadata": {},
   "source": [
    "Using sample weights"
   ]
  },
  {
   "cell_type": "code",
   "execution_count": 6,
   "metadata": {},
   "outputs": [
    {
     "name": "stdout",
     "output_type": "stream",
     "text": [
      "without weights\n",
      "              precision    recall  f1-score   support\n",
      "\n",
      "   malignant       0.91      0.94      0.92        63\n",
      "      benign       0.96      0.94      0.95       108\n",
      "\n",
      "   micro avg       0.94      0.94      0.94       171\n",
      "   macro avg       0.93      0.94      0.94       171\n",
      "weighted avg       0.94      0.94      0.94       171\n",
      "\n",
      "22\n",
      "\n",
      "[[ 59   6]\n",
      " [  4 102]]\n",
      "\n",
      "with weights\n",
      "              precision    recall  f1-score   support\n",
      "\n",
      "   malignant       0.95      0.94      0.94        63\n",
      "      benign       0.96      0.97      0.97       108\n",
      "\n",
      "   micro avg       0.96      0.96      0.96       171\n",
      "   macro avg       0.96      0.95      0.96       171\n",
      "weighted avg       0.96      0.96      0.96       171\n",
      "\n",
      "19\n",
      "\n",
      "[[ 59   3]\n",
      " [  4 105]]\n"
     ]
    }
   ],
   "source": [
    "import numpy as np\n",
    "from sklearn.datasets import load_breast_cancer\n",
    "from sklearn.model_selection import train_test_split\n",
    "from sklearn.metrics import confusion_matrix, classification_report\n",
    "from sklearn.svm import SVC\n",
    "from sklearn.ensemble import RandomForestClassifier\n",
    "from sklearn.tree import DecisionTreeClassifier\n",
    "from costcla.metrics import cost_loss\n",
    "\n",
    "data = load_breast_cancer()\n",
    "X_train, X_test, y_train, y_test = train_test_split(data.data, data.target, test_size=0.3, random_state=0)\n",
    "\n",
    "# 0 is malignant, 1 is benign\n",
    "#fp, fn, tp, tn\n",
    "fp = np.full((y_test.shape[0],1), 4)\n",
    "fn = np.full((y_test.shape[0],1), 1)\n",
    "tp = np.zeros((y_test.shape[0],1))\n",
    "tn = np.zeros((y_test.shape[0],1))\n",
    "cost_matrix = np.hstack((fp, fn, tp, tn))\n",
    "\n",
    "print(\"without weights\")\n",
    "clf = RandomForestClassifier(n_estimators=10, random_state=0)\n",
    "#clf = SVC(kernel='linear', probability=False, C=1)\n",
    "#clf = DecisionTreeClassifier()\n",
    "model = clf.fit(X_train, y_train)\n",
    "pred_test = model.predict(X_test)\n",
    "\n",
    "print(classification_report(y_test, pred_test, target_names=data.target_names))\n",
    "loss = cost_loss(y_test, pred_test, cost_matrix)\n",
    "print(\"%d\\n\" %loss)\n",
    "print(confusion_matrix(y_test, pred_test).T) # transpose to align with slides\n",
    "\n",
    "print(\"\\nwith weights\")\n",
    "# now create the sample weights according to y\n",
    "weights = np.zeros(y_train.shape[0])\n",
    "weights[np.where(y_train == 1)] = 1;\n",
    "weights[np.where(y_train == 0)] = 4;\n",
    "#print(data.DESCR)\n",
    "\n",
    "model = clf.fit(X_train, y_train, weights)\n",
    "pred_test = clf.predict(X_test)\n",
    "\n",
    "print(classification_report(y_test, pred_test, target_names=data.target_names))\n",
    "loss = cost_loss(y_test, pred_test, cost_matrix)\n",
    "print(\"%d\\n\" %loss)\n",
    "print(confusion_matrix(y_test, pred_test).T) # transpose to align with slides"
   ]
  },
  {
   "cell_type": "markdown",
   "metadata": {},
   "source": [
    "Another probability calibration example"
   ]
  },
  {
   "cell_type": "code",
   "execution_count": 12,
   "metadata": {},
   "outputs": [
    {
     "name": "stdout",
     "output_type": "stream",
     "text": [
      "    AdaBoost-ed tree log_loss: -2.84 (+/- 2.39), time:0.1369\n",
      "calibrated AdaBoost-ed tree (isotonic) log_loss: -0.22 (+/- 0.11), time:0.2115\n",
      "calibrated AdaBoost-ed tree (sigmoid) log_loss: -0.23 (+/- 0.11), time:0.2658\n",
      "                 kNN log_loss: -0.56 (+/- 0.89), time:0.0517\n",
      "calibrated kNN (isotonic) log_loss: -0.23 (+/- 0.36), time:0.1819\n",
      "calibrated kNN (sigmoid) log_loss: -0.20 (+/- 0.11), time:0.2366\n",
      "\n",
      "    AdaBoost-ed tree squared error: -0.08 (+/- 0.07), time:0.1338\n",
      "calibrated AdaBoost-ed tree (isotonic) squared error: -0.07 (+/- 0.07), time:0.1939\n",
      "calibrated AdaBoost-ed tree (sigmoid) squared error: -0.07 (+/- 0.07), time:0.2536\n",
      "                 kNN squared error: -0.07 (+/- 0.07), time:0.0596\n",
      "calibrated kNN (isotonic) squared error: -0.06 (+/- 0.06), time:0.1869\n",
      "calibrated kNN (sigmoid) squared error: -0.07 (+/- 0.06), time:0.2454\n"
     ]
    }
   ],
   "source": [
    "import time\n",
    "from sklearn import datasets\n",
    "from sklearn import tree\n",
    "from sklearn.model_selection import cross_val_score\n",
    "from sklearn.ensemble import BaggingClassifier\n",
    "from sklearn.neighbors import KNeighborsClassifier\n",
    "from sklearn.neural_network import MLPClassifier\n",
    "from sklearn.svm import LinearSVC\n",
    "from sklearn.calibration import CalibratedClassifierCV\n",
    "from sklearn.datasets import fetch_mldata\n",
    "from sklearn.ensemble import AdaBoostClassifier\n",
    "\n",
    "#data = datasets.load_breast_cancer()\n",
    "#data = datasets.load_iris()\n",
    "#data = datasets.load_digits()\n",
    "#data = fetch_mldata('datasets-UCI credit-g')\n",
    "#data = fetch_mldata('MNIST original')\n",
    "\n",
    "classifiers = []\n",
    "\n",
    "ada = AdaBoostClassifier(base_estimator=tree.DecisionTreeClassifier(),n_estimators=100, random_state=1)\n",
    "classifiers.append([ada, \"AdaBoost-ed tree\"])\n",
    "\n",
    "ada_cal = CalibratedClassifierCV(AdaBoostClassifier(base_estimator=tree.DecisionTreeClassifier(),n_estimators=100, random_state=1), cv=2, method='isotonic')\n",
    "classifiers.append([ada_cal, \"calibrated AdaBoost-ed tree (isotonic)\"])\n",
    "\n",
    "ada_cal2 = CalibratedClassifierCV(AdaBoostClassifier(base_estimator=tree.DecisionTreeClassifier(),n_estimators=100, random_state=1), cv=2, method='sigmoid')\n",
    "classifiers.append([ada_cal2, \"calibrated AdaBoost-ed tree (sigmoid)\"])\n",
    "\n",
    "neighbors = 10;\n",
    "knn = KNeighborsClassifier(n_neighbors=neighbors)\n",
    "classifiers.append([knn, \"kNN\"])\n",
    "\n",
    "knn_cal = CalibratedClassifierCV(KNeighborsClassifier(n_neighbors=neighbors), cv=2, method='isotonic')\n",
    "classifiers.append([knn_cal, \"calibrated kNN (isotonic)\"])\n",
    "\n",
    "knn_cal2 = CalibratedClassifierCV(KNeighborsClassifier(n_neighbors=neighbors), cv=2, method='sigmoid')\n",
    "classifiers.append([knn_cal2, \"calibrated kNN (sigmoid)\"])\n",
    "\n",
    "\n",
    "for classifier, label in classifiers:\n",
    "    start = time.time()\n",
    "    scores = cross_val_score(classifier, data.data, data.target, cv=10, scoring=\"neg_log_loss\")\n",
    "    stop = time.time()\n",
    "    print(\"%20s log_loss: %0.2f (+/- %0.2f), time:%.4f\" % (label, scores.mean(), scores.std() * 2, stop - start))\n",
    "\n",
    "print()\n",
    "\n",
    "for classifier, label in classifiers:\n",
    "    start = time.time()\n",
    "    scores = cross_val_score(classifier, data.data, data.target, cv=10, scoring=\"neg_mean_squared_error\")\n",
    "    stop = time.time()\n",
    "    print(\"%20s squared error: %0.2f (+/- %0.2f), time:%.4f\" % (label, scores.mean(), scores.std() * 2, stop - start))"
   ]
  },
  {
   "cell_type": "code",
   "execution_count": null,
   "metadata": {},
   "outputs": [],
   "source": []
  }
 ],
 "metadata": {
  "kernelspec": {
   "display_name": "Python 3",
   "language": "python",
   "name": "python3"
  },
  "language_info": {
   "codemirror_mode": {
    "name": "ipython",
    "version": 3
   },
   "file_extension": ".py",
   "mimetype": "text/x-python",
   "name": "python",
   "nbconvert_exporter": "python",
   "pygments_lexer": "ipython3",
   "version": "3.6.7"
  }
 },
 "nbformat": 4,
 "nbformat_minor": 2
}
